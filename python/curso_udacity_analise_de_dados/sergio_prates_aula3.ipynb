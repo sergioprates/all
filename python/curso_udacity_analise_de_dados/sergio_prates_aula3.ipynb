{
 "cells": [
  {
   "cell_type": "markdown",
   "metadata": {},
   "source": [
    "# Desafio 1"
   ]
  },
  {
   "cell_type": "code",
   "execution_count": 30,
   "metadata": {},
   "outputs": [],
   "source": [
    "class Circulo:\n",
    "    def __init__(self, raio = 1):\n",
    "        self.raio = raio\n",
    "        \n",
    "    @property\n",
    "    def raio(self):\n",
    "        return self._raio\n",
    "\n",
    "    @raio.setter\n",
    "    def raio(self, value):\n",
    "        if value <= 0:\n",
    "            raise ValueError(\"Raio deve ser maior que zero\")\n",
    "            \n",
    "        self._raio = value\n",
    "        \n",
    "    def obter_area(self):\n",
    "        return 3.14 * (self.raio) ** 2\n",
    "    \n",
    "    def obter_perimetro(self):\n",
    "        return 2 * 3.14 * self.raio"
   ]
  },
  {
   "cell_type": "code",
   "execution_count": 31,
   "metadata": {},
   "outputs": [
    {
     "name": "stdout",
     "output_type": "stream",
     "text": [
      "Área  314.0\n",
      "Perimetro  62.800000000000004\n"
     ]
    }
   ],
   "source": [
    "circulo = Circulo(10)\n",
    "\n",
    "print('Área ', circulo.obter_area())\n",
    "print('Perimetro ', circulo.obter_perimetro())"
   ]
  },
  {
   "cell_type": "markdown",
   "metadata": {},
   "source": [
    "# Desafio 2"
   ]
  },
  {
   "cell_type": "code",
   "execution_count": 32,
   "metadata": {},
   "outputs": [],
   "source": [
    "class Quadrado:\n",
    "    def __init__(self, lado = 1):\n",
    "        self.lado = lado\n",
    "        \n",
    "    @property\n",
    "    def lado(self):\n",
    "        return self._lado\n",
    "\n",
    "    @lado.setter\n",
    "    def lado(self, value):\n",
    "        if value <= 0:\n",
    "            raise ValueError(\"Lado deve ser maior que zero\")\n",
    "            \n",
    "        self._lado = value\n",
    "        \n",
    "    def mudar_valor_lado(self, lado):\n",
    "        self.lado = lado\n",
    "        \n",
    "    def retornar_valor_lado(self):\n",
    "        return self.lado\n",
    "    \n",
    "    def calcular_area(self):\n",
    "        return self.lado * self.lado"
   ]
  },
  {
   "cell_type": "code",
   "execution_count": 33,
   "metadata": {},
   "outputs": [
    {
     "name": "stdout",
     "output_type": "stream",
     "text": [
      "Mudando valor do lado  None\n",
      "Obtendo valor do lado  10\n",
      "Área do quadrado  100\n"
     ]
    }
   ],
   "source": [
    "quadrado = Quadrado(50)\n",
    "\n",
    "print('Mudando valor do lado ', quadrado.mudar_valor_lado(10))\n",
    "\n",
    "print('Obtendo valor do lado ', quadrado.retornar_valor_lado())\n",
    "\n",
    "print('Área do quadrado ', quadrado.calcular_area())"
   ]
  },
  {
   "cell_type": "markdown",
   "metadata": {},
   "source": [
    "# Desafio 3"
   ]
  },
  {
   "cell_type": "code",
   "execution_count": 34,
   "metadata": {},
   "outputs": [],
   "source": [
    "class Carro:\n",
    "    def __init__(self, combustivel = 0):\n",
    "        self.combustivel = combustivel\n",
    "        \n",
    "    @property\n",
    "    def combustivel(self):\n",
    "        return self._combustivel\n",
    "\n",
    "    @combustivel.setter\n",
    "    def combustivel(self, value):\n",
    "        if value < 0:\n",
    "            raise ValueError(\"Combustivel deve ser maior que zero\")    \n",
    "        \n",
    "        self._combustivel = value\n",
    "        \n",
    "    def mover(self, distancia):\n",
    "        self.combustivel -= (distancia * 3)\n",
    "    \n",
    "    def gasolina(self):\n",
    "        return self.combustivel\n",
    "    \n",
    "    def abastecer(self, litros):\n",
    "        self.combustivel += litros"
   ]
  },
  {
   "cell_type": "code",
   "execution_count": 35,
   "metadata": {},
   "outputs": [
    {
     "name": "stdout",
     "output_type": "stream",
     "text": [
      "Combustivel atual  100\n",
      "Movendo o carro  None\n",
      "Combustivel atual  70\n",
      "Abastecendo carro  None\n",
      "Combustivel atual  170\n"
     ]
    }
   ],
   "source": [
    "carro = Carro(100)\n",
    "print('Combustivel atual ', carro.gasolina())\n",
    "print('Movendo o carro ', carro.mover(10))\n",
    "print('Combustivel atual ', carro.gasolina())\n",
    "print('Abastecendo carro ', carro.abastecer(100))\n",
    "print('Combustivel atual ', carro.gasolina())"
   ]
  },
  {
   "cell_type": "code",
   "execution_count": null,
   "metadata": {},
   "outputs": [],
   "source": []
  }
 ],
 "metadata": {
  "kernelspec": {
   "display_name": "Python 3",
   "language": "python",
   "name": "python3"
  },
  "language_info": {
   "codemirror_mode": {
    "name": "ipython",
    "version": 3
   },
   "file_extension": ".py",
   "mimetype": "text/x-python",
   "name": "python",
   "nbconvert_exporter": "python",
   "pygments_lexer": "ipython3",
   "version": "3.7.0"
  }
 },
 "nbformat": 4,
 "nbformat_minor": 2
}
