{
 "cells": [
  {
   "cell_type": "markdown",
   "metadata": {},
   "source": [
    "# Aula 1"
   ]
  },
  {
   "cell_type": "code",
   "execution_count": 3,
   "metadata": {},
   "outputs": [
    {
     "ename": "SyntaxError",
     "evalue": "Missing parentheses in call to 'print'. Did you mean print(a, b, c)? (<ipython-input-3-3ebfca2ff5ef>, line 11)",
     "output_type": "error",
     "traceback": [
      "\u001b[1;36m  File \u001b[1;32m\"<ipython-input-3-3ebfca2ff5ef>\"\u001b[1;36m, line \u001b[1;32m11\u001b[0m\n\u001b[1;33m    print a, b, c\u001b[0m\n\u001b[1;37m          ^\u001b[0m\n\u001b[1;31mSyntaxError\u001b[0m\u001b[1;31m:\u001b[0m Missing parentheses in call to 'print'. Did you mean print(a, b, c)?\n"
     ]
    }
   ],
   "source": [
    "# -*- coding: latin1 -*-\n",
    "# Uma linha quebrada por contra-barra\n",
    "a = 7 * 3 + \\\n",
    "5 / 2\n",
    "# Uma lista (quebrada por vírgula)\n",
    "b = ['a', 'b', 'c',\n",
    "'d', 'e']\n",
    "# Uma chamada de função (quebrada por vírgula)\n",
    "c = range(1,\n",
    "11)\n",
    "# imprime todos na tela\n",
    "print a, b, c"
   ]
  },
  {
   "cell_type": "markdown",
   "metadata": {},
   "source": [
    "### O erro ocorreu devido à diferença de versões do python. Criamos um código na versão 2 e executamos na versão 3."
   ]
  },
  {
   "cell_type": "code",
   "execution_count": 5,
   "metadata": {},
   "outputs": [
    {
     "name": "stdout",
     "output_type": "stream",
     "text": [
      "23.5 ['a', 'b', 'c', 'd', 'e'] range(1, 11)\n"
     ]
    }
   ],
   "source": [
    "# Uma linha quebrada por contra-barra\n",
    "a = 7 * 3 + \\\n",
    "5 / 2\n",
    "# Uma lista (quebrada por vírgula)\n",
    "b = ['a', 'b', 'c',\n",
    "'d', 'e']\n",
    "# Uma chamada de função (quebrada por vírgula)\n",
    "c = range(1,\n",
    "11)\n",
    "# imprime todos na tela\n",
    "print (a, b, c)"
   ]
  },
  {
   "cell_type": "markdown",
   "metadata": {},
   "source": [
    "## Comentários"
   ]
  },
  {
   "cell_type": "code",
   "execution_count": null,
   "metadata": {},
   "outputs": [],
   "source": [
    "# caso simples\n",
    "\n",
    "\"\"\"\n",
    "Este é um exemplo de bloco de comentário\n",
    "Comentário em mais de uma linha\n",
    "É mais usado para Docstrings: documentação e teste do código em python\n",
    "\n",
    "Para saber mais, acesse: https://www.python.org/dev/peps/pep-0257/\n",
    "\"\"\""
   ]
  },
  {
   "cell_type": "markdown",
   "metadata": {},
   "source": [
    "## Edentação"
   ]
  },
  {
   "cell_type": "code",
   "execution_count": 6,
   "metadata": {},
   "outputs": [
    {
     "name": "stdout",
     "output_type": "stream",
     "text": [
      "234 / 3 = 78.0\n",
      "654 / 3 = 218.0\n",
      "378 / 3 = 126.0\n",
      "798 / 3 = 266.0\n"
     ]
    }
   ],
   "source": [
    "# Para i na lista 234, 654, 378, 798:\n",
    "for i in [234, 654, 378, 798]:\n",
    "# Se o resto dividindo por 3 for igual a zero:\n",
    "    if i % 3 == 0:\n",
    "    # Imprime...\n",
    "        print (i, '/ 3 =', i / 3)"
   ]
  },
  {
   "cell_type": "markdown",
   "metadata": {},
   "source": [
    "## Atributos e Métodos"
   ]
  },
  {
   "cell_type": "code",
   "execution_count": 9,
   "metadata": {},
   "outputs": [
    {
     "data": {
      "text/plain": [
       "10.0"
      ]
     },
     "execution_count": 9,
     "metadata": {},
     "output_type": "execute_result"
    }
   ],
   "source": [
    "import numpy as np\n",
    "\n",
    "x = np.ones(10) \n",
    "y = x.sum() #método\n",
    "\n",
    "y.argmax()\n",
    "y# atributo - retorna o índice do maior valor no vetor"
   ]
  },
  {
   "cell_type": "markdown",
   "metadata": {},
   "source": [
    "## Controle de Fluxo"
   ]
  },
  {
   "cell_type": "code",
   "execution_count": 11,
   "metadata": {},
   "outputs": [
    {
     "data": {
      "text/plain": [
       "'falso'"
      ]
     },
     "execution_count": 11,
     "metadata": {},
     "output_type": "execute_result"
    }
   ],
   "source": [
    "x = 'verdadeiro' if 1>0 else 'falso'\n",
    "x"
   ]
  },
  {
   "cell_type": "markdown",
   "metadata": {},
   "source": [
    "## Laços"
   ]
  },
  {
   "cell_type": "code",
   "execution_count": 12,
   "metadata": {},
   "outputs": [
    {
     "name": "stdout",
     "output_type": "stream",
     "text": [
      "4950\n"
     ]
    }
   ],
   "source": [
    "# usando for\n",
    "s = 0\n",
    "for x in range(1, 100):\n",
    "    s = s + x\n",
    "print (s)"
   ]
  },
  {
   "cell_type": "code",
   "execution_count": null,
   "metadata": {},
   "outputs": [],
   "source": [
    "# usando while\n",
    "s = 0\n",
    "x = 1\n",
    "while x < 100:\n",
    "    s = s + x\n",
    "    x = x + 1\n",
    "print (s)"
   ]
  },
  {
   "cell_type": "markdown",
   "metadata": {},
   "source": [
    "### Break, Continue e Pass"
   ]
  },
  {
   "cell_type": "code",
   "execution_count": 14,
   "metadata": {},
   "outputs": [
    {
     "name": "stdout",
     "output_type": "stream",
     "text": [
      "10\n",
      "9\n",
      "8\n",
      "7\n",
      "6\n",
      "5\n",
      "4\n",
      "3\n",
      "2\n",
      "1\n",
      "final\n"
     ]
    }
   ],
   "source": [
    "parada = 10\n",
    "inicio = 0\n",
    "\n",
    "while parada > 0:\n",
    "    print(parada)\n",
    "    parada -= 1\n",
    "    #if parada == 3:\n",
    "     #   break\n",
    "    #elif parada ==4:\n",
    "     #   continue\n",
    "    #else:\n",
    "    #    pass\n",
    "else:\n",
    "    print(\"final\")"
   ]
  },
  {
   "cell_type": "markdown",
   "metadata": {},
   "source": [
    "## Tipos de Dados"
   ]
  },
  {
   "cell_type": "code",
   "execution_count": 15,
   "metadata": {},
   "outputs": [
    {
     "name": "stdout",
     "output_type": "stream",
     "text": [
      "int(3.14) = 3\n",
      "float(5) = 5.0\n",
      "5.0 / 2 + 3 =  5.5\n",
      "5/4 ou 5.0/4.0 =  1\n",
      "c = (4+3j)\n",
      "Parte real: 4.0\n",
      "Parte imaginária: 3.0\n",
      "Conjugado: (4-3j)\n"
     ]
    }
   ],
   "source": [
    "print ('int(3.14) =', int(3.14)) # real para inteiro\n",
    "print ('float(5) =', float(5)) # inteiro para real\n",
    "print ('5.0 / 2 + 3 = ', 5.0 / 2 + 3) #Divisão que resulta em real\n",
    "print ('5/4 ou 5.0/4.0 = ',5//4) #divisão sem resto\n",
    "c = 4 + 3j #número complexo\n",
    "print ('c =', c)\n",
    "print ('Parte real:', c.real)\n",
    "print ('Parte imaginária:', c.imag)\n",
    "print ('Conjugado:', c.conjugate())"
   ]
  },
  {
   "cell_type": "markdown",
   "metadata": {},
   "source": [
    "### Strings"
   ]
  },
  {
   "cell_type": "code",
   "execution_count": 16,
   "metadata": {},
   "outputs": [
    {
     "name": "stdout",
     "output_type": "stream",
     "text": [
      "The Camel run away!\n",
      "tamanho de Camel => 5\n",
      "C\n",
      "a\n",
      "m\n",
      "e\n",
      "l\n"
     ]
    }
   ],
   "source": [
    "s = 'Camel'\n",
    "print ('The ' + s + ' run away!')\n",
    "print ('tamanho de %s => %d' % (s, len(s))) # interpolação\n",
    "for ch in s: print (ch)"
   ]
  },
  {
   "cell_type": "code",
   "execution_count": 17,
   "metadata": {},
   "outputs": [
    {
     "name": "stdout",
     "output_type": "stream",
     "text": [
      "Agora são 16:30.\n",
      "Percentagem: 5.3%, Exponencial:3.14e-03\n",
      "Decimal: 10, Octal: 12, Hexadecimal: a\n"
     ]
    }
   ],
   "source": [
    "print ('Agora são %02d:%02d.' % (16, 30))\n",
    "print ('Percentagem: %.1f%%, Exponencial:%.2e' % (5.333, 0.00314)) #casa decimal e formatação\n",
    "print ('Decimal: %d, Octal: %o, Hexadecimal: %x' % (10, 10, 10)) #bases numéricas"
   ]
  },
  {
   "cell_type": "code",
   "execution_count": 18,
   "metadata": {},
   "outputs": [
    {
     "name": "stdout",
     "output_type": "stream",
     "text": [
      "Page é guitarrista do Led Zeppelin\n",
      "Fripp é guitarrista do King Crimson\n"
     ]
    }
   ],
   "source": [
    "musicos = [('Page', 'guitarrista', 'Led Zeppelin'),\n",
    "('Fripp', 'guitarrista', 'King Crimson')]\n",
    "\n",
    "msg = '{0} é {1} do {2}'\n",
    "\n",
    "for nome, funcao, banda in musicos:\n",
    "    print(msg.format(nome, funcao, banda))"
   ]
  },
  {
   "cell_type": "code",
   "execution_count": 24,
   "metadata": {},
   "outputs": [
    {
     "data": {
      "text/plain": [
       "'thon'"
      ]
     },
     "execution_count": 24,
     "metadata": {},
     "output_type": "execute_result"
    }
   ],
   "source": [
    "s = 'python'\n",
    "s[0:2]\n",
    "s[2:]"
   ]
  },
  {
   "cell_type": "markdown",
   "metadata": {},
   "source": [
    "## Listas"
   ]
  },
  {
   "cell_type": "code",
   "execution_count": 25,
   "metadata": {},
   "outputs": [
    {
     "name": "stdout",
     "output_type": "stream",
     "text": [
      "Queen\n",
      "Led Zeppelin\n",
      "Kansas\n",
      "Europe\n",
      "Guns N Roses\n",
      "['Bon Jovi', 'Guns N Roses', 'Kansas', 'Led Zeppelin', 'Queen']\n"
     ]
    }
   ],
   "source": [
    "bandas = ['Queen','Led Zeppelin','Kansas','Europe','Guns N Roses']\n",
    "\n",
    "for banda in bandas:\n",
    "    print (banda)\n",
    "    \n",
    "bandas.append('Bon Jovi') #adiciona ao fim da lista\n",
    "bandas.remove('Europe') #remove\n",
    "bandas.sort() #ordena\n",
    "\n",
    "print (bandas)"
   ]
  },
  {
   "cell_type": "code",
   "execution_count": 26,
   "metadata": {},
   "outputs": [
    {
     "name": "stdout",
     "output_type": "stream",
     "text": [
      "1 => Bon Jovi\n",
      "2 => Guns N Roses\n",
      "3 => Kansas\n",
      "4 => Led Zeppelin\n",
      "5 => Queen\n",
      "Saiu Bon Jovi , faltam 4\n",
      "Saiu Guns N Roses , faltam 3\n",
      "Saiu Kansas , faltam 2\n",
      "Saiu Led Zeppelin , faltam 1\n",
      "Saiu Queen , faltam 0\n"
     ]
    }
   ],
   "source": [
    "for i, banda in enumerate(bandas): \n",
    "    print (i + 1, '=>', banda)\n",
    "    \n",
    "#filas e pilhas\n",
    "while bandas:\n",
    "    print ('Saiu', bandas.pop(0), ', faltam', len(bandas))"
   ]
  },
  {
   "cell_type": "markdown",
   "metadata": {},
   "source": [
    "## Dicionários"
   ]
  },
  {
   "cell_type": "code",
   "execution_count": 27,
   "metadata": {},
   "outputs": [
    {
     "name": "stdout",
     "output_type": "stream",
     "text": [
      "Mustang\n",
      "1964\n"
     ]
    }
   ],
   "source": [
    "carros = {'marca':'Ford','modelo':'Mustang','Ano':1964} #cria um dicionário\n",
    "print(carros['modelo']) #imprime o valor da chave 'modelo'\n",
    "print(carros.get('Ano')) #imprime usando método get\n",
    "carros['Ano'] = 2018"
   ]
  },
  {
   "cell_type": "code",
   "execution_count": 28,
   "metadata": {},
   "outputs": [
    {
     "name": "stdout",
     "output_type": "stream",
     "text": [
      "marca Ford\n",
      "modelo Mustang\n",
      "Ano 2018\n"
     ]
    }
   ],
   "source": [
    "for x,y in carros.items():#imprimindo keys e values\n",
    "    print(x,y)"
   ]
  },
  {
   "cell_type": "code",
   "execution_count": 29,
   "metadata": {},
   "outputs": [
    {
     "name": "stdout",
     "output_type": "stream",
     "text": [
      "marca Ford\n",
      "modelo Mustang\n",
      "Ano 2018\n",
      "cor preto\n"
     ]
    }
   ],
   "source": [
    "carros['cor'] = 'preto' #inserindo nova key e value\n",
    "\n",
    "for x,y in carros.items():#repetindo após inserção\n",
    "    print(x,y)"
   ]
  },
  {
   "cell_type": "code",
   "execution_count": 30,
   "metadata": {},
   "outputs": [
    {
     "name": "stdout",
     "output_type": "stream",
     "text": [
      "{'marca': 'Ford', 'modelo': 'Mustang', 'cor': 'preto'}\n"
     ]
    }
   ],
   "source": [
    "del carros['Ano'] #apagando key e value  - \n",
    "#pode ser usado os métodos pop e popitem - testar\n",
    "print (carros) #imprime dicionário"
   ]
  },
  {
   "cell_type": "code",
   "execution_count": 31,
   "metadata": {},
   "outputs": [
    {
     "name": "stdout",
     "output_type": "stream",
     "text": [
      "{}\n"
     ]
    }
   ],
   "source": [
    "#Apagar dicionário\n",
    "#del carros\n",
    "#print(carros)\n",
    "#esvaziar dicionário\n",
    "carros.clear()\n",
    "print(carros)"
   ]
  },
  {
   "cell_type": "code",
   "execution_count": null,
   "metadata": {},
   "outputs": [],
   "source": [
    "#criando a partir de um construtor\n",
    "carros = dict(marca='Ford',modelo='Mustang',Ano=1964)\n",
    "print(carros)"
   ]
  },
  {
   "cell_type": "markdown",
   "metadata": {},
   "source": [
    "## Funções"
   ]
  },
  {
   "cell_type": "code",
   "execution_count": 32,
   "metadata": {},
   "outputs": [],
   "source": [
    "#implementação recursiva\n",
    "def fatorial(num):\n",
    "    if (num <= 1):\n",
    "        return 1\n",
    "    else:\n",
    "        return(num * fatorial(num - 1))"
   ]
  },
  {
   "cell_type": "code",
   "execution_count": 33,
   "metadata": {},
   "outputs": [
    {
     "data": {
      "text/plain": [
       "120"
      ]
     },
     "execution_count": 33,
     "metadata": {},
     "output_type": "execute_result"
    }
   ],
   "source": [
    "y = fatorial(5)\n",
    "y"
   ]
  },
  {
   "cell_type": "code",
   "execution_count": 42,
   "metadata": {},
   "outputs": [],
   "source": [
    "# Verifica se um número é par\n",
    "def numero_par(num): return num % 2 == 0;\n",
    "    "
   ]
  },
  {
   "cell_type": "code",
   "execution_count": 43,
   "metadata": {},
   "outputs": [
    {
     "name": "stdout",
     "output_type": "stream",
     "text": [
      "True\n"
     ]
    }
   ],
   "source": [
    "print(numero_par(4))"
   ]
  },
  {
   "cell_type": "code",
   "execution_count": null,
   "metadata": {},
   "outputs": [],
   "source": [
    "# Desafio 4\n",
    "\n",
    "Brasil, oficialmente República Federativa do Brasil é o maior país da América do Sul e da região da América Latina, sendo o \n",
    "quinto maior do mundo em área territorial (equivalente a 47 porcento do território sul-americano) e sexto em população (com \n",
    "mais de 200 milhões de habitantes). É o único país na América onde se fala majoritariamente a língua portuguesa e o maior país \n",
    "lusófono do planeta, além de ser uma das nações mais multiculturais e etnicamente diversas, em decorrência da forte imigração \n",
    "oriunda de variados locais do mundo.\n"
   ]
  }
 ],
 "metadata": {
  "kernelspec": {
   "display_name": "Python 3",
   "language": "python",
   "name": "python3"
  },
  "language_info": {
   "codemirror_mode": {
    "name": "ipython",
    "version": 3
   },
   "file_extension": ".py",
   "mimetype": "text/x-python",
   "name": "python",
   "nbconvert_exporter": "python",
   "pygments_lexer": "ipython3",
   "version": "3.7.0"
  }
 },
 "nbformat": 4,
 "nbformat_minor": 2
}
