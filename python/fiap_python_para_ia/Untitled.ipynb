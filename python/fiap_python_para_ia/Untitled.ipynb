{
 "cells": [
  {
   "cell_type": "markdown",
   "metadata": {},
   "source": [
    "# Desafio 1"
   ]
  },
  {
   "cell_type": "code",
   "execution_count": 32,
   "metadata": {},
   "outputs": [],
   "source": [
    "import re\n",
    "\n",
    "def existePalavraNoComeco(palavra):\n",
    "    return re.search(\"([a-zA-Z])\", palavra).start() == 0\n",
    "    "
   ]
  },
  {
   "cell_type": "code",
   "execution_count": 33,
   "metadata": {},
   "outputs": [
    {
     "data": {
      "text/plain": [
       "False"
      ]
     },
     "execution_count": 33,
     "metadata": {},
     "output_type": "execute_result"
    }
   ],
   "source": [
    "existePalavraNoComeco(' Aasdasd')"
   ]
  },
  {
   "cell_type": "markdown",
   "metadata": {},
   "source": [
    "# Desafio 2"
   ]
  },
  {
   "cell_type": "code",
   "execution_count": 34,
   "metadata": {},
   "outputs": [
    {
     "name": "stdout",
     "output_type": "stream",
     "text": [
      "[0, 1, 4, 9, 16, 25, 36, 49, 64, 81]\n",
      "[0, 1, 4, 9, 16, 25, 36, 49, 64, 81]\n"
     ]
    }
   ],
   "source": [
    "def porListCompresion():\n",
    "    return [x**2 for x in range(10)]\n",
    "\n",
    "porLambda = lambda x: x**2\n",
    "\n",
    "def porMap():\n",
    "    return list(map(porLambda, range(10)))\n",
    "\n",
    "print(porListCompresion())\n",
    "print(porMap())"
   ]
  },
  {
   "cell_type": "markdown",
   "metadata": {},
   "source": [
    "# Desafio 3"
   ]
  },
  {
   "cell_type": "code",
   "execution_count": 35,
   "metadata": {},
   "outputs": [
    {
     "name": "stdout",
     "output_type": "stream",
     "text": [
      "[2, 4, 6, 8, 10]\n"
     ]
    }
   ],
   "source": [
    "L1 = [1,2,3,4,5]\n",
    "L2 = [1,2,3,4,5]\n",
    "\n",
    "def soma():\n",
    "    return list(map(lambda x, y: x+y, L1, L2))\n",
    "\n",
    "print(soma())\n"
   ]
  },
  {
   "cell_type": "markdown",
   "metadata": {},
   "source": [
    "# Desafio 4"
   ]
  },
  {
   "cell_type": "code",
   "execution_count": 36,
   "metadata": {},
   "outputs": [
    {
     "name": "stdout",
     "output_type": "stream",
     "text": [
      "1.7320508075688772\n",
      "7.0710678118654755\n"
     ]
    }
   ],
   "source": [
    "from functools import reduce\n",
    "import math\n",
    "\n",
    "l1 = [1,1,1]\n",
    "l2 = [3,4,5]\n",
    "\n",
    "amplitude = lambda x,y,z: (x**2+y**2+z**2) ** 0.5\n",
    "\n",
    "print(amplitude(l1[0], l1[1], l1[2]))\n",
    "print(amplitude(l2[0], l2[1], l2[2]))"
   ]
  },
  {
   "cell_type": "markdown",
   "metadata": {},
   "source": [
    "# Desafio 5"
   ]
  },
  {
   "cell_type": "code",
   "execution_count": 37,
   "metadata": {},
   "outputs": [
    {
     "data": {
      "text/plain": [
       "120"
      ]
     },
     "execution_count": 37,
     "metadata": {},
     "output_type": "execute_result"
    }
   ],
   "source": [
    "from functools import reduce\n",
    "\n",
    "def fatorial(numero):\n",
    "    return reduce(lambda x, y: x*y if (x-1) > 0 else y, range(1,numero+1))\n",
    "\n",
    "fatorial(5)"
   ]
  },
  {
   "cell_type": "markdown",
   "metadata": {},
   "source": [
    "# Desafio 6"
   ]
  },
  {
   "cell_type": "code",
   "execution_count": 38,
   "metadata": {},
   "outputs": [
    {
     "name": "stdout",
     "output_type": "stream",
     "text": [
      "['the', 'quick', 'brown', 'fox', 'jumps', 'over', 'the', 'lazy', 'dog']\n",
      "[5, 5, 3, 5, 4, 4, 3]\n"
     ]
    }
   ],
   "source": [
    "sentence = 'the quick brown fox jumps over the lazy dog'\n",
    "\n",
    "print([word for word in sentence.split()])\n",
    "print([len(word)  for word in sentence.split() if word != 'the'])"
   ]
  },
  {
   "cell_type": "markdown",
   "metadata": {},
   "source": [
    "# Desafio 7"
   ]
  },
  {
   "cell_type": "code",
   "execution_count": 39,
   "metadata": {},
   "outputs": [
    {
     "name": "stdout",
     "output_type": "stream",
     "text": [
      "1\n",
      "2\n",
      "3\n",
      "5\n",
      "7\n",
      "11\n",
      "13\n",
      "17\n",
      "19\n",
      "23\n"
     ]
    }
   ],
   "source": [
    "def ehPrimo(numero):\n",
    "    for divisor in range(2, numero):\n",
    "        if(numero % divisor == 0):\n",
    "            return False\n",
    "    return True;\n",
    "\n",
    "def gerarNumerosPrimos(quantidade):\n",
    "    i = 0\n",
    "    numero = 1\n",
    "    while(i < quantidade):\n",
    "        if(ehPrimo(numero)):\n",
    "            i+=1\n",
    "            yield numero            \n",
    "        numero+=1\n",
    "\n",
    "        \n",
    "#print(list(gerarNumerosPrimos(100)))\n",
    "for numero in gerarNumerosPrimos(10):\n",
    "    print(numero)"
   ]
  },
  {
   "cell_type": "markdown",
   "metadata": {},
   "source": [
    "# Desafio 8"
   ]
  },
  {
   "cell_type": "code",
   "execution_count": 40,
   "metadata": {},
   "outputs": [
    {
     "data": {
      "text/plain": [
       "6226"
      ]
     },
     "execution_count": 40,
     "metadata": {},
     "output_type": "execute_result"
    }
   ],
   "source": [
    "import datetime\n",
    "\n",
    "dataDescobrimentoDoBrasil = datetime.datetime(1500, 4, 22)\n",
    "\n",
    "def mesesDescobrimentoBrasil(data):\n",
    "    dataAtual = datetime.datetime.now()\n",
    "    return (dataAtual.year - data.year) * 12 + dataAtual.month - data.month\n",
    "\n",
    "mesesDescobrimentoBrasil(dataDescobrimentoDoBrasil)\n",
    "    "
   ]
  }
 ],
 "metadata": {
  "kernelspec": {
   "display_name": "Python 3",
   "language": "python",
   "name": "python3"
  },
  "language_info": {
   "codemirror_mode": {
    "name": "ipython",
    "version": 3
   },
   "file_extension": ".py",
   "mimetype": "text/x-python",
   "name": "python",
   "nbconvert_exporter": "python",
   "pygments_lexer": "ipython3",
   "version": "3.7.0"
  }
 },
 "nbformat": 4,
 "nbformat_minor": 2
}
