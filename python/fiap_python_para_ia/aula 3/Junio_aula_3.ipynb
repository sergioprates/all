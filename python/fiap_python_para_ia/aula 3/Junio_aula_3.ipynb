{
 "cells": [
  {
   "cell_type": "markdown",
   "metadata": {},
   "source": [
    "# 1"
   ]
  },
  {
   "cell_type": "code",
   "execution_count": 1,
   "metadata": {},
   "outputs": [],
   "source": [
    "import math"
   ]
  },
  {
   "cell_type": "code",
   "execution_count": 3,
   "metadata": {},
   "outputs": [],
   "source": [
    "class Circulo():\n",
    "    def __init__(self, raio):\n",
    "        self._raio = raio\n",
    "    \n",
    "    @property\n",
    "    def raio(self):\n",
    "        return self._raio\n",
    "\n",
    "    @raio.setter\n",
    "    def raio(self, value):\n",
    "        self._raio = value\n",
    "    \n",
    "    def area(self):\n",
    "        return math.pi * (self._raio ** 2)\n",
    "\n",
    "    def perimetro(self):\n",
    "        return 2 * math.pi * self._raio\n",
    "    "
   ]
  },
  {
   "cell_type": "code",
   "execution_count": 5,
   "metadata": {},
   "outputs": [
    {
     "name": "stdout",
     "output_type": "stream",
     "text": [
      "78.53981633974483\n",
      "31.41592653589793\n"
     ]
    }
   ],
   "source": [
    "circulo = Circulo(5)\n",
    "print(circulo.area())\n",
    "print(circulo.perimetro())"
   ]
  },
  {
   "cell_type": "markdown",
   "metadata": {},
   "source": [
    "# 2"
   ]
  },
  {
   "cell_type": "code",
   "execution_count": 12,
   "metadata": {},
   "outputs": [],
   "source": [
    "class Quadrado():\n",
    "    def __init__(self, lado):\n",
    "        self._lado = lado\n",
    "        \n",
    "    @property\n",
    "    def lado(self):\n",
    "        return self._lado\n",
    "        \n",
    "    def MudarValor(self, value):\n",
    "        self._lado = value\n",
    "        \n",
    "    def CalcularArea(self):\n",
    "        return self._lado * self._lado"
   ]
  },
  {
   "cell_type": "code",
   "execution_count": 13,
   "metadata": {},
   "outputs": [
    {
     "name": "stdout",
     "output_type": "stream",
     "text": [
      "10\n",
      "256\n"
     ]
    }
   ],
   "source": [
    "_quadrado = Quadrado(10)\n",
    "print(_quadrado.lado)\n",
    "_quadrado.MudarValor(16)\n",
    "print(_quadrado.CalcularArea())"
   ]
  },
  {
   "cell_type": "markdown",
   "metadata": {},
   "source": [
    "# 3"
   ]
  },
  {
   "cell_type": "code",
   "execution_count": 19,
   "metadata": {},
   "outputs": [],
   "source": [
    "class Carro():\n",
    "    def __init__(self, consumo):\n",
    "        self._consumo = consumo\n",
    "        self._gas = 0\n",
    "        \n",
    "    def mover(self, km):\n",
    "        self._gas = self._gas - (km / self._consumo)\n",
    "        \n",
    "    def gasolina(self):\n",
    "        return self._gas\n",
    "    \n",
    "    def abastecer(self, value):\n",
    "        self._gas = self._gas + value\n",
    "    \n",
    "        "
   ]
  },
  {
   "cell_type": "code",
   "execution_count": 20,
   "metadata": {},
   "outputs": [
    {
     "name": "stdout",
     "output_type": "stream",
     "text": [
      "20\n",
      "19.736842105263158\n"
     ]
    }
   ],
   "source": [
    "car = Carro(19)\n",
    "car.abastecer(20)\n",
    "print(car.gasolina())\n",
    "car.mover(5)\n",
    "print(car.gasolina())"
   ]
  }
 ],
 "metadata": {
  "kernelspec": {
   "display_name": "Python 3",
   "language": "python",
   "name": "python3"
  },
  "language_info": {
   "codemirror_mode": {
    "name": "ipython",
    "version": 3
   },
   "file_extension": ".py",
   "mimetype": "text/x-python",
   "name": "python",
   "nbconvert_exporter": "python",
   "pygments_lexer": "ipython3",
   "version": "3.7.0"
  }
 },
 "nbformat": 4,
 "nbformat_minor": 2
}
