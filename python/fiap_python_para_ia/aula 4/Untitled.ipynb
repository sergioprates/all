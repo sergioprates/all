{
 "cells": [
  {
   "cell_type": "markdown",
   "metadata": {},
   "source": [
    "# Desafio 1"
   ]
  },
  {
   "cell_type": "code",
   "execution_count": 163,
   "metadata": {},
   "outputs": [],
   "source": [
    "import numpy as np\n",
    "import unittest"
   ]
  },
  {
   "cell_type": "code",
   "execution_count": 164,
   "metadata": {},
   "outputs": [],
   "source": [
    "class Matematica():\n",
    "    class Trigonometrica:\n",
    "        def seno(self, array):\n",
    "            return np.sin(array)\n",
    "        \n",
    "        def cosseno(self, array):\n",
    "            return np.cos(array)\n",
    "        \n",
    "    class Algebrica:\n",
    "        def soma(self, array1, array2):\n",
    "            return np.add(array1, array2)\n",
    "        \n",
    "        def subtracao(self, array1, array2):\n",
    "            return np.subtract(array1, array2)\n",
    "        \n",
    "        def divisao(self, array1, array2):\n",
    "            return np.divide(array1, array2)\n",
    "        \n",
    "        def multiplicacao(self, array1, array2):\n",
    "            return np.multiply(array1, array2)\n",
    "        "
   ]
  },
  {
   "cell_type": "markdown",
   "metadata": {},
   "source": [
    "### Testes"
   ]
  },
  {
   "cell_type": "code",
   "execution_count": 168,
   "metadata": {},
   "outputs": [],
   "source": [
    "class AlgebricaTestes(unittest.TestCase):\n",
    "    def setUp(self):\n",
    "        self.algebrica = Matematica.Algebrica()    \n",
    "    \n",
    "    def test_deve_somar_dois_arrays(self):\n",
    "        array1 = np.array([1,2,3,4])\n",
    "        array2 = np.array([1,2,3,4])\n",
    "        \n",
    "        resultado = self.algebrica.soma(array1, array2)\n",
    "        np.testing.assert_array_equal(resultado, np.array([2,4,6,8]))\n",
    "        \n",
    "    def test_deve_subtrair_dois_arrays(self):\n",
    "        array1 = np.array([1,2,3,4])\n",
    "        array2 = np.array([1,2,3,4])\n",
    "        \n",
    "        resultado = self.algebrica.subtracao(array1, array2)\n",
    "        np.testing.assert_array_equal(resultado, np.array([0,0,0,0]))\n",
    "        \n",
    "    def test_deve_dividir_dois_arrays(self):\n",
    "        array1 = np.array([1,2,3,4])\n",
    "        array2 = np.array([1,2,3,4])\n",
    "        \n",
    "        resultado = self.algebrica.divisao(array1, array2)\n",
    "        np.testing.assert_array_equal(resultado, np.array([1,1,1,1]))\n",
    "        \n",
    "    def test_deve_multiplicar_dois_arrays(self):\n",
    "        array1 = np.array([1,2,3,4])\n",
    "        array2 = np.array([1,2,3,4])\n",
    "        \n",
    "        resultado = self.algebrica.multiplicacao(array1, array2)\n",
    "        np.testing.assert_array_equal(resultado, np.array([1,4,9,16]))"
   ]
  },
  {
   "cell_type": "code",
   "execution_count": 169,
   "metadata": {},
   "outputs": [],
   "source": [
    "class TrigonometriaTestes(unittest.TestCase):\n",
    "    def setUp(self):\n",
    "        self.trigonometria = Matematica.Trigonometrica()  \n",
    "        \n",
    "    def test_deve_obter_cosseno(self):\n",
    "        array = np.array([1,2,3,4])\n",
    "        \n",
    "        resultado = self.trigonometria.cosseno(array)\n",
    "        np.allclose(resultado, np.array([0.540302,-0.416147,-0.989992,-0.653644]))\n",
    "    \n",
    "    def test_deve_obter_seno(self):\n",
    "        array = np.array([1,2,3,4])\n",
    "        \n",
    "        resultado = self.trigonometria.seno(array)\n",
    "        np.allclose(resultado, np.array([0.841471,0.909297,0.14112,-0.756802]))"
   ]
  },
  {
   "cell_type": "code",
   "execution_count": 170,
   "metadata": {},
   "outputs": [
    {
     "name": "stderr",
     "output_type": "stream",
     "text": [
      ".......\n",
      "----------------------------------------------------------------------\n",
      "Ran 7 tests in 0.010s\n",
      "\n",
      "OK\n"
     ]
    }
   ],
   "source": [
    "if __name__ == '__main__':\n",
    "    unittest.main(argv=['first-arg-is-ignored'], exit=False)"
   ]
  },
  {
   "cell_type": "markdown",
   "metadata": {},
   "source": [
    "# Desafio 2"
   ]
  },
  {
   "cell_type": "code",
   "execution_count": 175,
   "metadata": {},
   "outputs": [
    {
     "name": "stdout",
     "output_type": "stream",
     "text": [
      "Desvio padrão: 1.14335559519345\n",
      "Mínimo: -2.7353013111825417\n",
      "Máximo: 1.6000821204334275\n",
      "Variancia: 1.3072620170601683\n",
      "Média: -0.24113660961007158\n",
      "Soma: -3.8581857537611453\n"
     ]
    }
   ],
   "source": [
    "numeros = np.random.normal(size=(4,4))\n",
    "\n",
    "print('Desvio padrão:', np.std(numeros))\n",
    "print('Mínimo:', np.min(numeros))\n",
    "print('Máximo:', np.max(numeros))\n",
    "print('Variancia:', np.var(numeros))\n",
    "print('Média:', np.mean(numeros))\n",
    "print('Soma:', np.sum(numeros))"
   ]
  },
  {
   "cell_type": "markdown",
   "metadata": {},
   "source": [
    "# Desafio 3"
   ]
  },
  {
   "cell_type": "code",
   "execution_count": 182,
   "metadata": {},
   "outputs": [
    {
     "name": "stdout",
     "output_type": "stream",
     "text": [
      "Soma: [11 13 15 17 19 21 23 25 27 29]\n",
      "Subtracao: [-11 -11 -11 -11 -11 -11 -11 -11 -11 -11]\n",
      "Divisão: [0.         0.08333333 0.15384615 0.21428571 0.26666667 0.3125\n",
      " 0.35294118 0.38888889 0.42105263 0.45      ]\n",
      "Multiplicação: [  0  12  26  42  60  80 102 126 152 180]\n"
     ]
    }
   ],
   "source": [
    "a = np.array(np.arange(10))\n",
    "b = np.arange(11, 21)\n",
    "calculadora = Matematica.Algebrica()\n",
    "\n",
    "\n",
    "print('Soma:', calculadora.soma(a,b))\n",
    "print('Subtracao:', calculadora.subtracao(a,b))\n",
    "print('Divisão:', calculadora.divisao(a,b))\n",
    "print('Multiplicação:', calculadora.multiplicacao(a,b))"
   ]
  },
  {
   "cell_type": "markdown",
   "metadata": {},
   "source": [
    "# Desafio 4"
   ]
  },
  {
   "cell_type": "code",
   "execution_count": 188,
   "metadata": {},
   "outputs": [
    {
     "name": "stdout",
     "output_type": "stream",
     "text": [
      "[[ 1.24666846  0.01378296  0.19400326  0.1427908  -0.00147026]\n",
      " [ 0.01378296  0.34066355 -0.15885114  0.04161304 -0.05433395]\n",
      " [ 0.19400326 -0.15885114  0.27933524  0.04333592  0.03077853]\n",
      " [ 0.1427908   0.04161304  0.04333592  0.18873808  0.05949029]\n",
      " [-0.00147026 -0.05433395  0.03077853  0.05949029  0.25565834]]\n"
     ]
    }
   ],
   "source": [
    "from numpy.linalg import inv\n",
    "X = np.random.randn(5, 5)\n",
    "\n",
    "mat = X.T.dot(X)\n",
    "\n",
    "print(inv(mat))"
   ]
  },
  {
   "cell_type": "markdown",
   "metadata": {},
   "source": [
    "# Desafio 5"
   ]
  },
  {
   "cell_type": "code",
   "execution_count": 216,
   "metadata": {},
   "outputs": [
    {
     "data": {
      "text/plain": [
       "array([1, 2, 3, 4])"
      ]
     },
     "execution_count": 216,
     "metadata": {},
     "output_type": "execute_result"
    }
   ],
   "source": [
    "a = np.array([1,2,3,4,5])\n",
    "b = np.array([5,6,7,8,9])\n",
    "\n",
    "def remover_elementos_nao_correspondentes(arrayA, arrayB):\n",
    "    return np.setdiff1d(arrayA,arrayB)\n",
    "    \n",
    "remover_elementos_nao_correspondentes(a, b)"
   ]
  },
  {
   "cell_type": "markdown",
   "metadata": {},
   "source": [
    "# Desafio 6"
   ]
  },
  {
   "cell_type": "code",
   "execution_count": 239,
   "metadata": {},
   "outputs": [
    {
     "data": {
      "text/plain": [
       "array([-1,  4,  6,  8, 12,  0])"
      ]
     },
     "execution_count": 239,
     "metadata": {},
     "output_type": "execute_result"
    }
   ],
   "source": [
    "def vai(array, n, m):\n",
    "    um = np.where(array > n)\n",
    "    return np.where(um < m)\n",
    "\n",
    "vai(np.array([1,4,6,8,12,15]), 3, 13)"
   ]
  },
  {
   "cell_type": "code",
   "execution_count": null,
   "metadata": {},
   "outputs": [],
   "source": []
  },
  {
   "cell_type": "code",
   "execution_count": null,
   "metadata": {},
   "outputs": [],
   "source": []
  },
  {
   "cell_type": "code",
   "execution_count": null,
   "metadata": {},
   "outputs": [],
   "source": []
  },
  {
   "cell_type": "code",
   "execution_count": null,
   "metadata": {},
   "outputs": [],
   "source": []
  }
 ],
 "metadata": {
  "kernelspec": {
   "display_name": "Python 3",
   "language": "python",
   "name": "python3"
  },
  "language_info": {
   "codemirror_mode": {
    "name": "ipython",
    "version": 3
   },
   "file_extension": ".py",
   "mimetype": "text/x-python",
   "name": "python",
   "nbconvert_exporter": "python",
   "pygments_lexer": "ipython3",
   "version": "3.7.0"
  }
 },
 "nbformat": 4,
 "nbformat_minor": 2
}
