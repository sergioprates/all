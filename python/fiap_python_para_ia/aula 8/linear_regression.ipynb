{
 "cells": [
  {
   "cell_type": "code",
   "execution_count": 21,
   "metadata": {},
   "outputs": [],
   "source": [
    "import pandas as pd # para leitura de base de dados e manipulação de data frame\n",
    "import numpy as np # para álgebra linear\n",
    "import altair as alt # para plotar gráficos"
   ]
  },
  {
   "cell_type": "code",
   "execution_count": 22,
   "metadata": {},
   "outputs": [],
   "source": [
    "class LinearRegression():\n",
    "    \n",
    "    def cost_function(self,X,y,theta):\n",
    "        m = len(y) #número de amostras\n",
    "        J = 0 # custo\n",
    "        \n",
    "        for i in range(m):\n",
    "            J = J + np.power((theta[0] + theta[1] * X[1][i] - y[i]),2)\n",
    "        \n",
    "        return J*(1/(2*m))\n",
    "    \n",
    "    def gradient_descent(self,X,y,theta,alpha,num_iter):\n",
    "        m = len(y)\n",
    "        J_history = np.zeros(num_iter)\n",
    "        temp0 = 0\n",
    "        temp1 = 0\n",
    "        \n",
    "        for k in range(num_iter):\n",
    "        \n",
    "            for i in range(m):\n",
    "                temp0 = temp0 - alpha * (1/m * (theta[0] + theta[1] * X[1][i] - y[i]))\n",
    "                temp1 = temp1 - alpha * (1/m * (theta[0] + theta[1] * X[1][i] - y[i]))*X[1][i]\n",
    "                theta[0] = temp0\n",
    "                theta[1] = temp1\n",
    "                \n",
    "            J_history[k] = self.cost_function(X,y,theta)\n",
    "    \n",
    "        return theta,J_history\n",
    "            \n",
    "        \n",
    "        "
   ]
  },
  {
   "cell_type": "code",
   "execution_count": 25,
   "metadata": {},
   "outputs": [
    {
     "data": {
      "text/html": [
       "<div>\n",
       "<style scoped>\n",
       "    .dataframe tbody tr th:only-of-type {\n",
       "        vertical-align: middle;\n",
       "    }\n",
       "\n",
       "    .dataframe tbody tr th {\n",
       "        vertical-align: top;\n",
       "    }\n",
       "\n",
       "    .dataframe thead th {\n",
       "        text-align: right;\n",
       "    }\n",
       "</style>\n",
       "<table border=\"1\" class=\"dataframe\">\n",
       "  <thead>\n",
       "    <tr style=\"text-align: right;\">\n",
       "      <th></th>\n",
       "      <th>A</th>\n",
       "      <th>B</th>\n",
       "    </tr>\n",
       "  </thead>\n",
       "  <tbody>\n",
       "    <tr>\n",
       "      <th>0</th>\n",
       "      <td>6.1101</td>\n",
       "      <td>17.5920</td>\n",
       "    </tr>\n",
       "    <tr>\n",
       "      <th>1</th>\n",
       "      <td>5.5277</td>\n",
       "      <td>9.1302</td>\n",
       "    </tr>\n",
       "    <tr>\n",
       "      <th>2</th>\n",
       "      <td>8.5186</td>\n",
       "      <td>13.6620</td>\n",
       "    </tr>\n",
       "    <tr>\n",
       "      <th>3</th>\n",
       "      <td>7.0032</td>\n",
       "      <td>11.8540</td>\n",
       "    </tr>\n",
       "    <tr>\n",
       "      <th>4</th>\n",
       "      <td>5.8598</td>\n",
       "      <td>6.8233</td>\n",
       "    </tr>\n",
       "  </tbody>\n",
       "</table>\n",
       "</div>"
      ],
      "text/plain": [
       "        A        B\n",
       "0  6.1101  17.5920\n",
       "1  5.5277   9.1302\n",
       "2  8.5186  13.6620\n",
       "3  7.0032  11.8540\n",
       "4  5.8598   6.8233"
      ]
     },
     "execution_count": 25,
     "metadata": {},
     "output_type": "execute_result"
    }
   ],
   "source": [
    "data = pd.read_csv('ex1data1.txt',header=None) # faz a leitura dos dados\n",
    "data.columns = ['A', 'B']\n",
    "data.head() #mostra as 5 primeiras linhas"
   ]
  },
  {
   "cell_type": "code",
   "execution_count": 26,
   "metadata": {},
   "outputs": [
    {
     "data": {
      "application/vnd.vegalite.v2+json": {
       "$schema": "https://vega.github.io/schema/vega-lite/v2.6.0.json",
       "config": {
        "view": {
         "height": 300,
         "width": 400
        }
       },
       "data": {
        "name": "data-c49255fa94471e6b01de1015e399f1e5"
       },
       "datasets": {
        "data-c49255fa94471e6b01de1015e399f1e5": [
         {
          "A": 6.1101,
          "B": 17.592
         },
         {
          "A": 5.5277,
          "B": 9.1302
         },
         {
          "A": 8.5186,
          "B": 13.662
         },
         {
          "A": 7.0032,
          "B": 11.854000000000001
         },
         {
          "A": 5.8598,
          "B": 6.8233
         },
         {
          "A": 8.3829,
          "B": 11.886
         },
         {
          "A": 7.4764,
          "B": 4.3483
         },
         {
          "A": 8.5781,
          "B": 12
         },
         {
          "A": 6.4862,
          "B": 6.5987
         },
         {
          "A": 5.0546,
          "B": 3.8166
         },
         {
          "A": 5.7107,
          "B": 3.2522
         },
         {
          "A": 14.164000000000001,
          "B": 15.505
         },
         {
          "A": 5.734,
          "B": 3.1551
         },
         {
          "A": 8.4084,
          "B": 7.2258
         },
         {
          "A": 5.6407,
          "B": 0.71618
         },
         {
          "A": 5.3794,
          "B": 3.5129
         },
         {
          "A": 6.3654,
          "B": 5.3048
         },
         {
          "A": 5.1301,
          "B": 0.56077
         },
         {
          "A": 6.4296,
          "B": 3.6518
         },
         {
          "A": 7.0708,
          "B": 5.3893
         },
         {
          "A": 6.1891,
          "B": 3.1386
         },
         {
          "A": 20.27,
          "B": 21.767
         },
         {
          "A": 5.4901,
          "B": 4.263
         },
         {
          "A": 6.3261,
          "B": 5.1875
         },
         {
          "A": 5.5649,
          "B": 3.0825
         },
         {
          "A": 18.945,
          "B": 22.638
         },
         {
          "A": 12.828,
          "B": 13.501
         },
         {
          "A": 10.957,
          "B": 7.0467
         },
         {
          "A": 13.175999999999998,
          "B": 14.692
         },
         {
          "A": 22.203000000000003,
          "B": 24.147
         },
         {
          "A": 5.2524,
          "B": -1.22
         },
         {
          "A": 6.5894,
          "B": 5.9966
         },
         {
          "A": 9.2482,
          "B": 12.134
         },
         {
          "A": 5.8918,
          "B": 1.8495
         },
         {
          "A": 8.2111,
          "B": 6.5426
         },
         {
          "A": 7.9334,
          "B": 4.5623
         },
         {
          "A": 8.0959,
          "B": 4.1164
         },
         {
          "A": 5.6063,
          "B": 3.3928
         },
         {
          "A": 12.835999999999999,
          "B": 10.117
         },
         {
          "A": 6.3534,
          "B": 5.4974
         },
         {
          "A": 5.4069,
          "B": 0.55657
         },
         {
          "A": 6.8825,
          "B": 3.9115
         },
         {
          "A": 11.708,
          "B": 5.3854
         },
         {
          "A": 5.7737,
          "B": 2.4406
         },
         {
          "A": 7.8247,
          "B": 6.7318
         },
         {
          "A": 7.0931,
          "B": 1.0463
         },
         {
          "A": 5.0702,
          "B": 5.1337
         },
         {
          "A": 5.8014,
          "B": 1.844
         },
         {
          "A": 11.7,
          "B": 8.0043
         },
         {
          "A": 5.5416,
          "B": 1.0179
         },
         {
          "A": 7.5402,
          "B": 6.7504
         },
         {
          "A": 5.3077,
          "B": 1.8396
         },
         {
          "A": 7.4239,
          "B": 4.2885
         },
         {
          "A": 7.6031,
          "B": 4.9981
         },
         {
          "A": 6.3328,
          "B": 1.4233
         },
         {
          "A": 6.3589,
          "B": -1.4211
         },
         {
          "A": 6.2742,
          "B": 2.4756
         },
         {
          "A": 5.6397,
          "B": 4.6042
         },
         {
          "A": 9.3102,
          "B": 3.9624
         },
         {
          "A": 9.4536,
          "B": 5.4141
         },
         {
          "A": 8.8254,
          "B": 5.1694
         },
         {
          "A": 5.1793,
          "B": -0.74279
         },
         {
          "A": 21.279,
          "B": 17.929000000000002
         },
         {
          "A": 14.908,
          "B": 12.054
         },
         {
          "A": 18.959,
          "B": 17.054000000000002
         },
         {
          "A": 7.2182,
          "B": 4.8852
         },
         {
          "A": 8.2951,
          "B": 5.7442
         },
         {
          "A": 10.236,
          "B": 7.7754
         },
         {
          "A": 5.4994,
          "B": 1.0173
         },
         {
          "A": 20.340999999999998,
          "B": 20.991999999999997
         },
         {
          "A": 10.136000000000001,
          "B": 6.6799
         },
         {
          "A": 7.3345,
          "B": 4.0259
         },
         {
          "A": 6.0062,
          "B": 1.2784
         },
         {
          "A": 7.2259,
          "B": 3.3411
         },
         {
          "A": 5.0269,
          "B": -2.6807
         },
         {
          "A": 6.5479,
          "B": 0.29678000000000004
         },
         {
          "A": 7.5386,
          "B": 3.8845
         },
         {
          "A": 5.0365,
          "B": 5.7014
         },
         {
          "A": 10.274000000000001,
          "B": 6.7526
         },
         {
          "A": 5.1077,
          "B": 2.0576
         },
         {
          "A": 5.7292,
          "B": 0.47953
         },
         {
          "A": 5.1884,
          "B": 0.20421
         },
         {
          "A": 6.3557,
          "B": 0.67861
         },
         {
          "A": 9.7687,
          "B": 7.5435
         },
         {
          "A": 6.5159,
          "B": 5.3436
         },
         {
          "A": 8.5172,
          "B": 4.2415
         },
         {
          "A": 9.1802,
          "B": 6.7981
         },
         {
          "A": 6.002000000000001,
          "B": 0.92695
         },
         {
          "A": 5.5204,
          "B": 0.152
         },
         {
          "A": 5.0594,
          "B": 2.8214
         },
         {
          "A": 5.7077,
          "B": 1.8451
         },
         {
          "A": 7.6366,
          "B": 4.2959
         },
         {
          "A": 5.8707,
          "B": 7.2029
         },
         {
          "A": 5.3054,
          "B": 1.9869
         },
         {
          "A": 8.2934,
          "B": 0.14454
         },
         {
          "A": 13.394,
          "B": 9.0551
         },
         {
          "A": 5.4369,
          "B": 0.61705
         }
        ]
       },
       "encoding": {
        "x": {
         "field": "A",
         "type": "quantitative"
        },
        "y": {
         "field": "B",
         "type": "quantitative"
        }
       },
       "mark": {
        "size": 60,
        "type": "circle"
       }
      },
      "image/png": "[encoded data removed]",
      "text/plain": [
       "<VegaLite 2 object>\n",
       "\n",
       "If you see this message, it means the renderer has not been properly enabled\n",
       "for the frontend that you are using. For more information, see\n",
       "https://altair-viz.github.io/user_guide/troubleshooting.html\n"
      ]
     },
     "execution_count": 26,
     "metadata": {},
     "output_type": "execute_result"
    }
   ],
   "source": [
    "data_plot = alt.Chart(data).mark_circle(size=60).encode(\n",
    "    x='A:Q',\n",
    "    y='B:Q'\n",
    ")\n",
    "data_plot"
   ]
  },
  {
   "cell_type": "code",
   "execution_count": 44,
   "metadata": {},
   "outputs": [],
   "source": [
    "x = data.iloc[0:,0:1] #dados de treinamento\n",
    "ones = np.ones(len(data)) \n",
    "x.insert(0,len(x.columns) + 1,ones)\n",
    "y = data.iloc[:,1]\n",
    "theta = np.zeros(len(x.columns))\n",
    "x.columns = range(x.shape[1])\n",
    "iterations = 1500\n",
    "alpha = 0.01"
   ]
  },
  {
   "cell_type": "code",
   "execution_count": 45,
   "metadata": {},
   "outputs": [
    {
     "data": {
      "text/html": [
       "<div>\n",
       "<style scoped>\n",
       "    .dataframe tbody tr th:only-of-type {\n",
       "        vertical-align: middle;\n",
       "    }\n",
       "\n",
       "    .dataframe tbody tr th {\n",
       "        vertical-align: top;\n",
       "    }\n",
       "\n",
       "    .dataframe thead th {\n",
       "        text-align: right;\n",
       "    }\n",
       "</style>\n",
       "<table border=\"1\" class=\"dataframe\">\n",
       "  <thead>\n",
       "    <tr style=\"text-align: right;\">\n",
       "      <th></th>\n",
       "      <th>0</th>\n",
       "      <th>1</th>\n",
       "    </tr>\n",
       "  </thead>\n",
       "  <tbody>\n",
       "    <tr>\n",
       "      <th>0</th>\n",
       "      <td>1.0</td>\n",
       "      <td>6.1101</td>\n",
       "    </tr>\n",
       "    <tr>\n",
       "      <th>1</th>\n",
       "      <td>1.0</td>\n",
       "      <td>5.5277</td>\n",
       "    </tr>\n",
       "    <tr>\n",
       "      <th>2</th>\n",
       "      <td>1.0</td>\n",
       "      <td>8.5186</td>\n",
       "    </tr>\n",
       "    <tr>\n",
       "      <th>3</th>\n",
       "      <td>1.0</td>\n",
       "      <td>7.0032</td>\n",
       "    </tr>\n",
       "    <tr>\n",
       "      <th>4</th>\n",
       "      <td>1.0</td>\n",
       "      <td>5.8598</td>\n",
       "    </tr>\n",
       "    <tr>\n",
       "      <th>5</th>\n",
       "      <td>1.0</td>\n",
       "      <td>8.3829</td>\n",
       "    </tr>\n",
       "    <tr>\n",
       "      <th>6</th>\n",
       "      <td>1.0</td>\n",
       "      <td>7.4764</td>\n",
       "    </tr>\n",
       "    <tr>\n",
       "      <th>7</th>\n",
       "      <td>1.0</td>\n",
       "      <td>8.5781</td>\n",
       "    </tr>\n",
       "    <tr>\n",
       "      <th>8</th>\n",
       "      <td>1.0</td>\n",
       "      <td>6.4862</td>\n",
       "    </tr>\n",
       "    <tr>\n",
       "      <th>9</th>\n",
       "      <td>1.0</td>\n",
       "      <td>5.0546</td>\n",
       "    </tr>\n",
       "    <tr>\n",
       "      <th>10</th>\n",
       "      <td>1.0</td>\n",
       "      <td>5.7107</td>\n",
       "    </tr>\n",
       "    <tr>\n",
       "      <th>11</th>\n",
       "      <td>1.0</td>\n",
       "      <td>14.1640</td>\n",
       "    </tr>\n",
       "    <tr>\n",
       "      <th>12</th>\n",
       "      <td>1.0</td>\n",
       "      <td>5.7340</td>\n",
       "    </tr>\n",
       "    <tr>\n",
       "      <th>13</th>\n",
       "      <td>1.0</td>\n",
       "      <td>8.4084</td>\n",
       "    </tr>\n",
       "    <tr>\n",
       "      <th>14</th>\n",
       "      <td>1.0</td>\n",
       "      <td>5.6407</td>\n",
       "    </tr>\n",
       "    <tr>\n",
       "      <th>15</th>\n",
       "      <td>1.0</td>\n",
       "      <td>5.3794</td>\n",
       "    </tr>\n",
       "    <tr>\n",
       "      <th>16</th>\n",
       "      <td>1.0</td>\n",
       "      <td>6.3654</td>\n",
       "    </tr>\n",
       "    <tr>\n",
       "      <th>17</th>\n",
       "      <td>1.0</td>\n",
       "      <td>5.1301</td>\n",
       "    </tr>\n",
       "    <tr>\n",
       "      <th>18</th>\n",
       "      <td>1.0</td>\n",
       "      <td>6.4296</td>\n",
       "    </tr>\n",
       "    <tr>\n",
       "      <th>19</th>\n",
       "      <td>1.0</td>\n",
       "      <td>7.0708</td>\n",
       "    </tr>\n",
       "    <tr>\n",
       "      <th>20</th>\n",
       "      <td>1.0</td>\n",
       "      <td>6.1891</td>\n",
       "    </tr>\n",
       "    <tr>\n",
       "      <th>21</th>\n",
       "      <td>1.0</td>\n",
       "      <td>20.2700</td>\n",
       "    </tr>\n",
       "    <tr>\n",
       "      <th>22</th>\n",
       "      <td>1.0</td>\n",
       "      <td>5.4901</td>\n",
       "    </tr>\n",
       "    <tr>\n",
       "      <th>23</th>\n",
       "      <td>1.0</td>\n",
       "      <td>6.3261</td>\n",
       "    </tr>\n",
       "    <tr>\n",
       "      <th>24</th>\n",
       "      <td>1.0</td>\n",
       "      <td>5.5649</td>\n",
       "    </tr>\n",
       "    <tr>\n",
       "      <th>25</th>\n",
       "      <td>1.0</td>\n",
       "      <td>18.9450</td>\n",
       "    </tr>\n",
       "    <tr>\n",
       "      <th>26</th>\n",
       "      <td>1.0</td>\n",
       "      <td>12.8280</td>\n",
       "    </tr>\n",
       "    <tr>\n",
       "      <th>27</th>\n",
       "      <td>1.0</td>\n",
       "      <td>10.9570</td>\n",
       "    </tr>\n",
       "    <tr>\n",
       "      <th>28</th>\n",
       "      <td>1.0</td>\n",
       "      <td>13.1760</td>\n",
       "    </tr>\n",
       "    <tr>\n",
       "      <th>29</th>\n",
       "      <td>1.0</td>\n",
       "      <td>22.2030</td>\n",
       "    </tr>\n",
       "    <tr>\n",
       "      <th>...</th>\n",
       "      <td>...</td>\n",
       "      <td>...</td>\n",
       "    </tr>\n",
       "    <tr>\n",
       "      <th>67</th>\n",
       "      <td>1.0</td>\n",
       "      <td>10.2360</td>\n",
       "    </tr>\n",
       "    <tr>\n",
       "      <th>68</th>\n",
       "      <td>1.0</td>\n",
       "      <td>5.4994</td>\n",
       "    </tr>\n",
       "    <tr>\n",
       "      <th>69</th>\n",
       "      <td>1.0</td>\n",
       "      <td>20.3410</td>\n",
       "    </tr>\n",
       "    <tr>\n",
       "      <th>70</th>\n",
       "      <td>1.0</td>\n",
       "      <td>10.1360</td>\n",
       "    </tr>\n",
       "    <tr>\n",
       "      <th>71</th>\n",
       "      <td>1.0</td>\n",
       "      <td>7.3345</td>\n",
       "    </tr>\n",
       "    <tr>\n",
       "      <th>72</th>\n",
       "      <td>1.0</td>\n",
       "      <td>6.0062</td>\n",
       "    </tr>\n",
       "    <tr>\n",
       "      <th>73</th>\n",
       "      <td>1.0</td>\n",
       "      <td>7.2259</td>\n",
       "    </tr>\n",
       "    <tr>\n",
       "      <th>74</th>\n",
       "      <td>1.0</td>\n",
       "      <td>5.0269</td>\n",
       "    </tr>\n",
       "    <tr>\n",
       "      <th>75</th>\n",
       "      <td>1.0</td>\n",
       "      <td>6.5479</td>\n",
       "    </tr>\n",
       "    <tr>\n",
       "      <th>76</th>\n",
       "      <td>1.0</td>\n",
       "      <td>7.5386</td>\n",
       "    </tr>\n",
       "    <tr>\n",
       "      <th>77</th>\n",
       "      <td>1.0</td>\n",
       "      <td>5.0365</td>\n",
       "    </tr>\n",
       "    <tr>\n",
       "      <th>78</th>\n",
       "      <td>1.0</td>\n",
       "      <td>10.2740</td>\n",
       "    </tr>\n",
       "    <tr>\n",
       "      <th>79</th>\n",
       "      <td>1.0</td>\n",
       "      <td>5.1077</td>\n",
       "    </tr>\n",
       "    <tr>\n",
       "      <th>80</th>\n",
       "      <td>1.0</td>\n",
       "      <td>5.7292</td>\n",
       "    </tr>\n",
       "    <tr>\n",
       "      <th>81</th>\n",
       "      <td>1.0</td>\n",
       "      <td>5.1884</td>\n",
       "    </tr>\n",
       "    <tr>\n",
       "      <th>82</th>\n",
       "      <td>1.0</td>\n",
       "      <td>6.3557</td>\n",
       "    </tr>\n",
       "    <tr>\n",
       "      <th>83</th>\n",
       "      <td>1.0</td>\n",
       "      <td>9.7687</td>\n",
       "    </tr>\n",
       "    <tr>\n",
       "      <th>84</th>\n",
       "      <td>1.0</td>\n",
       "      <td>6.5159</td>\n",
       "    </tr>\n",
       "    <tr>\n",
       "      <th>85</th>\n",
       "      <td>1.0</td>\n",
       "      <td>8.5172</td>\n",
       "    </tr>\n",
       "    <tr>\n",
       "      <th>86</th>\n",
       "      <td>1.0</td>\n",
       "      <td>9.1802</td>\n",
       "    </tr>\n",
       "    <tr>\n",
       "      <th>87</th>\n",
       "      <td>1.0</td>\n",
       "      <td>6.0020</td>\n",
       "    </tr>\n",
       "    <tr>\n",
       "      <th>88</th>\n",
       "      <td>1.0</td>\n",
       "      <td>5.5204</td>\n",
       "    </tr>\n",
       "    <tr>\n",
       "      <th>89</th>\n",
       "      <td>1.0</td>\n",
       "      <td>5.0594</td>\n",
       "    </tr>\n",
       "    <tr>\n",
       "      <th>90</th>\n",
       "      <td>1.0</td>\n",
       "      <td>5.7077</td>\n",
       "    </tr>\n",
       "    <tr>\n",
       "      <th>91</th>\n",
       "      <td>1.0</td>\n",
       "      <td>7.6366</td>\n",
       "    </tr>\n",
       "    <tr>\n",
       "      <th>92</th>\n",
       "      <td>1.0</td>\n",
       "      <td>5.8707</td>\n",
       "    </tr>\n",
       "    <tr>\n",
       "      <th>93</th>\n",
       "      <td>1.0</td>\n",
       "      <td>5.3054</td>\n",
       "    </tr>\n",
       "    <tr>\n",
       "      <th>94</th>\n",
       "      <td>1.0</td>\n",
       "      <td>8.2934</td>\n",
       "    </tr>\n",
       "    <tr>\n",
       "      <th>95</th>\n",
       "      <td>1.0</td>\n",
       "      <td>13.3940</td>\n",
       "    </tr>\n",
       "    <tr>\n",
       "      <th>96</th>\n",
       "      <td>1.0</td>\n",
       "      <td>5.4369</td>\n",
       "    </tr>\n",
       "  </tbody>\n",
       "</table>\n",
       "<p>97 rows × 2 columns</p>\n",
       "</div>"
      ],
      "text/plain": [
       "      0        1\n",
       "0   1.0   6.1101\n",
       "1   1.0   5.5277\n",
       "2   1.0   8.5186\n",
       "3   1.0   7.0032\n",
       "4   1.0   5.8598\n",
       "5   1.0   8.3829\n",
       "6   1.0   7.4764\n",
       "7   1.0   8.5781\n",
       "8   1.0   6.4862\n",
       "9   1.0   5.0546\n",
       "10  1.0   5.7107\n",
       "11  1.0  14.1640\n",
       "12  1.0   5.7340\n",
       "13  1.0   8.4084\n",
       "14  1.0   5.6407\n",
       "15  1.0   5.3794\n",
       "16  1.0   6.3654\n",
       "17  1.0   5.1301\n",
       "18  1.0   6.4296\n",
       "19  1.0   7.0708\n",
       "20  1.0   6.1891\n",
       "21  1.0  20.2700\n",
       "22  1.0   5.4901\n",
       "23  1.0   6.3261\n",
       "24  1.0   5.5649\n",
       "25  1.0  18.9450\n",
       "26  1.0  12.8280\n",
       "27  1.0  10.9570\n",
       "28  1.0  13.1760\n",
       "29  1.0  22.2030\n",
       "..  ...      ...\n",
       "67  1.0  10.2360\n",
       "68  1.0   5.4994\n",
       "69  1.0  20.3410\n",
       "70  1.0  10.1360\n",
       "71  1.0   7.3345\n",
       "72  1.0   6.0062\n",
       "73  1.0   7.2259\n",
       "74  1.0   5.0269\n",
       "75  1.0   6.5479\n",
       "76  1.0   7.5386\n",
       "77  1.0   5.0365\n",
       "78  1.0  10.2740\n",
       "79  1.0   5.1077\n",
       "80  1.0   5.7292\n",
       "81  1.0   5.1884\n",
       "82  1.0   6.3557\n",
       "83  1.0   9.7687\n",
       "84  1.0   6.5159\n",
       "85  1.0   8.5172\n",
       "86  1.0   9.1802\n",
       "87  1.0   6.0020\n",
       "88  1.0   5.5204\n",
       "89  1.0   5.0594\n",
       "90  1.0   5.7077\n",
       "91  1.0   7.6366\n",
       "92  1.0   5.8707\n",
       "93  1.0   5.3054\n",
       "94  1.0   8.2934\n",
       "95  1.0  13.3940\n",
       "96  1.0   5.4369\n",
       "\n",
       "[97 rows x 2 columns]"
      ]
     },
     "execution_count": 45,
     "metadata": {},
     "output_type": "execute_result"
    }
   ],
   "source": [
    "x"
   ]
  },
  {
   "cell_type": "code",
   "execution_count": 46,
   "metadata": {},
   "outputs": [
    {
     "data": {
      "text/plain": [
       "array([0., 0.])"
      ]
     },
     "execution_count": 46,
     "metadata": {},
     "output_type": "execute_result"
    }
   ],
   "source": [
    "theta"
   ]
  },
  {
   "cell_type": "code",
   "execution_count": 47,
   "metadata": {},
   "outputs": [],
   "source": [
    "lr = LinearRegression()"
   ]
  },
  {
   "cell_type": "code",
   "execution_count": 48,
   "metadata": {},
   "outputs": [
    {
     "data": {
      "text/plain": [
       "32.072733877455654"
      ]
     },
     "execution_count": 48,
     "metadata": {},
     "output_type": "execute_result"
    }
   ],
   "source": [
    "custo = lr.cost_function(x,y,theta)\n",
    "custo"
   ]
  },
  {
   "cell_type": "code",
   "execution_count": 49,
   "metadata": {},
   "outputs": [
    {
     "data": {
      "text/plain": [
       "array([0., 0.])"
      ]
     },
     "execution_count": 49,
     "metadata": {},
     "output_type": "execute_result"
    }
   ],
   "source": [
    "theta"
   ]
  },
  {
   "cell_type": "code",
   "execution_count": 32,
   "metadata": {},
   "outputs": [
    {
     "data": {
      "text/plain": [
       "array([-3.58838901,  1.12366721])"
      ]
     },
     "execution_count": 32,
     "metadata": {},
     "output_type": "execute_result"
    }
   ],
   "source": [
    "theta_lr, custo_h = lr.gradient_descent(x,y,theta,alpha,iterations)\n",
    "theta_lr"
   ]
  },
  {
   "cell_type": "code",
   "execution_count": 33,
   "metadata": {},
   "outputs": [
    {
     "data": {
      "text/plain": [
       "array([ 3.27733001,  2.62290622,  5.98368248,  4.28087719,  2.9960761 ,\n",
       "        5.83120084,  4.81259651,  6.05054068,  3.69994124,  2.09129927,\n",
       "        2.82853732, 12.32723334,  2.85471877,  5.85985435,  2.74988062,\n",
       "        2.45626638,  3.56420224,  2.17613614,  3.63634168,  4.35683709,\n",
       "        3.36609971, 19.18834532,  2.58065634,  3.52004212,  2.66470664,\n",
       "       17.69948627, 10.82601395,  8.7236326 , 11.21705014, 21.36039404,\n",
       "        2.31356064,  3.8159037 ,  6.80351007,  3.03203345,  5.63815481,\n",
       "        5.32611243,  5.50870835,  2.71122647, 10.83500329,  3.55071824,\n",
       "        2.48716722,  4.14525056,  9.56750668,  2.89932836,  5.2039698 ,\n",
       "        4.38189487,  2.10882847,  2.93045394,  9.55851734,  2.6385252 ,\n",
       "        4.88428648,  2.37569944,  4.75360398,  4.95496515,  3.52757069,\n",
       "        3.55689841,  3.46172379,  2.74875695,  6.87317744,  7.03431132,\n",
       "        6.32842358,  2.23142057, 20.32212553, 13.16324174, 17.71521761,\n",
       "        4.52246564,  5.73254286,  7.91346854,  2.59110644, 19.26812569,\n",
       "        7.80110182,  4.65314814,  3.16058098,  4.53111788,  2.06017368,\n",
       "        3.76927151,  4.88248861,  2.07096089,  7.9561679 ,  2.15096599,\n",
       "        2.84932517,  2.24164594,  3.55330267,  7.38837886,  3.73331416,\n",
       "        5.98210934,  6.7271007 ,  3.15586158,  2.61470345,  2.09669287,\n",
       "        2.82516632,  4.992608  ,  3.00832408,  2.373115  ,  5.73063262,\n",
       "       11.46200959,  2.52087724])"
      ]
     },
     "execution_count": 33,
     "metadata": {},
     "output_type": "execute_result"
    }
   ],
   "source": [
    "Yfit = np.matmul(x,theta_lr)\n",
    "Yfit"
   ]
  },
  {
   "cell_type": "code",
   "execution_count": 34,
   "metadata": {},
   "outputs": [],
   "source": [
    "fit_plot = pd.DataFrame({'X':x[1],'Y':Yfit})"
   ]
  },
  {
   "cell_type": "code",
   "execution_count": 35,
   "metadata": {},
   "outputs": [],
   "source": [
    "polynomial_fit = alt.Chart(fit_plot).mark_line(color='red').encode(\n",
    "    x=alt.X('X',axis=alt.Axis(title='population')),\n",
    "    y=alt.Y('Y',axis=alt.Axis(title='profit'))\n",
    ")"
   ]
  },
  {
   "cell_type": "code",
   "execution_count": 36,
   "metadata": {},
   "outputs": [
    {
     "data": {
      "application/vnd.vegalite.v2+json": {
       "$schema": "https://vega.github.io/schema/vega-lite/v2.6.0.json",
       "config": {
        "view": {
         "height": 300,
         "width": 400
        }
       },
       "datasets": {
        "data-c49255fa94471e6b01de1015e399f1e5": [
         {
          "A": 6.1101,
          "B": 17.592
         },
         {
          "A": 5.5277,
          "B": 9.1302
         },
         {
          "A": 8.5186,
          "B": 13.662
         },
         {
          "A": 7.0032,
          "B": 11.854000000000001
         },
         {
          "A": 5.8598,
          "B": 6.8233
         },
         {
          "A": 8.3829,
          "B": 11.886
         },
         {
          "A": 7.4764,
          "B": 4.3483
         },
         {
          "A": 8.5781,
          "B": 12
         },
         {
          "A": 6.4862,
          "B": 6.5987
         },
         {
          "A": 5.0546,
          "B": 3.8166
         },
         {
          "A": 5.7107,
          "B": 3.2522
         },
         {
          "A": 14.164000000000001,
          "B": 15.505
         },
         {
          "A": 5.734,
          "B": 3.1551
         },
         {
          "A": 8.4084,
          "B": 7.2258
         },
         {
          "A": 5.6407,
          "B": 0.71618
         },
         {
          "A": 5.3794,
          "B": 3.5129
         },
         {
          "A": 6.3654,
          "B": 5.3048
         },
         {
          "A": 5.1301,
          "B": 0.56077
         },
         {
          "A": 6.4296,
          "B": 3.6518
         },
         {
          "A": 7.0708,
          "B": 5.3893
         },
         {
          "A": 6.1891,
          "B": 3.1386
         },
         {
          "A": 20.27,
          "B": 21.767
         },
         {
          "A": 5.4901,
          "B": 4.263
         },
         {
          "A": 6.3261,
          "B": 5.1875
         },
         {
          "A": 5.5649,
          "B": 3.0825
         },
         {
          "A": 18.945,
          "B": 22.638
         },
         {
          "A": 12.828,
          "B": 13.501
         },
         {
          "A": 10.957,
          "B": 7.0467
         },
         {
          "A": 13.175999999999998,
          "B": 14.692
         },
         {
          "A": 22.203000000000003,
          "B": 24.147
         },
         {
          "A": 5.2524,
          "B": -1.22
         },
         {
          "A": 6.5894,
          "B": 5.9966
         },
         {
          "A": 9.2482,
          "B": 12.134
         },
         {
          "A": 5.8918,
          "B": 1.8495
         },
         {
          "A": 8.2111,
          "B": 6.5426
         },
         {
          "A": 7.9334,
          "B": 4.5623
         },
         {
          "A": 8.0959,
          "B": 4.1164
         },
         {
          "A": 5.6063,
          "B": 3.3928
         },
         {
          "A": 12.835999999999999,
          "B": 10.117
         },
         {
          "A": 6.3534,
          "B": 5.4974
         },
         {
          "A": 5.4069,
          "B": 0.55657
         },
         {
          "A": 6.8825,
          "B": 3.9115
         },
         {
          "A": 11.708,
          "B": 5.3854
         },
         {
          "A": 5.7737,
          "B": 2.4406
         },
         {
          "A": 7.8247,
          "B": 6.7318
         },
         {
          "A": 7.0931,
          "B": 1.0463
         },
         {
          "A": 5.0702,
          "B": 5.1337
         },
         {
          "A": 5.8014,
          "B": 1.844
         },
         {
          "A": 11.7,
          "B": 8.0043
         },
         {
          "A": 5.5416,
          "B": 1.0179
         },
         {
          "A": 7.5402,
          "B": 6.7504
         },
         {
          "A": 5.3077,
          "B": 1.8396
         },
         {
          "A": 7.4239,
          "B": 4.2885
         },
         {
          "A": 7.6031,
          "B": 4.9981
         },
         {
          "A": 6.3328,
          "B": 1.4233
         },
         {
          "A": 6.3589,
          "B": -1.4211
         },
         {
          "A": 6.2742,
          "B": 2.4756
         },
         {
          "A": 5.6397,
          "B": 4.6042
         },
         {
          "A": 9.3102,
          "B": 3.9624
         },
         {
          "A": 9.4536,
          "B": 5.4141
         },
         {
          "A": 8.8254,
          "B": 5.1694
         },
         {
          "A": 5.1793,
          "B": -0.74279
         },
         {
          "A": 21.279,
          "B": 17.929000000000002
         },
         {
          "A": 14.908,
          "B": 12.054
         },
         {
          "A": 18.959,
          "B": 17.054000000000002
         },
         {
          "A": 7.2182,
          "B": 4.8852
         },
         {
          "A": 8.2951,
          "B": 5.7442
         },
         {
          "A": 10.236,
          "B": 7.7754
         },
         {
          "A": 5.4994,
          "B": 1.0173
         },
         {
          "A": 20.340999999999998,
          "B": 20.991999999999997
         },
         {
          "A": 10.136000000000001,
          "B": 6.6799
         },
         {
          "A": 7.3345,
          "B": 4.0259
         },
         {
          "A": 6.0062,
          "B": 1.2784
         },
         {
          "A": 7.2259,
          "B": 3.3411
         },
         {
          "A": 5.0269,
          "B": -2.6807
         },
         {
          "A": 6.5479,
          "B": 0.29678000000000004
         },
         {
          "A": 7.5386,
          "B": 3.8845
         },
         {
          "A": 5.0365,
          "B": 5.7014
         },
         {
          "A": 10.274000000000001,
          "B": 6.7526
         },
         {
          "A": 5.1077,
          "B": 2.0576
         },
         {
          "A": 5.7292,
          "B": 0.47953
         },
         {
          "A": 5.1884,
          "B": 0.20421
         },
         {
          "A": 6.3557,
          "B": 0.67861
         },
         {
          "A": 9.7687,
          "B": 7.5435
         },
         {
          "A": 6.5159,
          "B": 5.3436
         },
         {
          "A": 8.5172,
          "B": 4.2415
         },
         {
          "A": 9.1802,
          "B": 6.7981
         },
         {
          "A": 6.002000000000001,
          "B": 0.92695
         },
         {
          "A": 5.5204,
          "B": 0.152
         },
         {
          "A": 5.0594,
          "B": 2.8214
         },
         {
          "A": 5.7077,
          "B": 1.8451
         },
         {
          "A": 7.6366,
          "B": 4.2959
         },
         {
          "A": 5.8707,
          "B": 7.2029
         },
         {
          "A": 5.3054,
          "B": 1.9869
         },
         {
          "A": 8.2934,
          "B": 0.14454
         },
         {
          "A": 13.394,
          "B": 9.0551
         },
         {
          "A": 5.4369,
          "B": 0.61705
         }
        ],
        "data-e830812be6116c0042e7c75eca076e7c": [
         {
          "X": 6.1101,
          "Y": 3.2773300053651444
         },
         {
          "X": 5.5277,
          "Y": 2.62290622274115
         },
         {
          "X": 8.5186,
          "Y": 5.983682478665095
         },
         {
          "X": 7.0032,
          "Y": 4.280877189880065
         },
         {
          "X": 5.8598,
          "Y": 2.9960761029084377
         },
         {
          "X": 8.3829,
          "Y": 5.831200838379937
         },
         {
          "X": 7.4764,
          "Y": 4.812596513262061
         },
         {
          "X": 8.5781,
          "Y": 6.050540677611056
         },
         {
          "X": 6.4862,
          "Y": 3.699941242736169
         },
         {
          "X": 5.0546,
          "Y": 2.091299266080071
         },
         {
          "X": 5.7107,
          "Y": 2.828537322020324
         },
         {
          "X": 14.164000000000001,
          "Y": 12.327233341346247
         },
         {
          "X": 5.734,
          "Y": 2.8547187679941204
         },
         {
          "X": 8.4084,
          "Y": 5.8598543522139215
         },
         {
          "X": 5.6407,
          "Y": 2.7498806173780164
         },
         {
          "X": 5.3794,
          "Y": 2.4562663756203764
         },
         {
          "X": 6.3654,
          "Y": 3.5642022438677303
         },
         {
          "X": 5.1301,
          "Y": 2.176136140372845
         },
         {
          "X": 6.4296,
          "Y": 3.6363416786968172
         },
         {
          "X": 7.0708,
          "Y": 4.356837093220351
         },
         {
          "X": 6.1891,
          "Y": 3.3660997148900336
         },
         {
          "X": 20.27,
          "Y": 19.188345320573774
         },
         {
          "X": 5.4901,
          "Y": 2.5806563356761387
         },
         {
          "X": 6.3261,
          "Y": 3.520042122547121
         },
         {
          "X": 5.5649,
          "Y": 2.6647066429224897
         },
         {
          "X": 18.945,
          "Y": 17.699486268415818
         },
         {
          "X": 12.828,
          "Y": 10.826013949887354
         },
         {
          "X": 10.957,
          "Y": 8.723632601519405
         },
         {
          "X": 13.175999999999998,
          "Y": 11.217050138680538
         },
         {
          "X": 22.203000000000003,
          "Y": 21.36039403591063
         },
         {
          "X": 5.2524,
          "Y": 2.3135606400550475
         },
         {
          "X": 6.5894,
          "Y": 3.815903698723113
         },
         {
          "X": 9.2482,
          "Y": 6.803510074479772
         },
         {
          "X": 5.8918,
          "Y": 3.032033453602064
         },
         {
          "X": 8.2111,
          "Y": 5.638154811843533
         },
         {
          "X": 7.9334,
          "Y": 5.326112427855409
         },
         {
          "X": 8.0959,
          "Y": 5.508708349346479
         },
         {
          "X": 5.6063,
          "Y": 2.7112264653823686
         },
         {
          "X": 12.835999999999999,
          "Y": 10.835003287560761
         },
         {
          "X": 6.3534,
          "Y": 3.55071823735762
         },
         {
          "X": 5.4069,
          "Y": 2.4871672238727114
         },
         {
          "X": 6.8825,
          "Y": 4.1452505577325445
         },
         {
          "X": 11.708,
          "Y": 9.567506675610442
         },
         {
          "X": 5.7737,
          "Y": 2.8993283561984
         },
         {
          "X": 7.8247,
          "Y": 5.203969802217998
         },
         {
          "X": 7.0931,
          "Y": 4.381894871984971
         },
         {
          "X": 5.0702,
          "Y": 2.1088284745432135
         },
         {
          "X": 5.8014,
          "Y": 2.9304539378925702
         },
         {
          "X": 11.7,
          "Y": 9.558517337937035
         },
         {
          "X": 5.5416,
          "Y": 2.6385251969486934
         },
         {
          "X": 7.5402,
          "Y": 4.884286481207478
         },
         {
          "X": 5.3077,
          "Y": 2.3756994367224697
         },
         {
          "X": 7.4239,
          "Y": 4.753603984780331
         },
         {
          "X": 7.6031,
          "Y": 4.9549651486646376
         },
         {
          "X": 6.3328,
          "Y": 3.5275706928485984
         },
         {
          "X": 6.3589,
          "Y": 3.5568984070080876
         },
         {
          "X": 6.2742,
          "Y": 3.4617237943908963
         },
         {
          "X": 5.6397,
          "Y": 2.748756950168841
         },
         {
          "X": 9.3102,
          "Y": 6.8731774414486715
         },
         {
          "X": 9.4536,
          "Y": 7.034311319244484
         },
         {
          "X": 8.8254,
          "Y": 6.328423578440237
         },
         {
          "X": 5.1793,
          "Y": 2.231420567064295
         },
         {
          "X": 21.279,
          "Y": 20.32212553463217
         },
         {
          "X": 14.908,
          "Y": 13.163241744973051
         },
         {
          "X": 18.959,
          "Y": 17.71521760934428
         },
         {
          "X": 7.2182,
          "Y": 4.522465639852866
         },
         {
          "X": 8.2951,
          "Y": 5.732542857414301
         },
         {
          "X": 10.236,
          "Y": 7.913468543703643
         },
         {
          "X": 5.4994,
          "Y": 2.5911064407214734
         },
         {
          "X": 20.340999999999998,
          "Y": 19.268125692425254
         },
         {
          "X": 10.136000000000001,
          "Y": 7.801101822786062
         },
         {
          "X": 7.3345,
          "Y": 4.653148136280013
         },
         {
          "X": 6.0062,
          "Y": 3.160580982331777
         },
         {
          "X": 7.2259,
          "Y": 4.53111787736352
         },
         {
          "X": 5.0269,
          "Y": 2.0601736843859015
         },
         {
          "X": 6.5479,
          "Y": 3.769271509542317
         },
         {
          "X": 7.5386,
          "Y": 4.8824886136727965
         },
         {
          "X": 5.0365,
          "Y": 2.070960889593989
         },
         {
          "X": 10.274000000000001,
          "Y": 7.956167897652324
         },
         {
          "X": 5.1077,
          "Y": 2.1509659948873074
         },
         {
          "X": 5.7292,
          "Y": 2.849325165390076
         },
         {
          "X": 5.1884,
          "Y": 2.241645938667795
         },
         {
          "X": 6.3557,
          "Y": 3.5533026719387246
         },
         {
          "X": 9.7687,
          "Y": 7.388378856855784
         },
         {
          "X": 6.5159,
          "Y": 3.7333141588486907
         },
         {
          "X": 8.5172,
          "Y": 5.982109344572251
         },
         {
          "X": 9.1802,
          "Y": 6.727100704255815
         },
         {
          "X": 6.002000000000001,
          "Y": 3.1558615800532395
         },
         {
          "X": 5.5204,
          "Y": 2.6147034521141665
         },
         {
          "X": 5.0594,
          "Y": 2.0966928686841153
         },
         {
          "X": 5.7077,
          "Y": 2.825166320392796
         },
         {
          "X": 7.6366,
          "Y": 4.9926080001720265
         },
         {
          "X": 5.8707,
          "Y": 3.0083240754884546
         },
         {
          "X": 5.3054,
          "Y": 2.3731150021413656
         },
         {
          "X": 8.2934,
          "Y": 5.730632623158702
         },
         {
          "X": 13.394,
          "Y": 11.462009590280868
         },
         {
          "X": 5.4369,
          "Y": 2.520877240147985
         }
        ]
       },
       "layer": [
        {
         "data": {
          "name": "data-c49255fa94471e6b01de1015e399f1e5"
         },
         "encoding": {
          "x": {
           "field": "A",
           "type": "quantitative"
          },
          "y": {
           "field": "B",
           "type": "quantitative"
          }
         },
         "mark": {
          "size": 60,
          "type": "circle"
         }
        },
        {
         "data": {
          "name": "data-e830812be6116c0042e7c75eca076e7c"
         },
         "encoding": {
          "x": {
           "axis": {
            "title": "population"
           },
           "field": "X",
           "type": "quantitative"
          },
          "y": {
           "axis": {
            "title": "profit"
           },
           "field": "Y",
           "type": "quantitative"
          }
         },
         "mark": {
          "color": "red",
          "type": "line"
         }
        }
       ]
      },
      "image/png": "[encoded data removed]",
      "text/plain": [
       "<VegaLite 2 object>\n",
       "\n",
       "If you see this message, it means the renderer has not been properly enabled\n",
       "for the frontend that you are using. For more information, see\n",
       "https://altair-viz.github.io/user_guide/troubleshooting.html\n"
      ]
     },
     "execution_count": 36,
     "metadata": {},
     "output_type": "execute_result"
    }
   ],
   "source": [
    "data_plot + polynomial_fit"
   ]
  },
  {
   "cell_type": "code",
   "execution_count": 40,
   "metadata": {},
   "outputs": [],
   "source": [
    "it = list(range(1,1501))\n",
    "df_custo = pd.DataFrame({'Iteracoes':it,'Custo':custo_h})"
   ]
  },
  {
   "cell_type": "code",
   "execution_count": 41,
   "metadata": {},
   "outputs": [],
   "source": [
    "custo_plot = alt.Chart(df_custo).mark_line(color='red').encode(\n",
    "    x=alt.X('Iteracoes',axis=alt.Axis(title='Iterações')),\n",
    "    y=alt.Y('Custo',axis=alt.Axis(title='Custo'))\n",
    ")"
   ]
  },
  {
   "cell_type": "code",
   "execution_count": 39,
   "metadata": {},
   "outputs": [
    {
     "data": {
      "application/vnd.vegalite.v2+json": {
       "$schema": "https://vega.github.io/schema/vega-lite/v2.6.0.json",
       "config": {
        "view": {
         "height": 300,
         "width": 400
        }
       },
       "data": {
        "name": "data-b184ee7981adf582b2cca664362f19b5"
       },
       "datasets": {
        "data-b184ee7981adf582b2cca664362f19b5": [
         {
          "Custo": 11.544251190088342,
          "Iteracoes": 1
         },
         {
          "Custo": 7.295654335351229,
          "Iteracoes": 2
         },
         {
          "Custo": 6.33392832061515,
          "Iteracoes": 3
         },
         {
          "Custo": 6.081473525091057,
          "Iteracoes": 4
         },
         {
          "Custo": 6.000792675063813,
          "Iteracoes": 5
         },
         {
          "Custo": 5.968898072474119,
          "Iteracoes": 6
         },
         {
          "Custo": 5.953320547416197,
          "Iteracoes": 7
         },
         {
          "Custo": 5.943923005630127,
          "Iteracoes": 8
         },
         {
          "Custo": 5.937049975099988,
          "Iteracoes": 9
         },
         {
          "Custo": 5.931253225598522,
          "Iteracoes": 10
         },
         {
          "Custo": 5.925929132574377,
          "Iteracoes": 11
         },
         {
          "Custo": 5.920819849744013,
          "Iteracoes": 12
         },
         {
          "Custo": 5.915813975998394,
          "Iteracoes": 13
         },
         {
          "Custo": 5.9108631206286795,
          "Iteracoes": 14
         },
         {
          "Custo": 5.905946197164672,
          "Iteracoes": 15
         },
         {
          "Custo": 5.901053988035698,
          "Iteracoes": 16
         },
         {
          "Custo": 5.896182442131491,
          "Iteracoes": 17
         },
         {
          "Custo": 5.8913297586932485,
          "Iteracoes": 18
         },
         {
          "Custo": 5.8864951174755715,
          "Iteracoes": 19
         },
         {
          "Custo": 5.88167812557948,
          "Iteracoes": 20
         },
         {
          "Custo": 5.876878576441964,
          "Iteracoes": 21
         },
         {
          "Custo": 5.8720963448219035,
          "Iteracoes": 22
         },
         {
          "Custo": 5.867331341041226,
          "Iteracoes": 23
         },
         {
          "Custo": 5.862583491045337,
          "Iteracoes": 24
         },
         {
          "Custo": 5.857852727714159,
          "Iteracoes": 25
         },
         {
          "Custo": 5.853138987075462,
          "Iteracoes": 26
         },
         {
          "Custo": 5.848442206654391,
          "Iteracoes": 27
         },
         {
          "Custo": 5.843762324753816,
          "Iteracoes": 28
         },
         {
          "Custo": 5.839099280140309,
          "Iteracoes": 29
         },
         {
          "Custo": 5.834453011906846,
          "Iteracoes": 30
         },
         {
          "Custo": 5.829823459412494,
          "Iteracoes": 31
         },
         {
          "Custo": 5.825210562255774,
          "Iteracoes": 32
         },
         {
          "Custo": 5.8206142602624995,
          "Iteracoes": 33
         },
         {
          "Custo": 5.8160344934801085,
          "Iteracoes": 34
         },
         {
          "Custo": 5.811471202174703,
          "Iteracoes": 35
         },
         {
          "Custo": 5.806924326829359,
          "Iteracoes": 36
         },
         {
          "Custo": 5.802393808142892,
          "Iteracoes": 37
         },
         {
          "Custo": 5.797879587028939,
          "Iteracoes": 38
         },
         {
          "Custo": 5.793381604615086,
          "Iteracoes": 39
         },
         {
          "Custo": 5.78889980224207,
          "Iteracoes": 40
         },
         {
          "Custo": 5.784434121462955,
          "Iteracoes": 41
         },
         {
          "Custo": 5.779984504042424,
          "Iteracoes": 42
         },
         {
          "Custo": 5.775550891955927,
          "Iteracoes": 43
         },
         {
          "Custo": 5.771133227388994,
          "Iteracoes": 44
         },
         {
          "Custo": 5.766731452736421,
          "Iteracoes": 45
         },
         {
          "Custo": 5.762345510601536,
          "Iteracoes": 46
         },
         {
          "Custo": 5.757975343795428,
          "Iteracoes": 47
         },
         {
          "Custo": 5.753620895336198,
          "Iteracoes": 48
         },
         {
          "Custo": 5.749282108448238,
          "Iteracoes": 49
         },
         {
          "Custo": 5.744958926561422,
          "Iteracoes": 50
         },
         {
          "Custo": 5.740651293310419,
          "Iteracoes": 51
         },
         {
          "Custo": 5.736359152533934,
          "Iteracoes": 52
         },
         {
          "Custo": 5.732082448273943,
          "Iteracoes": 53
         },
         {
          "Custo": 5.727821124774998,
          "Iteracoes": 54
         },
         {
          "Custo": 5.723575126483462,
          "Iteracoes": 55
         },
         {
          "Custo": 5.719344398046785,
          "Iteracoes": 56
         },
         {
          "Custo": 5.715128884312788,
          "Iteracoes": 57
         },
         {
          "Custo": 5.710928530328919,
          "Iteracoes": 58
         },
         {
          "Custo": 5.706743281341541,
          "Iteracoes": 59
         },
         {
          "Custo": 5.70257308279521,
          "Iteracoes": 60
         },
         {
          "Custo": 5.698417880331949,
          "Iteracoes": 61
         },
         {
          "Custo": 5.6942776197905385,
          "Iteracoes": 62
         },
         {
          "Custo": 5.69015224720581,
          "Iteracoes": 63
         },
         {
          "Custo": 5.686041708807924,
          "Iteracoes": 64
         },
         {
          "Custo": 5.68194595102167,
          "Iteracoes": 65
         },
         {
          "Custo": 5.677864920465757,
          "Iteracoes": 66
         },
         {
          "Custo": 5.673798563952107,
          "Iteracoes": 67
         },
         {
          "Custo": 5.66974682848516,
          "Iteracoes": 68
         },
         {
          "Custo": 5.665709661261192,
          "Iteracoes": 69
         },
         {
          "Custo": 5.661687009667583,
          "Iteracoes": 70
         },
         {
          "Custo": 5.6576788212821585,
          "Iteracoes": 71
         },
         {
          "Custo": 5.653685043872484,
          "Iteracoes": 72
         },
         {
          "Custo": 5.649705625395178,
          "Iteracoes": 73
         },
         {
          "Custo": 5.645740513995228,
          "Iteracoes": 74
         },
         {
          "Custo": 5.641789658005316,
          "Iteracoes": 75
         },
         {
          "Custo": 5.637853005945124,
          "Iteracoes": 76
         },
         {
          "Custo": 5.6339305065206675,
          "Iteracoes": 77
         },
         {
          "Custo": 5.630022108623609,
          "Iteracoes": 78
         },
         {
          "Custo": 5.626127761330605,
          "Iteracoes": 79
         },
         {
          "Custo": 5.62224741390262,
          "Iteracoes": 80
         },
         {
          "Custo": 5.61838101578425,
          "Iteracoes": 81
         },
         {
          "Custo": 5.614528516603088,
          "Iteracoes": 82
         },
         {
          "Custo": 5.610689866169029,
          "Iteracoes": 83
         },
         {
          "Custo": 5.6068650144736285,
          "Iteracoes": 84
         },
         {
          "Custo": 5.603053911689431,
          "Iteracoes": 85
         },
         {
          "Custo": 5.599256508169332,
          "Iteracoes": 86
         },
         {
          "Custo": 5.595472754445904,
          "Iteracoes": 87
         },
         {
          "Custo": 5.59170260123077,
          "Iteracoes": 88
         },
         {
          "Custo": 5.5879459994139244,
          "Iteracoes": 89
         },
         {
          "Custo": 5.584202900063106,
          "Iteracoes": 90
         },
         {
          "Custo": 5.580473254423153,
          "Iteracoes": 91
         },
         {
          "Custo": 5.576757013915367,
          "Iteracoes": 92
         },
         {
          "Custo": 5.573054130136848,
          "Iteracoes": 93
         },
         {
          "Custo": 5.569364554859887,
          "Iteracoes": 94
         },
         {
          "Custo": 5.56568824003132,
          "Iteracoes": 95
         },
         {
          "Custo": 5.562025137771886,
          "Iteracoes": 96
         },
         {
          "Custo": 5.55837520037561,
          "Iteracoes": 97
         },
         {
          "Custo": 5.554738380309166,
          "Iteracoes": 98
         },
         {
          "Custo": 5.551114630211268,
          "Iteracoes": 99
         },
         {
          "Custo": 5.547503902892023,
          "Iteracoes": 100
         },
         {
          "Custo": 5.543906151332323,
          "Iteracoes": 101
         },
         {
          "Custo": 5.5403213286832305,
          "Iteracoes": 102
         },
         {
          "Custo": 5.536749388265353,
          "Iteracoes": 103
         },
         {
          "Custo": 5.533190283568223,
          "Iteracoes": 104
         },
         {
          "Custo": 5.529643968249714,
          "Iteracoes": 105
         },
         {
          "Custo": 5.526110396135392,
          "Iteracoes": 106
         },
         {
          "Custo": 5.5225895212179354,
          "Iteracoes": 107
         },
         {
          "Custo": 5.519081297656532,
          "Iteracoes": 108
         },
         {
          "Custo": 5.51558567977624,
          "Iteracoes": 109
         },
         {
          "Custo": 5.512102622067434,
          "Iteracoes": 110
         },
         {
          "Custo": 5.508632079185172,
          "Iteracoes": 111
         },
         {
          "Custo": 5.50517400594862,
          "Iteracoes": 112
         },
         {
          "Custo": 5.50172835734044,
          "Iteracoes": 113
         },
         {
          "Custo": 5.498295088506208,
          "Iteracoes": 114
         },
         {
          "Custo": 5.494874154753821,
          "Iteracoes": 115
         },
         {
          "Custo": 5.4914655115529145,
          "Iteracoes": 116
         },
         {
          "Custo": 5.488069114534262,
          "Iteracoes": 117
         },
         {
          "Custo": 5.484684919489212,
          "Iteracoes": 118
         },
         {
          "Custo": 5.481312882369076,
          "Iteracoes": 119
         },
         {
          "Custo": 5.477952959284598,
          "Iteracoes": 120
         },
         {
          "Custo": 5.4746051065053045,
          "Iteracoes": 121
         },
         {
          "Custo": 5.471269280459016,
          "Iteracoes": 122
         },
         {
          "Custo": 5.467945437731193,
          "Iteracoes": 123
         },
         {
          "Custo": 5.464633535064419,
          "Iteracoes": 124
         },
         {
          "Custo": 5.461333529357809,
          "Iteracoes": 125
         },
         {
          "Custo": 5.4580453776664415,
          "Iteracoes": 126
         },
         {
          "Custo": 5.454769037200808,
          "Iteracoes": 127
         },
         {
          "Custo": 5.451504465326228,
          "Iteracoes": 128
         },
         {
          "Custo": 5.448251619562305,
          "Iteracoes": 129
         },
         {
          "Custo": 5.445010457582363,
          "Iteracoes": 130
         },
         {
          "Custo": 5.441780937212887,
          "Iteracoes": 131
         },
         {
          "Custo": 5.438563016432971,
          "Iteracoes": 132
         },
         {
          "Custo": 5.43535665337377,
          "Iteracoes": 133
         },
         {
          "Custo": 5.4321618063179296,
          "Iteracoes": 134
         },
         {
          "Custo": 5.428978433699065,
          "Iteracoes": 135
         },
         {
          "Custo": 5.425806494101186,
          "Iteracoes": 136
         },
         {
          "Custo": 5.422645946258175,
          "Iteracoes": 137
         },
         {
          "Custo": 5.419496749053242,
          "Iteracoes": 138
         },
         {
          "Custo": 5.416358861518347,
          "Iteracoes": 139
         },
         {
          "Custo": 5.413232242833727,
          "Iteracoes": 140
         },
         {
          "Custo": 5.410116852327306,
          "Iteracoes": 141
         },
         {
          "Custo": 5.407012649474167,
          "Iteracoes": 142
         },
         {
          "Custo": 5.403919593896036,
          "Iteracoes": 143
         },
         {
          "Custo": 5.400837645360752,
          "Iteracoes": 144
         },
         {
          "Custo": 5.397766763781712,
          "Iteracoes": 145
         },
         {
          "Custo": 5.394706909217371,
          "Iteracoes": 146
         },
         {
          "Custo": 5.391658041870707,
          "Iteracoes": 147
         },
         {
          "Custo": 5.388620122088682,
          "Iteracoes": 148
         },
         {
          "Custo": 5.385593110361751,
          "Iteracoes": 149
         },
         {
          "Custo": 5.382576967323311,
          "Iteracoes": 150
         },
         {
          "Custo": 5.379571653749204,
          "Iteracoes": 151
         },
         {
          "Custo": 5.376577130557206,
          "Iteracoes": 152
         },
         {
          "Custo": 5.373593358806473,
          "Iteracoes": 153
         },
         {
          "Custo": 5.370620299697082,
          "Iteracoes": 154
         },
         {
          "Custo": 5.367657914569485,
          "Iteracoes": 155
         },
         {
          "Custo": 5.364706164904013,
          "Iteracoes": 156
         },
         {
          "Custo": 5.361765012320367,
          "Iteracoes": 157
         },
         {
          "Custo": 5.358834418577108,
          "Iteracoes": 158
         },
         {
          "Custo": 5.355914345571173,
          "Iteracoes": 159
         },
         {
          "Custo": 5.3530047553373405,
          "Iteracoes": 160
         },
         {
          "Custo": 5.350105610047765,
          "Iteracoes": 161
         },
         {
          "Custo": 5.347216872011465,
          "Iteracoes": 162
         },
         {
          "Custo": 5.344338503673811,
          "Iteracoes": 163
         },
         {
          "Custo": 5.341470467616061,
          "Iteracoes": 164
         },
         {
          "Custo": 5.33861272655486,
          "Iteracoes": 165
         },
         {
          "Custo": 5.335765243341729,
          "Iteracoes": 166
         },
         {
          "Custo": 5.332927980962598,
          "Iteracoes": 167
         },
         {
          "Custo": 5.330100902537307,
          "Iteracoes": 168
         },
         {
          "Custo": 5.327283971319144,
          "Iteracoes": 169
         },
         {
          "Custo": 5.324477150694319,
          "Iteracoes": 170
         },
         {
          "Custo": 5.321680404181532,
          "Iteracoes": 171
         },
         {
          "Custo": 5.318893695431454,
          "Iteracoes": 172
         },
         {
          "Custo": 5.316116988226262,
          "Iteracoes": 173
         },
         {
          "Custo": 5.313350246479167,
          "Iteracoes": 174
         },
         {
          "Custo": 5.31059343423394,
          "Iteracoes": 175
         },
         {
          "Custo": 5.307846515664426,
          "Iteracoes": 176
         },
         {
          "Custo": 5.305109455074095,
          "Iteracoes": 177
         },
         {
          "Custo": 5.302382216895548,
          "Iteracoes": 178
         },
         {
          "Custo": 5.299664765690069,
          "Iteracoes": 179
         },
         {
          "Custo": 5.29695706614714,
          "Iteracoes": 180
         },
         {
          "Custo": 5.294259083083999,
          "Iteracoes": 181
         },
         {
          "Custo": 5.291570781445154,
          "Iteracoes": 182
         },
         {
          "Custo": 5.2888921263019375,
          "Iteracoes": 183
         },
         {
          "Custo": 5.286223082852053,
          "Iteracoes": 184
         },
         {
          "Custo": 5.283563616419087,
          "Iteracoes": 185
         },
         {
          "Custo": 5.280913692452083,
          "Iteracoes": 186
         },
         {
          "Custo": 5.278273276525088,
          "Iteracoes": 187
         },
         {
          "Custo": 5.275642334336664,
          "Iteracoes": 188
         },
         {
          "Custo": 5.273020831709474,
          "Iteracoes": 189
         },
         {
          "Custo": 5.270408734589833,
          "Iteracoes": 190
         },
         {
          "Custo": 5.267806009047227,
          "Iteracoes": 191
         },
         {
          "Custo": 5.265212621273895,
          "Iteracoes": 192
         },
         {
          "Custo": 5.262628537584371,
          "Iteracoes": 193
         },
         {
          "Custo": 5.260053724415054,
          "Iteracoes": 194
         },
         {
          "Custo": 5.257488148323754,
          "Iteracoes": 195
         },
         {
          "Custo": 5.254931775989252,
          "Iteracoes": 196
         },
         {
          "Custo": 5.252384574210883,
          "Iteracoes": 197
         },
         {
          "Custo": 5.2498465099080605,
          "Iteracoes": 198
         },
         {
          "Custo": 5.247317550119879,
          "Iteracoes": 199
         },
         {
          "Custo": 5.24479766200466,
          "Iteracoes": 200
         },
         {
          "Custo": 5.242286812839527,
          "Iteracoes": 201
         },
         {
          "Custo": 5.239784970019971,
          "Iteracoes": 202
         },
         {
          "Custo": 5.2372921010594276,
          "Iteracoes": 203
         },
         {
          "Custo": 5.23480817358884,
          "Iteracoes": 204
         },
         {
          "Custo": 5.232333155356249,
          "Iteracoes": 205
         },
         {
          "Custo": 5.229867014226357,
          "Iteracoes": 206
         },
         {
          "Custo": 5.2274097181800965,
          "Iteracoes": 207
         },
         {
          "Custo": 5.224961235314237,
          "Iteracoes": 208
         },
         {
          "Custo": 5.222521533840937,
          "Iteracoes": 209
         },
         {
          "Custo": 5.220090582087341,
          "Iteracoes": 210
         },
         {
          "Custo": 5.2176683484951685,
          "Iteracoes": 211
         },
         {
          "Custo": 5.215254801620277,
          "Iteracoes": 212
         },
         {
          "Custo": 5.212849910132267,
          "Iteracoes": 213
         },
         {
          "Custo": 5.210453642814064,
          "Iteracoes": 214
         },
         {
          "Custo": 5.208065968561513,
          "Iteracoes": 215
         },
         {
          "Custo": 5.205686856382961,
          "Iteracoes": 216
         },
         {
          "Custo": 5.203316275398859,
          "Iteracoes": 217
         },
         {
          "Custo": 5.200954194841343,
          "Iteracoes": 218
         },
         {
          "Custo": 5.198600584053836,
          "Iteracoes": 219
         },
         {
          "Custo": 5.196255412490655,
          "Iteracoes": 220
         },
         {
          "Custo": 5.1939186497166,
          "Iteracoes": 221
         },
         {
          "Custo": 5.191590265406544,
          "Iteracoes": 222
         },
         {
          "Custo": 5.189270229345054,
          "Iteracoes": 223
         },
         {
          "Custo": 5.186958511425979,
          "Iteracoes": 224
         },
         {
          "Custo": 5.18465508165206,
          "Iteracoes": 225
         },
         {
          "Custo": 5.18235991013453,
          "Iteracoes": 226
         },
         {
          "Custo": 5.180072967092745,
          "Iteracoes": 227
         },
         {
          "Custo": 5.17779422285375,
          "Iteracoes": 228
         },
         {
          "Custo": 5.17552364785192,
          "Iteracoes": 229
         },
         {
          "Custo": 5.173261212628562,
          "Iteracoes": 230
         },
         {
          "Custo": 5.17100688783154,
          "Iteracoes": 231
         },
         {
          "Custo": 5.168760644214863,
          "Iteracoes": 232
         },
         {
          "Custo": 5.166522452638323,
          "Iteracoes": 233
         },
         {
          "Custo": 5.164292284067101,
          "Iteracoes": 234
         },
         {
          "Custo": 5.162070109571398,
          "Iteracoes": 235
         },
         {
          "Custo": 5.159855900326027,
          "Iteracoes": 236
         },
         {
          "Custo": 5.157649627610073,
          "Iteracoes": 237
         },
         {
          "Custo": 5.155451262806477,
          "Iteracoes": 238
         },
         {
          "Custo": 5.153260777401689,
          "Iteracoes": 239
         },
         {
          "Custo": 5.151078142985271,
          "Iteracoes": 240
         },
         {
          "Custo": 5.1489033312495485,
          "Iteracoes": 241
         },
         {
          "Custo": 5.146736313989208,
          "Iteracoes": 242
         },
         {
          "Custo": 5.144577063100955,
          "Iteracoes": 243
         },
         {
          "Custo": 5.142425550583124,
          "Iteracoes": 244
         },
         {
          "Custo": 5.140281748535321,
          "Iteracoes": 245
         },
         {
          "Custo": 5.138145629158043,
          "Iteracoes": 246
         },
         {
          "Custo": 5.136017164752344,
          "Iteracoes": 247
         },
         {
          "Custo": 5.1338963277194285,
          "Iteracoes": 248
         },
         {
          "Custo": 5.131783090560333,
          "Iteracoes": 249
         },
         {
          "Custo": 5.129677425875513,
          "Iteracoes": 250
         },
         {
          "Custo": 5.127579306364538,
          "Iteracoes": 251
         },
         {
          "Custo": 5.125488704825689,
          "Iteracoes": 252
         },
         {
          "Custo": 5.1234055941556225,
          "Iteracoes": 253
         },
         {
          "Custo": 5.121329947349014,
          "Iteracoes": 254
         },
         {
          "Custo": 5.119261737498194,
          "Iteracoes": 255
         },
         {
          "Custo": 5.117200937792798,
          "Iteracoes": 256
         },
         {
          "Custo": 5.115147521519423,
          "Iteracoes": 257
         },
         {
          "Custo": 5.113101462061253,
          "Iteracoes": 258
         },
         {
          "Custo": 5.1110627328977385,
          "Iteracoes": 259
         },
         {
          "Custo": 5.109031307604231,
          "Iteracoes": 260
         },
         {
          "Custo": 5.107007159851635,
          "Iteracoes": 261
         },
         {
          "Custo": 5.104990263406064,
          "Iteracoes": 262
         },
         {
          "Custo": 5.102980592128502,
          "Iteracoes": 263
         },
         {
          "Custo": 5.100978119974452,
          "Iteracoes": 264
         },
         {
          "Custo": 5.098982820993592,
          "Iteracoes": 265
         },
         {
          "Custo": 5.096994669329451,
          "Iteracoes": 266
         },
         {
          "Custo": 5.095013639219044,
          "Iteracoes": 267
         },
         {
          "Custo": 5.093039704992552,
          "Iteracoes": 268
         },
         {
          "Custo": 5.091072841072975,
          "Iteracoes": 269
         },
         {
          "Custo": 5.089113021975802,
          "Iteracoes": 270
         },
         {
          "Custo": 5.087160222308678,
          "Iteracoes": 271
         },
         {
          "Custo": 5.085214416771058,
          "Iteracoes": 272
         },
         {
          "Custo": 5.08327558015388,
          "Iteracoes": 273
         },
         {
          "Custo": 5.081343687339248,
          "Iteracoes": 274
         },
         {
          "Custo": 5.07941871330007,
          "Iteracoes": 275
         },
         {
          "Custo": 5.077500633099773,
          "Iteracoes": 276
         },
         {
          "Custo": 5.07558942189193,
          "Iteracoes": 277
         },
         {
          "Custo": 5.073685054919968,
          "Iteracoes": 278
         },
         {
          "Custo": 5.0717875075168175,
          "Iteracoes": 279
         },
         {
          "Custo": 5.06989675510461,
          "Iteracoes": 280
         },
         {
          "Custo": 5.0680127731943445,
          "Iteracoes": 281
         },
         {
          "Custo": 5.066135537385555,
          "Iteracoes": 282
         },
         {
          "Custo": 5.0642650233660085,
          "Iteracoes": 283
         },
         {
          "Custo": 5.062401206911374,
          "Iteracoes": 284
         },
         {
          "Custo": 5.060544063884918,
          "Iteracoes": 285
         },
         {
          "Custo": 5.058693570237159,
          "Iteracoes": 286
         },
         {
          "Custo": 5.0568497020055965,
          "Iteracoes": 287
         },
         {
          "Custo": 5.055012435314336,
          "Iteracoes": 288
         },
         {
          "Custo": 5.053181746373836,
          "Iteracoes": 289
         },
         {
          "Custo": 5.051357611480548,
          "Iteracoes": 290
         },
         {
          "Custo": 5.049540007016644,
          "Iteracoes": 291
         },
         {
          "Custo": 5.047728909449666,
          "Iteracoes": 292
         },
         {
          "Custo": 5.045924295332255,
          "Iteracoes": 293
         },
         {
          "Custo": 5.044126141301814,
          "Iteracoes": 294
         },
         {
          "Custo": 5.04233442408022,
          "Iteracoes": 295
         },
         {
          "Custo": 5.0405491204735045,
          "Iteracoes": 296
         },
         {
          "Custo": 5.038770207371559,
          "Iteracoes": 297
         },
         {
          "Custo": 5.036997661747822,
          "Iteracoes": 298
         },
         {
          "Custo": 5.035231460658993,
          "Iteracoes": 299
         },
         {
          "Custo": 5.033471581244704,
          "Iteracoes": 300
         },
         {
          "Custo": 5.031718000727242,
          "Iteracoes": 301
         },
         {
          "Custo": 5.029970696411247,
          "Iteracoes": 302
         },
         {
          "Custo": 5.028229645683402,
          "Iteracoes": 303
         },
         {
          "Custo": 5.02649482601215,
          "Iteracoes": 304
         },
         {
          "Custo": 5.024766214947376,
          "Iteracoes": 305
         },
         {
          "Custo": 5.023043790120147,
          "Iteracoes": 306
         },
         {
          "Custo": 5.021327529242378,
          "Iteracoes": 307
         },
         {
          "Custo": 5.019617410106582,
          "Iteracoes": 308
         },
         {
          "Custo": 5.0179134105855345,
          "Iteracoes": 309
         },
         {
          "Custo": 5.016215508632008,
          "Iteracoes": 310
         },
         {
          "Custo": 5.014523682278489,
          "Iteracoes": 311
         },
         {
          "Custo": 5.012837909636872,
          "Iteracoes": 312
         },
         {
          "Custo": 5.011158168898168,
          "Iteracoes": 313
         },
         {
          "Custo": 5.00948443833224,
          "Iteracoes": 314
         },
         {
          "Custo": 5.007816696287503,
          "Iteracoes": 315
         },
         {
          "Custo": 5.006154921190648,
          "Iteracoes": 316
         },
         {
          "Custo": 5.004499091546338,
          "Iteracoes": 317
         },
         {
          "Custo": 5.0028491859369515,
          "Iteracoes": 318
         },
         {
          "Custo": 5.001205183022285,
          "Iteracoes": 319
         },
         {
          "Custo": 4.999567061539284,
          "Iteracoes": 320
         },
         {
          "Custo": 4.99793480030175,
          "Iteracoes": 321
         },
         {
          "Custo": 4.996308378200072,
          "Iteracoes": 322
         },
         {
          "Custo": 4.9946877742009494,
          "Iteracoes": 323
         },
         {
          "Custo": 4.993072967347102,
          "Iteracoes": 324
         },
         {
          "Custo": 4.991463936757023,
          "Iteracoes": 325
         },
         {
          "Custo": 4.989860661624676,
          "Iteracoes": 326
         },
         {
          "Custo": 4.988263121219229,
          "Iteracoes": 327
         },
         {
          "Custo": 4.986671294884793,
          "Iteracoes": 328
         },
         {
          "Custo": 4.985085162040144,
          "Iteracoes": 329
         },
         {
          "Custo": 4.983504702178452,
          "Iteracoes": 330
         },
         {
          "Custo": 4.981929894866998,
          "Iteracoes": 331
         },
         {
          "Custo": 4.980360719746945,
          "Iteracoes": 332
         },
         {
          "Custo": 4.978797156533025,
          "Iteracoes": 333
         },
         {
          "Custo": 4.977239185013293,
          "Iteracoes": 334
         },
         {
          "Custo": 4.975686785048874,
          "Iteracoes": 335
         },
         {
          "Custo": 4.974139936573673,
          "Iteracoes": 336
         },
         {
          "Custo": 4.97259861959413,
          "Iteracoes": 337
         },
         {
          "Custo": 4.971062814188951,
          "Iteracoes": 338
         },
         {
          "Custo": 4.969532500508841,
          "Iteracoes": 339
         },
         {
          "Custo": 4.968007658776252,
          "Iteracoes": 340
         },
         {
          "Custo": 4.966488269285121,
          "Iteracoes": 341
         },
         {
          "Custo": 4.964974312400616,
          "Iteracoes": 342
         },
         {
          "Custo": 4.963465768558859,
          "Iteracoes": 343
         },
         {
          "Custo": 4.961962618266689,
          "Iteracoes": 344
         },
         {
          "Custo": 4.960464842101401,
          "Iteracoes": 345
         },
         {
          "Custo": 4.95897242071049,
          "Iteracoes": 346
         },
         {
          "Custo": 4.957485334811384,
          "Iteracoes": 347
         },
         {
          "Custo": 4.956003565191222,
          "Iteracoes": 348
         },
         {
          "Custo": 4.9545270927065665,
          "Iteracoes": 349
         },
         {
          "Custo": 4.95305589828317,
          "Iteracoes": 350
         },
         {
          "Custo": 4.951589962915732,
          "Iteracoes": 351
         },
         {
          "Custo": 4.9501292676676325,
          "Iteracoes": 352
         },
         {
          "Custo": 4.948673793670685,
          "Iteracoes": 353
         },
         {
          "Custo": 4.947223522124911,
          "Iteracoes": 354
         },
         {
          "Custo": 4.945778434298255,
          "Iteracoes": 355
         },
         {
          "Custo": 4.94433851152638,
          "Iteracoes": 356
         },
         {
          "Custo": 4.942903735212382,
          "Iteracoes": 357
         },
         {
          "Custo": 4.941474086826587,
          "Iteracoes": 358
         },
         {
          "Custo": 4.940049547906267,
          "Iteracoes": 359
         },
         {
          "Custo": 4.938630100055435,
          "Iteracoes": 360
         },
         {
          "Custo": 4.937215724944566,
          "Iteracoes": 361
         },
         {
          "Custo": 4.935806404310399,
          "Iteracoes": 362
         },
         {
          "Custo": 4.934402119955651,
          "Iteracoes": 363
         },
         {
          "Custo": 4.933002853748817,
          "Iteracoes": 364
         },
         {
          "Custo": 4.931608587623905,
          "Iteracoes": 365
         },
         {
          "Custo": 4.93021930358022,
          "Iteracoes": 366
         },
         {
          "Custo": 4.928834983682108,
          "Iteracoes": 367
         },
         {
          "Custo": 4.927455610058739,
          "Iteracoes": 368
         },
         {
          "Custo": 4.926081164903855,
          "Iteracoes": 369
         },
         {
          "Custo": 4.9247116304755405,
          "Iteracoes": 370
         },
         {
          "Custo": 4.923346989096005,
          "Iteracoes": 371
         },
         {
          "Custo": 4.921987223151333,
          "Iteracoes": 372
         },
         {
          "Custo": 4.920632315091268,
          "Iteracoes": 373
         },
         {
          "Custo": 4.91928224742895,
          "Iteracoes": 374
         },
         {
          "Custo": 4.917937002740735,
          "Iteracoes": 375
         },
         {
          "Custo": 4.916596563665925,
          "Iteracoes": 376
         },
         {
          "Custo": 4.915260912906548,
          "Iteracoes": 377
         },
         {
          "Custo": 4.9139300332271585,
          "Iteracoes": 378
         },
         {
          "Custo": 4.912603907454576,
          "Iteracoes": 379
         },
         {
          "Custo": 4.911282518477689,
          "Iteracoes": 380
         },
         {
          "Custo": 4.909965849247194,
          "Iteracoes": 381
         },
         {
          "Custo": 4.908653882775398,
          "Iteracoes": 382
         },
         {
          "Custo": 4.907346602136006,
          "Iteracoes": 383
         },
         {
          "Custo": 4.906043990463873,
          "Iteracoes": 384
         },
         {
          "Custo": 4.904746030954788,
          "Iteracoes": 385
         },
         {
          "Custo": 4.903452706865267,
          "Iteracoes": 386
         },
         {
          "Custo": 4.902164001512324,
          "Iteracoes": 387
         },
         {
          "Custo": 4.900879898273247,
          "Iteracoes": 388
         },
         {
          "Custo": 4.899600380585382,
          "Iteracoes": 389
         },
         {
          "Custo": 4.898325431945931,
          "Iteracoes": 390
         },
         {
          "Custo": 4.897055035911716,
          "Iteracoes": 391
         },
         {
          "Custo": 4.895789176098963,
          "Iteracoes": 392
         },
         {
          "Custo": 4.894527836183113,
          "Iteracoes": 393
         },
         {
          "Custo": 4.89327099989857,
          "Iteracoes": 394
         },
         {
          "Custo": 4.892018651038515,
          "Iteracoes": 395
         },
         {
          "Custo": 4.890770773454678,
          "Iteracoes": 396
         },
         {
          "Custo": 4.889527351057146,
          "Iteracoes": 397
         },
         {
          "Custo": 4.8882883678141225,
          "Iteracoes": 398
         },
         {
          "Custo": 4.887053807751748,
          "Iteracoes": 399
         },
         {
          "Custo": 4.885823654953861,
          "Iteracoes": 400
         },
         {
          "Custo": 4.884597893561806,
          "Iteracoes": 401
         },
         {
          "Custo": 4.883376507774234,
          "Iteracoes": 402
         },
         {
          "Custo": 4.882159481846871,
          "Iteracoes": 403
         },
         {
          "Custo": 4.88094680009233,
          "Iteracoes": 404
         },
         {
          "Custo": 4.87973844687989,
          "Iteracoes": 405
         },
         {
          "Custo": 4.878534406635324,
          "Iteracoes": 406
         },
         {
          "Custo": 4.877334663840638,
          "Iteracoes": 407
         },
         {
          "Custo": 4.87613920303392,
          "Iteracoes": 408
         },
         {
          "Custo": 4.874948008809108,
          "Iteracoes": 409
         },
         {
          "Custo": 4.873761065815811,
          "Iteracoes": 410
         },
         {
          "Custo": 4.872578358759071,
          "Iteracoes": 411
         },
         {
          "Custo": 4.871399872399203,
          "Iteracoes": 412
         },
         {
          "Custo": 4.87022559155157,
          "Iteracoes": 413
         },
         {
          "Custo": 4.869055501086382,
          "Iteracoes": 414
         },
         {
          "Custo": 4.867889585928515,
          "Iteracoes": 415
         },
         {
          "Custo": 4.866727831057307,
          "Iteracoes": 416
         },
         {
          "Custo": 4.865570221506346,
          "Iteracoes": 417
         },
         {
          "Custo": 4.8644167423632885,
          "Iteracoes": 418
         },
         {
          "Custo": 4.863267378769666,
          "Iteracoes": 419
         },
         {
          "Custo": 4.862122115920675,
          "Iteracoes": 420
         },
         {
          "Custo": 4.860980939065004,
          "Iteracoes": 421
         },
         {
          "Custo": 4.859843833504621,
          "Iteracoes": 422
         },
         {
          "Custo": 4.858710784594585,
          "Iteracoes": 423
         },
         {
          "Custo": 4.8575817777428565,
          "Iteracoes": 424
         },
         {
          "Custo": 4.856456798410109,
          "Iteracoes": 425
         },
         {
          "Custo": 4.855335832109538,
          "Iteracoes": 426
         },
         {
          "Custo": 4.854218864406658,
          "Iteracoes": 427
         },
         {
          "Custo": 4.853105880919139,
          "Iteracoes": 428
         },
         {
          "Custo": 4.851996867316584,
          "Iteracoes": 429
         },
         {
          "Custo": 4.850891809320361,
          "Iteracoes": 430
         },
         {
          "Custo": 4.849790692703425,
          "Iteracoes": 431
         },
         {
          "Custo": 4.848693503290113,
          "Iteracoes": 432
         },
         {
          "Custo": 4.847600226955963,
          "Iteracoes": 433
         },
         {
          "Custo": 4.846510849627531,
          "Iteracoes": 434
         },
         {
          "Custo": 4.845425357282209,
          "Iteracoes": 435
         },
         {
          "Custo": 4.84434373594803,
          "Iteracoes": 436
         },
         {
          "Custo": 4.843265971703504,
          "Iteracoes": 437
         },
         {
          "Custo": 4.842192050677408,
          "Iteracoes": 438
         },
         {
          "Custo": 4.84112195904863,
          "Iteracoes": 439
         },
         {
          "Custo": 4.840055683045981,
          "Iteracoes": 440
         },
         {
          "Custo": 4.838993208947999,
          "Iteracoes": 441
         },
         {
          "Custo": 4.837934523082788,
          "Iteracoes": 442
         },
         {
          "Custo": 4.836879611827826,
          "Iteracoes": 443
         },
         {
          "Custo": 4.835828461609797,
          "Iteracoes": 444
         },
         {
          "Custo": 4.834781058904406,
          "Iteracoes": 445
         },
         {
          "Custo": 4.8337373902362,
          "Iteracoes": 446
         },
         {
          "Custo": 4.832697442178395,
          "Iteracoes": 447
         },
         {
          "Custo": 4.8316612013527,
          "Iteracoes": 448
         },
         {
          "Custo": 4.830628654429134,
          "Iteracoes": 449
         },
         {
          "Custo": 4.82959978812587,
          "Iteracoes": 450
         },
         {
          "Custo": 4.828574589209034,
          "Iteracoes": 451
         },
         {
          "Custo": 4.82755304449256,
          "Iteracoes": 452
         },
         {
          "Custo": 4.826535140837988,
          "Iteracoes": 453
         },
         {
          "Custo": 4.825520865154314,
          "Iteracoes": 454
         },
         {
          "Custo": 4.824510204397819,
          "Iteracoes": 455
         },
         {
          "Custo": 4.8235031455718715,
          "Iteracoes": 456
         },
         {
          "Custo": 4.822499675726787,
          "Iteracoes": 457
         },
         {
          "Custo": 4.821499781959641,
          "Iteracoes": 458
         },
         {
          "Custo": 4.820503451414101,
          "Iteracoes": 459
         },
         {
          "Custo": 4.819510671280281,
          "Iteracoes": 460
         },
         {
          "Custo": 4.818521428794519,
          "Iteracoes": 461
         },
         {
          "Custo": 4.817535711239282,
          "Iteracoes": 462
         },
         {
          "Custo": 4.816553505942943,
          "Iteracoes": 463
         },
         {
          "Custo": 4.815574800279628,
          "Iteracoes": 464
         },
         {
          "Custo": 4.81459958166907,
          "Iteracoes": 465
         },
         {
          "Custo": 4.813627837576418,
          "Iteracoes": 466
         },
         {
          "Custo": 4.812659555512097,
          "Iteracoes": 467
         },
         {
          "Custo": 4.811694723031615,
          "Iteracoes": 468
         },
         {
          "Custo": 4.810733327735432,
          "Iteracoes": 469
         },
         {
          "Custo": 4.809775357268781,
          "Iteracoes": 470
         },
         {
          "Custo": 4.808820799321489,
          "Iteracoes": 471
         },
         {
          "Custo": 4.807869641627856,
          "Iteracoes": 472
         },
         {
          "Custo": 4.806921871966454,
          "Iteracoes": 473
         },
         {
          "Custo": 4.805977478159999,
          "Iteracoes": 474
         },
         {
          "Custo": 4.805036448075165,
          "Iteracoes": 475
         },
         {
          "Custo": 4.8040987696224375,
          "Iteracoes": 476
         },
         {
          "Custo": 4.803164430755961,
          "Iteracoes": 477
         },
         {
          "Custo": 4.802233419473367,
          "Iteracoes": 478
         },
         {
          "Custo": 4.801305723815626,
          "Iteracoes": 479
         },
         {
          "Custo": 4.800381331866892,
          "Iteracoes": 480
         },
         {
          "Custo": 4.799460231754325,
          "Iteracoes": 481
         },
         {
          "Custo": 4.798542411647971,
          "Iteracoes": 482
         },
         {
          "Custo": 4.797627859760592,
          "Iteracoes": 483
         },
         {
          "Custo": 4.79671656434749,
          "Iteracoes": 484
         },
         {
          "Custo": 4.795808513706377,
          "Iteracoes": 485
         },
         {
          "Custo": 4.794903696177224,
          "Iteracoes": 486
         },
         {
          "Custo": 4.794002100142084,
          "Iteracoes": 487
         },
         {
          "Custo": 4.793103714024971,
          "Iteracoes": 488
         },
         {
          "Custo": 4.792208526291687,
          "Iteracoes": 489
         },
         {
          "Custo": 4.791316525449668,
          "Iteracoes": 490
         },
         {
          "Custo": 4.790427700047855,
          "Iteracoes": 491
         },
         {
          "Custo": 4.789542038676511,
          "Iteracoes": 492
         },
         {
          "Custo": 4.788659529967114,
          "Iteracoes": 493
         },
         {
          "Custo": 4.787780162592167,
          "Iteracoes": 494
         },
         {
          "Custo": 4.786903925265076,
          "Iteracoes": 495
         },
         {
          "Custo": 4.786030806739985,
          "Iteracoes": 496
         },
         {
          "Custo": 4.785160795811645,
          "Iteracoes": 497
         },
         {
          "Custo": 4.7842938813152545,
          "Iteracoes": 498
         },
         {
          "Custo": 4.783430052126317,
          "Iteracoes": 499
         },
         {
          "Custo": 4.782569297160497,
          "Iteracoes": 500
         },
         {
          "Custo": 4.781711605373474,
          "Iteracoes": 501
         },
         {
          "Custo": 4.780856965760787,
          "Iteracoes": 502
         },
         {
          "Custo": 4.780005367357712,
          "Iteracoes": 503
         },
         {
          "Custo": 4.779156799239101,
          "Iteracoes": 504
         },
         {
          "Custo": 4.778311250519251,
          "Iteracoes": 505
         },
         {
          "Custo": 4.77746871035174,
          "Iteracoes": 506
         },
         {
          "Custo": 4.776629167929308,
          "Iteracoes": 507
         },
         {
          "Custo": 4.775792612483715,
          "Iteracoes": 508
         },
         {
          "Custo": 4.774959033285571,
          "Iteracoes": 509
         },
         {
          "Custo": 4.774128419644229,
          "Iteracoes": 510
         },
         {
          "Custo": 4.773300760907632,
          "Iteracoes": 511
         },
         {
          "Custo": 4.772476046462167,
          "Iteracoes": 512
         },
         {
          "Custo": 4.771654265732528,
          "Iteracoes": 513
         },
         {
          "Custo": 4.770835408181598,
          "Iteracoes": 514
         },
         {
          "Custo": 4.770019463310276,
          "Iteracoes": 515
         },
         {
          "Custo": 4.769206420657365,
          "Iteracoes": 516
         },
         {
          "Custo": 4.768396269799433,
          "Iteracoes": 517
         },
         {
          "Custo": 4.767589000350653,
          "Iteracoes": 518
         },
         {
          "Custo": 4.7667846019627,
          "Iteracoes": 519
         },
         {
          "Custo": 4.765983064324594,
          "Iteracoes": 520
         },
         {
          "Custo": 4.765184377162571,
          "Iteracoes": 521
         },
         {
          "Custo": 4.764388530239951,
          "Iteracoes": 522
         },
         {
          "Custo": 4.763595513356996,
          "Iteracoes": 523
         },
         {
          "Custo": 4.76280531635078,
          "Iteracoes": 524
         },
         {
          "Custo": 4.762017929095067,
          "Iteracoes": 525
         },
         {
          "Custo": 4.761233341500157,
          "Iteracoes": 526
         },
         {
          "Custo": 4.760451543512764,
          "Iteracoes": 527
         },
         {
          "Custo": 4.759672525115896,
          "Iteracoes": 528
         },
         {
          "Custo": 4.75889627632871,
          "Iteracoes": 529
         },
         {
          "Custo": 4.758122787206369,
          "Iteracoes": 530
         },
         {
          "Custo": 4.757352047839942,
          "Iteracoes": 531
         },
         {
          "Custo": 4.756584048356264,
          "Iteracoes": 532
         },
         {
          "Custo": 4.755818778917786,
          "Iteracoes": 533
         },
         {
          "Custo": 4.755056229722467,
          "Iteracoes": 534
         },
         {
          "Custo": 4.754296391003638,
          "Iteracoes": 535
         },
         {
          "Custo": 4.753539253029886,
          "Iteracoes": 536
         },
         {
          "Custo": 4.752784806104902,
          "Iteracoes": 537
         },
         {
          "Custo": 4.752033040567392,
          "Iteracoes": 538
         },
         {
          "Custo": 4.751283946790894,
          "Iteracoes": 539
         },
         {
          "Custo": 4.750537515183707,
          "Iteracoes": 540
         },
         {
          "Custo": 4.74979373618874,
          "Iteracoes": 541
         },
         {
          "Custo": 4.7490526002833775,
          "Iteracoes": 542
         },
         {
          "Custo": 4.748314097979394,
          "Iteracoes": 543
         },
         {
          "Custo": 4.747578219822773,
          "Iteracoes": 544
         },
         {
          "Custo": 4.746844956393629,
          "Iteracoes": 545
         },
         {
          "Custo": 4.746114298306065,
          "Iteracoes": 546
         },
         {
          "Custo": 4.7453862362080494,
          "Iteracoes": 547
         },
         {
          "Custo": 4.7446607607813,
          "Iteracoes": 548
         },
         {
          "Custo": 4.743937862741157,
          "Iteracoes": 549
         },
         {
          "Custo": 4.743217532836465,
          "Iteracoes": 550
         },
         {
          "Custo": 4.742499761849445,
          "Iteracoes": 551
         },
         {
          "Custo": 4.741784540595576,
          "Iteracoes": 552
         },
         {
          "Custo": 4.741071859923491,
          "Iteracoes": 553
         },
         {
          "Custo": 4.740361710714824,
          "Iteracoes": 554
         },
         {
          "Custo": 4.739654083884125,
          "Iteracoes": 555
         },
         {
          "Custo": 4.738948970378714,
          "Iteracoes": 556
         },
         {
          "Custo": 4.738246361178583,
          "Iteracoes": 557
         },
         {
          "Custo": 4.737546247296263,
          "Iteracoes": 558
         },
         {
          "Custo": 4.736848619776712,
          "Iteracoes": 559
         },
         {
          "Custo": 4.7361534696972,
          "Iteracoes": 560
         },
         {
          "Custo": 4.735460788167189,
          "Iteracoes": 561
         },
         {
          "Custo": 4.734770566328215,
          "Iteracoes": 562
         },
         {
          "Custo": 4.734082795353779,
          "Iteracoes": 563
         },
         {
          "Custo": 4.7333974664492215,
          "Iteracoes": 564
         },
         {
          "Custo": 4.732714570851611,
          "Iteracoes": 565
         },
         {
          "Custo": 4.732034099829646,
          "Iteracoes": 566
         },
         {
          "Custo": 4.7313560446834995,
          "Iteracoes": 567
         },
         {
          "Custo": 4.730680396744755,
          "Iteracoes": 568
         },
         {
          "Custo": 4.730007147376249,
          "Iteracoes": 569
         },
         {
          "Custo": 4.7293362879719965,
          "Iteracoes": 570
         },
         {
          "Custo": 4.728667809957038,
          "Iteracoes": 571
         },
         {
          "Custo": 4.728001704787371,
          "Iteracoes": 572
         },
         {
          "Custo": 4.727337963949805,
          "Iteracoes": 573
         },
         {
          "Custo": 4.726676578961857,
          "Iteracoes": 574
         },
         {
          "Custo": 4.726017541371645,
          "Iteracoes": 575
         },
         {
          "Custo": 4.725360842757781,
          "Iteracoes": 576
         },
         {
          "Custo": 4.724706474729252,
          "Iteracoes": 577
         },
         {
          "Custo": 4.72405442892532,
          "Iteracoes": 578
         },
         {
          "Custo": 4.723404697015405,
          "Iteracoes": 579
         },
         {
          "Custo": 4.722757270698967,
          "Iteracoes": 580
         },
         {
          "Custo": 4.72211214170542,
          "Iteracoes": 581
         },
         {
          "Custo": 4.72146930179401,
          "Iteracoes": 582
         },
         {
          "Custo": 4.7208287427537075,
          "Iteracoes": 583
         },
         {
          "Custo": 4.720190456403094,
          "Iteracoes": 584
         },
         {
          "Custo": 4.719554434590275,
          "Iteracoes": 585
         },
         {
          "Custo": 4.718920669192748,
          "Iteracoes": 586
         },
         {
          "Custo": 4.71828915211731,
          "Iteracoes": 587
         },
         {
          "Custo": 4.717659875299965,
          "Iteracoes": 588
         },
         {
          "Custo": 4.717032830705781,
          "Iteracoes": 589
         },
         {
          "Custo": 4.7164080103288235,
          "Iteracoes": 590
         },
         {
          "Custo": 4.715785406192025,
          "Iteracoes": 591
         },
         {
          "Custo": 4.7151650103470955,
          "Iteracoes": 592
         },
         {
          "Custo": 4.71454681487441,
          "Iteracoes": 593
         },
         {
          "Custo": 4.713930811882906,
          "Iteracoes": 594
         },
         {
          "Custo": 4.713316993509985,
          "Iteracoes": 595
         },
         {
          "Custo": 4.712705351921404,
          "Iteracoes": 596
         },
         {
          "Custo": 4.71209587931118,
          "Iteracoes": 597
         },
         {
          "Custo": 4.7114885679014655,
          "Iteracoes": 598
         },
         {
          "Custo": 4.710883409942494,
          "Iteracoes": 599
         },
         {
          "Custo": 4.710280397712423,
          "Iteracoes": 600
         },
         {
          "Custo": 4.709679523517278,
          "Iteracoes": 601
         },
         {
          "Custo": 4.709080779690809,
          "Iteracoes": 602
         },
         {
          "Custo": 4.708484158594437,
          "Iteracoes": 603
         },
         {
          "Custo": 4.707889652617107,
          "Iteracoes": 604
         },
         {
          "Custo": 4.707297254175245,
          "Iteracoes": 605
         },
         {
          "Custo": 4.706706955712583,
          "Iteracoes": 606
         },
         {
          "Custo": 4.706118749700144,
          "Iteracoes": 607
         },
         {
          "Custo": 4.705532628636073,
          "Iteracoes": 608
         },
         {
          "Custo": 4.704948585045577,
          "Iteracoes": 609
         },
         {
          "Custo": 4.704366611480831,
          "Iteracoes": 610
         },
         {
          "Custo": 4.703786700520849,
          "Iteracoes": 611
         },
         {
          "Custo": 4.7032088447714075,
          "Iteracoes": 612
         },
         {
          "Custo": 4.702633036864949,
          "Iteracoes": 613
         },
         {
          "Custo": 4.702059269460505,
          "Iteracoes": 614
         },
         {
          "Custo": 4.701487535243542,
          "Iteracoes": 615
         },
         {
          "Custo": 4.70091782692592,
          "Iteracoes": 616
         },
         {
          "Custo": 4.700350137245777,
          "Iteracoes": 617
         },
         {
          "Custo": 4.699784458967441,
          "Iteracoes": 618
         },
         {
          "Custo": 4.699220784881324,
          "Iteracoes": 619
         },
         {
          "Custo": 4.6986591078038344,
          "Iteracoes": 620
         },
         {
          "Custo": 4.698099420577283,
          "Iteracoes": 621
         },
         {
          "Custo": 4.697541716069801,
          "Iteracoes": 622
         },
         {
          "Custo": 4.696985987175203,
          "Iteracoes": 623
         },
         {
          "Custo": 4.696432226812963,
          "Iteracoes": 624
         },
         {
          "Custo": 4.695880427928058,
          "Iteracoes": 625
         },
         {
          "Custo": 4.695330583490906,
          "Iteracoes": 626
         },
         {
          "Custo": 4.694782686497277,
          "Iteracoes": 627
         },
         {
          "Custo": 4.694236729968197,
          "Iteracoes": 628
         },
         {
          "Custo": 4.693692706949847,
          "Iteracoes": 629
         },
         {
          "Custo": 4.693150610513474,
          "Iteracoes": 630
         },
         {
          "Custo": 4.692610433755314,
          "Iteracoes": 631
         },
         {
          "Custo": 4.692072169796502,
          "Iteracoes": 632
         },
         {
          "Custo": 4.691535811782941,
          "Iteracoes": 633
         },
         {
          "Custo": 4.691001352885279,
          "Iteracoes": 634
         },
         {
          "Custo": 4.690468786298761,
          "Iteracoes": 635
         },
         {
          "Custo": 4.689938105243182,
          "Iteracoes": 636
         },
         {
          "Custo": 4.689409302962761,
          "Iteracoes": 637
         },
         {
          "Custo": 4.688882372726088,
          "Iteracoes": 638
         },
         {
          "Custo": 4.688357307826005,
          "Iteracoes": 639
         },
         {
          "Custo": 4.687834101579551,
          "Iteracoes": 640
         },
         {
          "Custo": 4.6873127473278435,
          "Iteracoes": 641
         },
         {
          "Custo": 4.6867932384360085,
          "Iteracoes": 642
         },
         {
          "Custo": 4.686275568293086,
          "Iteracoes": 643
         },
         {
          "Custo": 4.685759730311942,
          "Iteracoes": 644
         },
         {
          "Custo": 4.685245717929207,
          "Iteracoes": 645
         },
         {
          "Custo": 4.68473352460515,
          "Iteracoes": 646
         },
         {
          "Custo": 4.684223143823624,
          "Iteracoes": 647
         },
         {
          "Custo": 4.683714569091967,
          "Iteracoes": 648
         },
         {
          "Custo": 4.683207793940918,
          "Iteracoes": 649
         },
         {
          "Custo": 4.682702811924544,
          "Iteracoes": 650
         },
         {
          "Custo": 4.682199616620132,
          "Iteracoes": 651
         },
         {
          "Custo": 4.681698201628127,
          "Iteracoes": 652
         },
         {
          "Custo": 4.681198560572044,
          "Iteracoes": 653
         },
         {
          "Custo": 4.680700687098383,
          "Iteracoes": 654
         },
         {
          "Custo": 4.680204574876527,
          "Iteracoes": 655
         },
         {
          "Custo": 4.679710217598693,
          "Iteracoes": 656
         },
         {
          "Custo": 4.67921760897983,
          "Iteracoes": 657
         },
         {
          "Custo": 4.678726742757533,
          "Iteracoes": 658
         },
         {
          "Custo": 4.67823761269197,
          "Iteracoes": 659
         },
         {
          "Custo": 4.677750212565805,
          "Iteracoes": 660
         },
         {
          "Custo": 4.677264536184102,
          "Iteracoes": 661
         },
         {
          "Custo": 4.676780577374251,
          "Iteracoes": 662
         },
         {
          "Custo": 4.676298329985891,
          "Iteracoes": 663
         },
         {
          "Custo": 4.675817787890835,
          "Iteracoes": 664
         },
         {
          "Custo": 4.675338944982967,
          "Iteracoes": 665
         },
         {
          "Custo": 4.674861795178177,
          "Iteracoes": 666
         },
         {
          "Custo": 4.674386332414291,
          "Iteracoes": 667
         },
         {
          "Custo": 4.673912550650976,
          "Iteracoes": 668
         },
         {
          "Custo": 4.673440443869665,
          "Iteracoes": 669
         },
         {
          "Custo": 4.672970006073489,
          "Iteracoes": 670
         },
         {
          "Custo": 4.672501231287177,
          "Iteracoes": 671
         },
         {
          "Custo": 4.672034113557005,
          "Iteracoes": 672
         },
         {
          "Custo": 4.671568646950686,
          "Iteracoes": 673
         },
         {
          "Custo": 4.671104825557321,
          "Iteracoes": 674
         },
         {
          "Custo": 4.670642643487305,
          "Iteracoes": 675
         },
         {
          "Custo": 4.670182094872267,
          "Iteracoes": 676
         },
         {
          "Custo": 4.669723173864972,
          "Iteracoes": 677
         },
         {
          "Custo": 4.669265874639251,
          "Iteracoes": 678
         },
         {
          "Custo": 4.668810191389941,
          "Iteracoes": 679
         },
         {
          "Custo": 4.668356118332788,
          "Iteracoes": 680
         },
         {
          "Custo": 4.667903649704378,
          "Iteracoes": 681
         },
         {
          "Custo": 4.667452779762075,
          "Iteracoes": 682
         },
         {
          "Custo": 4.667003502783918,
          "Iteracoes": 683
         },
         {
          "Custo": 4.666555813068573,
          "Iteracoes": 684
         },
         {
          "Custo": 4.666109704935247,
          "Iteracoes": 685
         },
         {
          "Custo": 4.665665172723609,
          "Iteracoes": 686
         },
         {
          "Custo": 4.665222210793736,
          "Iteracoes": 687
         },
         {
          "Custo": 4.664780813526007,
          "Iteracoes": 688
         },
         {
          "Custo": 4.664340975321059,
          "Iteracoes": 689
         },
         {
          "Custo": 4.663902690599705,
          "Iteracoes": 690
         },
         {
          "Custo": 4.663465953802845,
          "Iteracoes": 691
         },
         {
          "Custo": 4.663030759391415,
          "Iteracoes": 692
         },
         {
          "Custo": 4.662597101846313,
          "Iteracoes": 693
         },
         {
          "Custo": 4.662164975668306,
          "Iteracoes": 694
         },
         {
          "Custo": 4.661734375377983,
          "Iteracoes": 695
         },
         {
          "Custo": 4.661305295515673,
          "Iteracoes": 696
         },
         {
          "Custo": 4.660877730641363,
          "Iteracoes": 697
         },
         {
          "Custo": 4.660451675334646,
          "Iteracoes": 698
         },
         {
          "Custo": 4.660027124194647,
          "Iteracoes": 699
         },
         {
          "Custo": 4.659604071839936,
          "Iteracoes": 700
         },
         {
          "Custo": 4.65918251290847,
          "Iteracoes": 701
         },
         {
          "Custo": 4.6587624420575215,
          "Iteracoes": 702
         },
         {
          "Custo": 4.658343853963617,
          "Iteracoes": 703
         },
         {
          "Custo": 4.657926743322448,
          "Iteracoes": 704
         },
         {
          "Custo": 4.657511104848823,
          "Iteracoes": 705
         },
         {
          "Custo": 4.657096933276573,
          "Iteracoes": 706
         },
         {
          "Custo": 4.656684223358514,
          "Iteracoes": 707
         },
         {
          "Custo": 4.656272969866359,
          "Iteracoes": 708
         },
         {
          "Custo": 4.655863167590647,
          "Iteracoes": 709
         },
         {
          "Custo": 4.655454811340687,
          "Iteracoes": 710
         },
         {
          "Custo": 4.655047895944476,
          "Iteracoes": 711
         },
         {
          "Custo": 4.654642416248644,
          "Iteracoes": 712
         },
         {
          "Custo": 4.654238367118387,
          "Iteracoes": 713
         },
         {
          "Custo": 4.65383574343739,
          "Iteracoes": 714
         },
         {
          "Custo": 4.6534345401077655,
          "Iteracoes": 715
         },
         {
          "Custo": 4.653034752049987,
          "Iteracoes": 716
         },
         {
          "Custo": 4.652636374202818,
          "Iteracoes": 717
         },
         {
          "Custo": 4.652239401523269,
          "Iteracoes": 718
         },
         {
          "Custo": 4.651843828986483,
          "Iteracoes": 719
         },
         {
          "Custo": 4.651449651585718,
          "Iteracoes": 720
         },
         {
          "Custo": 4.651056864332263,
          "Iteracoes": 721
         },
         {
          "Custo": 4.650665462255377,
          "Iteracoes": 722
         },
         {
          "Custo": 4.650275440402194,
          "Iteracoes": 723
         },
         {
          "Custo": 4.649886793837724,
          "Iteracoes": 724
         },
         {
          "Custo": 4.649499517644713,
          "Iteracoes": 725
         },
         {
          "Custo": 4.649113606923635,
          "Iteracoes": 726
         },
         {
          "Custo": 4.648729056792618,
          "Iteracoes": 727
         },
         {
          "Custo": 4.648345862387337,
          "Iteracoes": 728
         },
         {
          "Custo": 4.647964018861,
          "Iteracoes": 729
         },
         {
          "Custo": 4.6475835213842815,
          "Iteracoes": 730
         },
         {
          "Custo": 4.64720436514522,
          "Iteracoes": 731
         },
         {
          "Custo": 4.646826545349208,
          "Iteracoes": 732
         },
         {
          "Custo": 4.646450057218885,
          "Iteracoes": 733
         },
         {
          "Custo": 4.646074895994095,
          "Iteracoes": 734
         },
         {
          "Custo": 4.6457010569318244,
          "Iteracoes": 735
         },
         {
          "Custo": 4.645328535306133,
          "Iteracoes": 736
         },
         {
          "Custo": 4.644957326408115,
          "Iteracoes": 737
         },
         {
          "Custo": 4.644587425545784,
          "Iteracoes": 738
         },
         {
          "Custo": 4.644218828044093,
          "Iteracoes": 739
         },
         {
          "Custo": 4.6438515292447855,
          "Iteracoes": 740
         },
         {
          "Custo": 4.643485524506399,
          "Iteracoes": 741
         },
         {
          "Custo": 4.643120809204178,
          "Iteracoes": 742
         },
         {
          "Custo": 4.6427573787300185,
          "Iteracoes": 743
         },
         {
          "Custo": 4.642395228492401,
          "Iteracoes": 744
         },
         {
          "Custo": 4.642034353916342,
          "Iteracoes": 745
         },
         {
          "Custo": 4.64167475044333,
          "Iteracoes": 746
         },
         {
          "Custo": 4.6413164135312615,
          "Iteracoes": 747
         },
         {
          "Custo": 4.64095933865438,
          "Iteracoes": 748
         },
         {
          "Custo": 4.640603521303236,
          "Iteracoes": 749
         },
         {
          "Custo": 4.6402489569846015,
          "Iteracoes": 750
         },
         {
          "Custo": 4.63989564122143,
          "Iteracoes": 751
         },
         {
          "Custo": 4.639543569552788,
          "Iteracoes": 752
         },
         {
          "Custo": 4.639192737533796,
          "Iteracoes": 753
         },
         {
          "Custo": 4.638843140735594,
          "Iteracoes": 754
         },
         {
          "Custo": 4.638494774745243,
          "Iteracoes": 755
         },
         {
          "Custo": 4.638147635165697,
          "Iteracoes": 756
         },
         {
          "Custo": 4.637801717615746,
          "Iteracoes": 757
         },
         {
          "Custo": 4.637457017729934,
          "Iteracoes": 758
         },
         {
          "Custo": 4.637113531158537,
          "Iteracoes": 759
         },
         {
          "Custo": 4.636771253567474,
          "Iteracoes": 760
         },
         {
          "Custo": 4.636430180638269,
          "Iteracoes": 761
         },
         {
          "Custo": 4.636090308067995,
          "Iteracoes": 762
         },
         {
          "Custo": 4.635751631569202,
          "Iteracoes": 763
         },
         {
          "Custo": 4.635414146869878,
          "Iteracoes": 764
         },
         {
          "Custo": 4.635077849713388,
          "Iteracoes": 765
         },
         {
          "Custo": 4.6347427358584055,
          "Iteracoes": 766
         },
         {
          "Custo": 4.634408801078895,
          "Iteracoes": 767
         },
         {
          "Custo": 4.634076041164009,
          "Iteracoes": 768
         },
         {
          "Custo": 4.633744451918058,
          "Iteracoes": 769
         },
         {
          "Custo": 4.633414029160451,
          "Iteracoes": 770
         },
         {
          "Custo": 4.633084768725661,
          "Iteracoes": 771
         },
         {
          "Custo": 4.632756666463129,
          "Iteracoes": 772
         },
         {
          "Custo": 4.632429718237234,
          "Iteracoes": 773
         },
         {
          "Custo": 4.632103919927263,
          "Iteracoes": 774
         },
         {
          "Custo": 4.631779267427308,
          "Iteracoes": 775
         },
         {
          "Custo": 4.631455756646242,
          "Iteracoes": 776
         },
         {
          "Custo": 4.631133383507668,
          "Iteracoes": 777
         },
         {
          "Custo": 4.630812143949849,
          "Iteracoes": 778
         },
         {
          "Custo": 4.630492033925675,
          "Iteracoes": 779
         },
         {
          "Custo": 4.630173049402588,
          "Iteracoes": 780
         },
         {
          "Custo": 4.629855186362538,
          "Iteracoes": 781
         },
         {
          "Custo": 4.62953844080195,
          "Iteracoes": 782
         },
         {
          "Custo": 4.629222808731643,
          "Iteracoes": 783
         },
         {
          "Custo": 4.628908286176788,
          "Iteracoes": 784
         },
         {
          "Custo": 4.628594869176876,
          "Iteracoes": 785
         },
         {
          "Custo": 4.628282553785621,
          "Iteracoes": 786
         },
         {
          "Custo": 4.6279713360709565,
          "Iteracoes": 787
         },
         {
          "Custo": 4.627661212114961,
          "Iteracoes": 788
         },
         {
          "Custo": 4.627352178013803,
          "Iteracoes": 789
         },
         {
          "Custo": 4.627044229877697,
          "Iteracoes": 790
         },
         {
          "Custo": 4.626737363830857,
          "Iteracoes": 791
         },
         {
          "Custo": 4.6264315760114405,
          "Iteracoes": 792
         },
         {
          "Custo": 4.6261268625715015,
          "Iteracoes": 793
         },
         {
          "Custo": 4.625823219676934,
          "Iteracoes": 794
         },
         {
          "Custo": 4.625520643507419,
          "Iteracoes": 795
         },
         {
          "Custo": 4.625219130256394,
          "Iteracoes": 796
         },
         {
          "Custo": 4.624918676130991,
          "Iteracoes": 797
         },
         {
          "Custo": 4.624619277351969,
          "Iteracoes": 798
         },
         {
          "Custo": 4.624320930153707,
          "Iteracoes": 799
         },
         {
          "Custo": 4.624023630784113,
          "Iteracoes": 800
         },
         {
          "Custo": 4.623727375504593,
          "Iteracoes": 801
         },
         {
          "Custo": 4.623432160590014,
          "Iteracoes": 802
         },
         {
          "Custo": 4.62313798232864,
          "Iteracoes": 803
         },
         {
          "Custo": 4.622844837022078,
          "Iteracoes": 804
         },
         {
          "Custo": 4.622552720985241,
          "Iteracoes": 805
         },
         {
          "Custo": 4.622261630546298,
          "Iteracoes": 806
         },
         {
          "Custo": 4.62197156204663,
          "Iteracoes": 807
         },
         {
          "Custo": 4.621682511840777,
          "Iteracoes": 808
         },
         {
          "Custo": 4.621394476296396,
          "Iteracoes": 809
         },
         {
          "Custo": 4.621107451794186,
          "Iteracoes": 810
         },
         {
          "Custo": 4.6208214347278895,
          "Iteracoes": 811
         },
         {
          "Custo": 4.620536421504212,
          "Iteracoes": 812
         },
         {
          "Custo": 4.62025240854278,
          "Iteracoes": 813
         },
         {
          "Custo": 4.619969392276099,
          "Iteracoes": 814
         },
         {
          "Custo": 4.619687369149507,
          "Iteracoes": 815
         },
         {
          "Custo": 4.619406335621121,
          "Iteracoes": 816
         },
         {
          "Custo": 4.619126288161799,
          "Iteracoes": 817
         },
         {
          "Custo": 4.618847223255094,
          "Iteracoes": 818
         },
         {
          "Custo": 4.618569137397211,
          "Iteracoes": 819
         },
         {
          "Custo": 4.618292027096928,
          "Iteracoes": 820
         },
         {
          "Custo": 4.61801588887562,
          "Iteracoes": 821
         },
         {
          "Custo": 4.61774071926714,
          "Iteracoes": 822
         },
         {
          "Custo": 4.617466514817814,
          "Iteracoes": 823
         },
         {
          "Custo": 4.6171932720863875,
          "Iteracoes": 824
         },
         {
          "Custo": 4.616920987643993,
          "Iteracoes": 825
         },
         {
          "Custo": 4.616649658074071,
          "Iteracoes": 826
         },
         {
          "Custo": 4.616379279972361,
          "Iteracoes": 827
         },
         {
          "Custo": 4.616109849946845,
          "Iteracoes": 828
         },
         {
          "Custo": 4.615841364617703,
          "Iteracoes": 829
         },
         {
          "Custo": 4.61557382061725,
          "Iteracoes": 830
         },
         {
          "Custo": 4.6153072145899365,
          "Iteracoes": 831
         },
         {
          "Custo": 4.61504154319226,
          "Iteracoes": 832
         },
         {
          "Custo": 4.614776803092748,
          "Iteracoes": 833
         },
         {
          "Custo": 4.614512990971898,
          "Iteracoes": 834
         },
         {
          "Custo": 4.614250103522156,
          "Iteracoes": 835
         },
         {
          "Custo": 4.613988137447846,
          "Iteracoes": 836
         },
         {
          "Custo": 4.613727089465146,
          "Iteracoes": 837
         },
         {
          "Custo": 4.6134669563020445,
          "Iteracoes": 838
         },
         {
          "Custo": 4.613207734698291,
          "Iteracoes": 839
         },
         {
          "Custo": 4.612949421405352,
          "Iteracoes": 840
         },
         {
          "Custo": 4.612692013186376,
          "Iteracoes": 841
         },
         {
          "Custo": 4.612435506816149,
          "Iteracoes": 842
         },
         {
          "Custo": 4.612179899081049,
          "Iteracoes": 843
         },
         {
          "Custo": 4.611925186779013,
          "Iteracoes": 844
         },
         {
          "Custo": 4.6116713667194835,
          "Iteracoes": 845
         },
         {
          "Custo": 4.611418435723366,
          "Iteracoes": 846
         },
         {
          "Custo": 4.6111663906230085,
          "Iteracoes": 847
         },
         {
          "Custo": 4.610915228262135,
          "Iteracoes": 848
         },
         {
          "Custo": 4.610664945495821,
          "Iteracoes": 849
         },
         {
          "Custo": 4.610415539190446,
          "Iteracoes": 850
         },
         {
          "Custo": 4.610167006223637,
          "Iteracoes": 851
         },
         {
          "Custo": 4.609919343484277,
          "Iteracoes": 852
         },
         {
          "Custo": 4.609672547872403,
          "Iteracoes": 853
         },
         {
          "Custo": 4.609426616299213,
          "Iteracoes": 854
         },
         {
          "Custo": 4.609181545686987,
          "Iteracoes": 855
         },
         {
          "Custo": 4.608937332969086,
          "Iteracoes": 856
         },
         {
          "Custo": 4.608693975089881,
          "Iteracoes": 857
         },
         {
          "Custo": 4.608451469004736,
          "Iteracoes": 858
         },
         {
          "Custo": 4.608209811679946,
          "Iteracoes": 859
         },
         {
          "Custo": 4.607969000092712,
          "Iteracoes": 860
         },
         {
          "Custo": 4.607729031231108,
          "Iteracoes": 861
         },
         {
          "Custo": 4.607489902094016,
          "Iteracoes": 862
         },
         {
          "Custo": 4.607251609691117,
          "Iteracoes": 863
         },
         {
          "Custo": 4.607014151042835,
          "Iteracoes": 864
         },
         {
          "Custo": 4.606777523180297,
          "Iteracoes": 865
         },
         {
          "Custo": 4.606541723145306,
          "Iteracoes": 866
         },
         {
          "Custo": 4.606306747990292,
          "Iteracoes": 867
         },
         {
          "Custo": 4.606072594778268,
          "Iteracoes": 868
         },
         {
          "Custo": 4.605839260582827,
          "Iteracoes": 869
         },
         {
          "Custo": 4.605606742488038,
          "Iteracoes": 870
         },
         {
          "Custo": 4.60537503758849,
          "Iteracoes": 871
         },
         {
          "Custo": 4.605144142989179,
          "Iteracoes": 872
         },
         {
          "Custo": 4.604914055805525,
          "Iteracoes": 873
         },
         {
          "Custo": 4.604684773163294,
          "Iteracoes": 874
         },
         {
          "Custo": 4.6044562921986,
          "Iteracoes": 875
         },
         {
          "Custo": 4.604228610057828,
          "Iteracoes": 876
         },
         {
          "Custo": 4.604001723897629,
          "Iteracoes": 877
         },
         {
          "Custo": 4.603775630884864,
          "Iteracoes": 878
         },
         {
          "Custo": 4.603550328196566,
          "Iteracoes": 879
         },
         {
          "Custo": 4.603325813019919,
          "Iteracoes": 880
         },
         {
          "Custo": 4.6031020825522235,
          "Iteracoes": 881
         },
         {
          "Custo": 4.602879134000827,
          "Iteracoes": 882
         },
         {
          "Custo": 4.60265696458312,
          "Iteracoes": 883
         },
         {
          "Custo": 4.602435571526488,
          "Iteracoes": 884
         },
         {
          "Custo": 4.6022149520682785,
          "Iteracoes": 885
         },
         {
          "Custo": 4.601995103455769,
          "Iteracoes": 886
         },
         {
          "Custo": 4.601776022946111,
          "Iteracoes": 887
         },
         {
          "Custo": 4.601557707806322,
          "Iteracoes": 888
         },
         {
          "Custo": 4.601340155313228,
          "Iteracoes": 889
         },
         {
          "Custo": 4.6011233627534525,
          "Iteracoes": 890
         },
         {
          "Custo": 4.600907327423341,
          "Iteracoes": 891
         },
         {
          "Custo": 4.600692046628969,
          "Iteracoes": 892
         },
         {
          "Custo": 4.600477517686081,
          "Iteracoes": 893
         },
         {
          "Custo": 4.600263737920073,
          "Iteracoes": 894
         },
         {
          "Custo": 4.60005070466593,
          "Iteracoes": 895
         },
         {
          "Custo": 4.5998384152682235,
          "Iteracoes": 896
         },
         {
          "Custo": 4.59962686708106,
          "Iteracoes": 897
         },
         {
          "Custo": 4.5994160574680425,
          "Iteracoes": 898
         },
         {
          "Custo": 4.5992059838022445,
          "Iteracoes": 899
         },
         {
          "Custo": 4.5989966434661875,
          "Iteracoes": 900
         },
         {
          "Custo": 4.598788033851773,
          "Iteracoes": 901
         },
         {
          "Custo": 4.598580152360278,
          "Iteracoes": 902
         },
         {
          "Custo": 4.598372996402311,
          "Iteracoes": 903
         },
         {
          "Custo": 4.598166563397794,
          "Iteracoes": 904
         },
         {
          "Custo": 4.597960850775893,
          "Iteracoes": 905
         },
         {
          "Custo": 4.597755855975013,
          "Iteracoes": 906
         },
         {
          "Custo": 4.597551576442761,
          "Iteracoes": 907
         },
         {
          "Custo": 4.59734800963591,
          "Iteracoes": 908
         },
         {
          "Custo": 4.59714515302036,
          "Iteracoes": 909
         },
         {
          "Custo": 4.5969430040711226,
          "Iteracoes": 910
         },
         {
          "Custo": 4.596741560272255,
          "Iteracoes": 911
         },
         {
          "Custo": 4.596540819116868,
          "Iteracoes": 912
         },
         {
          "Custo": 4.596340778107069,
          "Iteracoes": 913
         },
         {
          "Custo": 4.5961414347539336,
          "Iteracoes": 914
         },
         {
          "Custo": 4.59594278657746,
          "Iteracoes": 915
         },
         {
          "Custo": 4.595744831106571,
          "Iteracoes": 916
         },
         {
          "Custo": 4.595547565879053,
          "Iteracoes": 917
         },
         {
          "Custo": 4.5953509884415356,
          "Iteracoes": 918
         },
         {
          "Custo": 4.5951550963494405,
          "Iteracoes": 919
         },
         {
          "Custo": 4.5949598871669926,
          "Iteracoes": 920
         },
         {
          "Custo": 4.59476535846714,
          "Iteracoes": 921
         },
         {
          "Custo": 4.594571507831555,
          "Iteracoes": 922
         },
         {
          "Custo": 4.594378332850594,
          "Iteracoes": 923
         },
         {
          "Custo": 4.594185831123252,
          "Iteracoes": 924
         },
         {
          "Custo": 4.593994000257149,
          "Iteracoes": 925
         },
         {
          "Custo": 4.593802837868494,
          "Iteracoes": 926
         },
         {
          "Custo": 4.593612341582057,
          "Iteracoes": 927
         },
         {
          "Custo": 4.593422509031118,
          "Iteracoes": 928
         },
         {
          "Custo": 4.593233337857478,
          "Iteracoes": 929
         },
         {
          "Custo": 4.593044825711379,
          "Iteracoes": 930
         },
         {
          "Custo": 4.592856970251515,
          "Iteracoes": 931
         },
         {
          "Custo": 4.592669769144971,
          "Iteracoes": 932
         },
         {
          "Custo": 4.592483220067204,
          "Iteracoes": 933
         },
         {
          "Custo": 4.592297320702032,
          "Iteracoes": 934
         },
         {
          "Custo": 4.592112068741572,
          "Iteracoes": 935
         },
         {
          "Custo": 4.591927461886222,
          "Iteracoes": 936
         },
         {
          "Custo": 4.591743497844648,
          "Iteracoes": 937
         },
         {
          "Custo": 4.591560174333727,
          "Iteracoes": 938
         },
         {
          "Custo": 4.59137748907852,
          "Iteracoes": 939
         },
         {
          "Custo": 4.591195439812276,
          "Iteracoes": 940
         },
         {
          "Custo": 4.5910140242763715,
          "Iteracoes": 941
         },
         {
          "Custo": 4.590833240220277,
          "Iteracoes": 942
         },
         {
          "Custo": 4.590653085401547,
          "Iteracoes": 943
         },
         {
          "Custo": 4.590473557585784,
          "Iteracoes": 944
         },
         {
          "Custo": 4.590294654546611,
          "Iteracoes": 945
         },
         {
          "Custo": 4.5901163740656346,
          "Iteracoes": 946
         },
         {
          "Custo": 4.589938713932417,
          "Iteracoes": 947
         },
         {
          "Custo": 4.589761671944473,
          "Iteracoes": 948
         },
         {
          "Custo": 4.589585245907195,
          "Iteracoes": 949
         },
         {
          "Custo": 4.589409433633864,
          "Iteracoes": 950
         },
         {
          "Custo": 4.589234232945599,
          "Iteracoes": 951
         },
         {
          "Custo": 4.589059641671351,
          "Iteracoes": 952
         },
         {
          "Custo": 4.588885657647841,
          "Iteracoes": 953
         },
         {
          "Custo": 4.588712278719571,
          "Iteracoes": 954
         },
         {
          "Custo": 4.58853950273876,
          "Iteracoes": 955
         },
         {
          "Custo": 4.588367327565341,
          "Iteracoes": 956
         },
         {
          "Custo": 4.588195751066934,
          "Iteracoes": 957
         },
         {
          "Custo": 4.588024771118781,
          "Iteracoes": 958
         },
         {
          "Custo": 4.587854385603768,
          "Iteracoes": 959
         },
         {
          "Custo": 4.5876845924123835,
          "Iteracoes": 960
         },
         {
          "Custo": 4.5875153894426575,
          "Iteracoes": 961
         },
         {
          "Custo": 4.587346774600182,
          "Iteracoes": 962
         },
         {
          "Custo": 4.587178745798051,
          "Iteracoes": 963
         },
         {
          "Custo": 4.587011300956852,
          "Iteracoes": 964
         },
         {
          "Custo": 4.586844438004627,
          "Iteracoes": 965
         },
         {
          "Custo": 4.586678154876848,
          "Iteracoes": 966
         },
         {
          "Custo": 4.586512449516395,
          "Iteracoes": 967
         },
         {
          "Custo": 4.586347319873522,
          "Iteracoes": 968
         },
         {
          "Custo": 4.586182763905843,
          "Iteracoes": 969
         },
         {
          "Custo": 4.586018779578301,
          "Iteracoes": 970
         },
         {
          "Custo": 4.585855364863121,
          "Iteracoes": 971
         },
         {
          "Custo": 4.5856925177398145,
          "Iteracoes": 972
         },
         {
          "Custo": 4.585530236195131,
          "Iteracoes": 973
         },
         {
          "Custo": 4.585368518223045,
          "Iteracoes": 974
         },
         {
          "Custo": 4.585207361824732,
          "Iteracoes": 975
         },
         {
          "Custo": 4.585046765008519,
          "Iteracoes": 976
         },
         {
          "Custo": 4.584886725789883,
          "Iteracoes": 977
         },
         {
          "Custo": 4.584727242191428,
          "Iteracoes": 978
         },
         {
          "Custo": 4.5845683122428404,
          "Iteracoes": 979
         },
         {
          "Custo": 4.584409933980862,
          "Iteracoes": 980
         },
         {
          "Custo": 4.584252105449292,
          "Iteracoes": 981
         },
         {
          "Custo": 4.584094824698937,
          "Iteracoes": 982
         },
         {
          "Custo": 4.5839380897875905,
          "Iteracoes": 983
         },
         {
          "Custo": 4.583781898780016,
          "Iteracoes": 984
         },
         {
          "Custo": 4.5836262497479066,
          "Iteracoes": 985
         },
         {
          "Custo": 4.583471140769879,
          "Iteracoes": 986
         },
         {
          "Custo": 4.583316569931426,
          "Iteracoes": 987
         },
         {
          "Custo": 4.583162535324927,
          "Iteracoes": 988
         },
         {
          "Custo": 4.583009035049579,
          "Iteracoes": 989
         },
         {
          "Custo": 4.582856067211399,
          "Iteracoes": 990
         },
         {
          "Custo": 4.5827036299231985,
          "Iteracoes": 991
         },
         {
          "Custo": 4.582551721304561,
          "Iteracoes": 992
         },
         {
          "Custo": 4.58240033948179,
          "Iteracoes": 993
         },
         {
          "Custo": 4.582249482587934,
          "Iteracoes": 994
         },
         {
          "Custo": 4.582099148762707,
          "Iteracoes": 995
         },
         {
          "Custo": 4.5819493361525065,
          "Iteracoes": 996
         },
         {
          "Custo": 4.581800042910373,
          "Iteracoes": 997
         },
         {
          "Custo": 4.5816512671959755,
          "Iteracoes": 998
         },
         {
          "Custo": 4.581503007175558,
          "Iteracoes": 999
         },
         {
          "Custo": 4.581355261021955,
          "Iteracoes": 1000
         },
         {
          "Custo": 4.581208026914546,
          "Iteracoes": 1001
         },
         {
          "Custo": 4.581061303039237,
          "Iteracoes": 1002
         },
         {
          "Custo": 4.580915087588428,
          "Iteracoes": 1003
         },
         {
          "Custo": 4.580769378761015,
          "Iteracoes": 1004
         },
         {
          "Custo": 4.580624174762331,
          "Iteracoes": 1005
         },
         {
          "Custo": 4.580479473804148,
          "Iteracoes": 1006
         },
         {
          "Custo": 4.580335274104655,
          "Iteracoes": 1007
         },
         {
          "Custo": 4.580191573888411,
          "Iteracoes": 1008
         },
         {
          "Custo": 4.580048371386345,
          "Iteracoes": 1009
         },
         {
          "Custo": 4.579905664835738,
          "Iteracoes": 1010
         },
         {
          "Custo": 4.579763452480169,
          "Iteracoes": 1011
         },
         {
          "Custo": 4.579621732569511,
          "Iteracoes": 1012
         },
         {
          "Custo": 4.579480503359928,
          "Iteracoes": 1013
         },
         {
          "Custo": 4.57933976311382,
          "Iteracoes": 1014
         },
         {
          "Custo": 4.579199510099802,
          "Iteracoes": 1015
         },
         {
          "Custo": 4.57905974259272,
          "Iteracoes": 1016
         },
         {
          "Custo": 4.578920458873577,
          "Iteracoes": 1017
         },
         {
          "Custo": 4.578781657229548,
          "Iteracoes": 1018
         },
         {
          "Custo": 4.578643335953942,
          "Iteracoes": 1019
         },
         {
          "Custo": 4.578505493346179,
          "Iteracoes": 1020
         },
         {
          "Custo": 4.578368127711771,
          "Iteracoes": 1021
         },
         {
          "Custo": 4.578231237362314,
          "Iteracoes": 1022
         },
         {
          "Custo": 4.578094820615446,
          "Iteracoes": 1023
         },
         {
          "Custo": 4.5779588757948275,
          "Iteracoes": 1024
         },
         {
          "Custo": 4.577823401230125,
          "Iteracoes": 1025
         },
         {
          "Custo": 4.577688395256986,
          "Iteracoes": 1026
         },
         {
          "Custo": 4.577553856217034,
          "Iteracoes": 1027
         },
         {
          "Custo": 4.577419782457818,
          "Iteracoes": 1028
         },
         {
          "Custo": 4.577286172332813,
          "Iteracoes": 1029
         },
         {
          "Custo": 4.5771530242013965,
          "Iteracoes": 1030
         },
         {
          "Custo": 4.577020336428813,
          "Iteracoes": 1031
         },
         {
          "Custo": 4.5768881073861705,
          "Iteracoes": 1032
         },
         {
          "Custo": 4.576756335450403,
          "Iteracoes": 1033
         },
         {
          "Custo": 4.576625019004274,
          "Iteracoes": 1034
         },
         {
          "Custo": 4.576494156436318,
          "Iteracoes": 1035
         },
         {
          "Custo": 4.576363746140852,
          "Iteracoes": 1036
         },
         {
          "Custo": 4.576233786517955,
          "Iteracoes": 1037
         },
         {
          "Custo": 4.576104275973404,
          "Iteracoes": 1038
         },
         {
          "Custo": 4.575975212918726,
          "Iteracoes": 1039
         },
         {
          "Custo": 4.5758465957711065,
          "Iteracoes": 1040
         },
         {
          "Custo": 4.575718422953413,
          "Iteracoes": 1041
         },
         {
          "Custo": 4.575590692894156,
          "Iteracoes": 1042
         },
         {
          "Custo": 4.575463404027472,
          "Iteracoes": 1043
         },
         {
          "Custo": 4.57533655479311,
          "Iteracoes": 1044
         },
         {
          "Custo": 4.575210143636401,
          "Iteracoes": 1045
         },
         {
          "Custo": 4.57508416900825,
          "Iteracoes": 1046
         },
         {
          "Custo": 4.5749586293651,
          "Iteracoes": 1047
         },
         {
          "Custo": 4.574833523168935,
          "Iteracoes": 1048
         },
         {
          "Custo": 4.574708848887221,
          "Iteracoes": 1049
         },
         {
          "Custo": 4.574584604992938,
          "Iteracoes": 1050
         },
         {
          "Custo": 4.574460789964506,
          "Iteracoes": 1051
         },
         {
          "Custo": 4.574337402285826,
          "Iteracoes": 1052
         },
         {
          "Custo": 4.574214440446197,
          "Iteracoes": 1053
         },
         {
          "Custo": 4.574091902940348,
          "Iteracoes": 1054
         },
         {
          "Custo": 4.573969788268377,
          "Iteracoes": 1055
         },
         {
          "Custo": 4.573848094935773,
          "Iteracoes": 1056
         },
         {
          "Custo": 4.573726821453352,
          "Iteracoes": 1057
         },
         {
          "Custo": 4.57360596633728,
          "Iteracoes": 1058
         },
         {
          "Custo": 4.573485528109025,
          "Iteracoes": 1059
         },
         {
          "Custo": 4.5733655052953495,
          "Iteracoes": 1060
         },
         {
          "Custo": 4.573245896428285,
          "Iteracoes": 1061
         },
         {
          "Custo": 4.573126700045137,
          "Iteracoes": 1062
         },
         {
          "Custo": 4.573007914688421,
          "Iteracoes": 1063
         },
         {
          "Custo": 4.572889538905879,
          "Iteracoes": 1064
         },
         {
          "Custo": 4.5727715712504615,
          "Iteracoes": 1065
         },
         {
          "Custo": 4.572654010280274,
          "Iteracoes": 1066
         },
         {
          "Custo": 4.572536854558614,
          "Iteracoes": 1067
         },
         {
          "Custo": 4.572420102653887,
          "Iteracoes": 1068
         },
         {
          "Custo": 4.572303753139643,
          "Iteracoes": 1069
         },
         {
          "Custo": 4.572187804594534,
          "Iteracoes": 1070
         },
         {
          "Custo": 4.57207225560231,
          "Iteracoes": 1071
         },
         {
          "Custo": 4.5719571047517515,
          "Iteracoes": 1072
         },
         {
          "Custo": 4.5718423506367385,
          "Iteracoes": 1073
         },
         {
          "Custo": 4.571727991856141,
          "Iteracoes": 1074
         },
         {
          "Custo": 4.5716140270138625,
          "Iteracoes": 1075
         },
         {
          "Custo": 4.571500454718802,
          "Iteracoes": 1076
         },
         {
          "Custo": 4.571387273584837,
          "Iteracoes": 1077
         },
         {
          "Custo": 4.571274482230791,
          "Iteracoes": 1078
         },
         {
          "Custo": 4.57116207928044,
          "Iteracoes": 1079
         },
         {
          "Custo": 4.57105006336249,
          "Iteracoes": 1080
         },
         {
          "Custo": 4.57093843311054,
          "Iteracoes": 1081
         },
         {
          "Custo": 4.570827187163087,
          "Iteracoes": 1082
         },
         {
          "Custo": 4.570716324163492,
          "Iteracoes": 1083
         },
         {
          "Custo": 4.570605842759976,
          "Iteracoes": 1084
         },
         {
          "Custo": 4.570495741605589,
          "Iteracoes": 1085
         },
         {
          "Custo": 4.570386019358205,
          "Iteracoes": 1086
         },
         {
          "Custo": 4.570276674680494,
          "Iteracoes": 1087
         },
         {
          "Custo": 4.570167706239921,
          "Iteracoes": 1088
         },
         {
          "Custo": 4.5700591127087025,
          "Iteracoes": 1089
         },
         {
          "Custo": 4.569950892763814,
          "Iteracoes": 1090
         },
         {
          "Custo": 4.569843045086958,
          "Iteracoes": 1091
         },
         {
          "Custo": 4.5697355683645675,
          "Iteracoes": 1092
         },
         {
          "Custo": 4.569628461287739,
          "Iteracoes": 1093
         },
         {
          "Custo": 4.569521722552287,
          "Iteracoes": 1094
         },
         {
          "Custo": 4.569415350858671,
          "Iteracoes": 1095
         },
         {
          "Custo": 4.569309344912011,
          "Iteracoes": 1096
         },
         {
          "Custo": 4.569203703422048,
          "Iteracoes": 1097
         },
         {
          "Custo": 4.569098425103128,
          "Iteracoes": 1098
         },
         {
          "Custo": 4.568993508674219,
          "Iteracoes": 1099
         },
         {
          "Custo": 4.568888952858856,
          "Iteracoes": 1100
         },
         {
          "Custo": 4.568784756385129,
          "Iteracoes": 1101
         },
         {
          "Custo": 4.568680917985699,
          "Iteracoes": 1102
         },
         {
          "Custo": 4.568577436397744,
          "Iteracoes": 1103
         },
         {
          "Custo": 4.568474310362954,
          "Iteracoes": 1104
         },
         {
          "Custo": 4.568371538627534,
          "Iteracoes": 1105
         },
         {
          "Custo": 4.568269119942157,
          "Iteracoes": 1106
         },
         {
          "Custo": 4.5681670530619645,
          "Iteracoes": 1107
         },
         {
          "Custo": 4.568065336746568,
          "Iteracoes": 1108
         },
         {
          "Custo": 4.567963969759976,
          "Iteracoes": 1109
         },
         {
          "Custo": 4.567862950870652,
          "Iteracoes": 1110
         },
         {
          "Custo": 4.567762278851446,
          "Iteracoes": 1111
         },
         {
          "Custo": 4.567661952479597,
          "Iteracoes": 1112
         },
         {
          "Custo": 4.567561970536717,
          "Iteracoes": 1113
         },
         {
          "Custo": 4.567462331808769,
          "Iteracoes": 1114
         },
         {
          "Custo": 4.567363035086061,
          "Iteracoes": 1115
         },
         {
          "Custo": 4.56726407916322,
          "Iteracoes": 1116
         },
         {
          "Custo": 4.567165462839184,
          "Iteracoes": 1117
         },
         {
          "Custo": 4.567067184917197,
          "Iteracoes": 1118
         },
         {
          "Custo": 4.566969244204749,
          "Iteracoes": 1119
         },
         {
          "Custo": 4.566871639513631,
          "Iteracoes": 1120
         },
         {
          "Custo": 4.566774369659845,
          "Iteracoes": 1121
         },
         {
          "Custo": 4.566677433463648,
          "Iteracoes": 1122
         },
         {
          "Custo": 4.566580829749506,
          "Iteracoes": 1123
         },
         {
          "Custo": 4.566484557346084,
          "Iteracoes": 1124
         },
         {
          "Custo": 4.566388615086238,
          "Iteracoes": 1125
         },
         {
          "Custo": 4.566293001806993,
          "Iteracoes": 1126
         },
         {
          "Custo": 4.566197716349519,
          "Iteracoes": 1127
         },
         {
          "Custo": 4.566102757559156,
          "Iteracoes": 1128
         },
         {
          "Custo": 4.566008124285332,
          "Iteracoes": 1129
         },
         {
          "Custo": 4.565913815381629,
          "Iteracoes": 1130
         },
         {
          "Custo": 4.565819829705679,
          "Iteracoes": 1131
         },
         {
          "Custo": 4.565726166119225,
          "Iteracoes": 1132
         },
         {
          "Custo": 4.565632823488077,
          "Iteracoes": 1133
         },
         {
          "Custo": 4.5655398006820835,
          "Iteracoes": 1134
         },
         {
          "Custo": 4.565447096575152,
          "Iteracoes": 1135
         },
         {
          "Custo": 4.565354710045178,
          "Iteracoes": 1136
         },
         {
          "Custo": 4.565262639974103,
          "Iteracoes": 1137
         },
         {
          "Custo": 4.565170885247839,
          "Iteracoes": 1138
         },
         {
          "Custo": 4.565079444756289,
          "Iteracoes": 1139
         },
         {
          "Custo": 4.564988317393312,
          "Iteracoes": 1140
         },
         {
          "Custo": 4.564897502056748,
          "Iteracoes": 1141
         },
         {
          "Custo": 4.564806997648321,
          "Iteracoes": 1142
         },
         {
          "Custo": 4.564716803073725,
          "Iteracoes": 1143
         },
         {
          "Custo": 4.564626917242539,
          "Iteracoes": 1144
         },
         {
          "Custo": 4.56453733906825,
          "Iteracoes": 1145
         },
         {
          "Custo": 4.564448067468214,
          "Iteracoes": 1146
         },
         {
          "Custo": 4.564359101363659,
          "Iteracoes": 1147
         },
         {
          "Custo": 4.564270439679662,
          "Iteracoes": 1148
         },
         {
          "Custo": 4.564182081345151,
          "Iteracoes": 1149
         },
         {
          "Custo": 4.564094025292866,
          "Iteracoes": 1150
         },
         {
          "Custo": 4.564006270459368,
          "Iteracoes": 1151
         },
         {
          "Custo": 4.5639188157850015,
          "Iteracoes": 1152
         },
         {
          "Custo": 4.563831660213908,
          "Iteracoes": 1153
         },
         {
          "Custo": 4.563744802694002,
          "Iteracoes": 1154
         },
         {
          "Custo": 4.56365824217694,
          "Iteracoes": 1155
         },
         {
          "Custo": 4.56357197761814,
          "Iteracoes": 1156
         },
         {
          "Custo": 4.5634860079767305,
          "Iteracoes": 1157
         },
         {
          "Custo": 4.56340033221557,
          "Iteracoes": 1158
         },
         {
          "Custo": 4.563314949301216,
          "Iteracoes": 1159
         },
         {
          "Custo": 4.563229858203915,
          "Iteracoes": 1160
         },
         {
          "Custo": 4.563145057897588,
          "Iteracoes": 1161
         },
         {
          "Custo": 4.563060547359833,
          "Iteracoes": 1162
         },
         {
          "Custo": 4.562976325571878,
          "Iteracoes": 1163
         },
         {
          "Custo": 4.562892391518597,
          "Iteracoes": 1164
         },
         {
          "Custo": 4.562808744188485,
          "Iteracoes": 1165
         },
         {
          "Custo": 4.562725382573657,
          "Iteracoes": 1166
         },
         {
          "Custo": 4.562642305669815,
          "Iteracoes": 1167
         },
         {
          "Custo": 4.562559512476256,
          "Iteracoes": 1168
         },
         {
          "Custo": 4.562477001995831,
          "Iteracoes": 1169
         },
         {
          "Custo": 4.5623947732349714,
          "Iteracoes": 1170
         },
         {
          "Custo": 4.56231282520364,
          "Iteracoes": 1171
         },
         {
          "Custo": 4.562231156915349,
          "Iteracoes": 1172
         },
         {
          "Custo": 4.562149767387107,
          "Iteracoes": 1173
         },
         {
          "Custo": 4.562068655639448,
          "Iteracoes": 1174
         },
         {
          "Custo": 4.561987820696403,
          "Iteracoes": 1175
         },
         {
          "Custo": 4.561907261585485,
          "Iteracoes": 1176
         },
         {
          "Custo": 4.5618269773376605,
          "Iteracoes": 1177
         },
         {
          "Custo": 4.561746966987374,
          "Iteracoes": 1178
         },
         {
          "Custo": 4.561667229572509,
          "Iteracoes": 1179
         },
         {
          "Custo": 4.561587764134378,
          "Iteracoes": 1180
         },
         {
          "Custo": 4.561508569717721,
          "Iteracoes": 1181
         },
         {
          "Custo": 4.5614296453706835,
          "Iteracoes": 1182
         },
         {
          "Custo": 4.561350990144799,
          "Iteracoes": 1183
         },
         {
          "Custo": 4.561272603095004,
          "Iteracoes": 1184
         },
         {
          "Custo": 4.561194483279585,
          "Iteracoes": 1185
         },
         {
          "Custo": 4.561116629760208,
          "Iteracoes": 1186
         },
         {
          "Custo": 4.561039041601867,
          "Iteracoes": 1187
         },
         {
          "Custo": 4.56096171787291,
          "Iteracoes": 1188
         },
         {
          "Custo": 4.560884657644992,
          "Iteracoes": 1189
         },
         {
          "Custo": 4.560807859993096,
          "Iteracoes": 1190
         },
         {
          "Custo": 4.560731323995489,
          "Iteracoes": 1191
         },
         {
          "Custo": 4.560655048733743,
          "Iteracoes": 1192
         },
         {
          "Custo": 4.5605790332926865,
          "Iteracoes": 1193
         },
         {
          "Custo": 4.560503276760423,
          "Iteracoes": 1194
         },
         {
          "Custo": 4.560427778228313,
          "Iteracoes": 1195
         },
         {
          "Custo": 4.56035253679094,
          "Iteracoes": 1196
         },
         {
          "Custo": 4.56027755154614,
          "Iteracoes": 1197
         },
         {
          "Custo": 4.560202821594948,
          "Iteracoes": 1198
         },
         {
          "Custo": 4.560128346041622,
          "Iteracoes": 1199
         },
         {
          "Custo": 4.560054123993589,
          "Iteracoes": 1200
         },
         {
          "Custo": 4.559980154561485,
          "Iteracoes": 1201
         },
         {
          "Custo": 4.559906436859101,
          "Iteracoes": 1202
         },
         {
          "Custo": 4.559832970003398,
          "Iteracoes": 1203
         },
         {
          "Custo": 4.559759753114477,
          "Iteracoes": 1204
         },
         {
          "Custo": 4.559686785315581,
          "Iteracoes": 1205
         },
         {
          "Custo": 4.559614065733081,
          "Iteracoes": 1206
         },
         {
          "Custo": 4.5595415934964665,
          "Iteracoes": 1207
         },
         {
          "Custo": 4.559469367738305,
          "Iteracoes": 1208
         },
         {
          "Custo": 4.5593973875942915,
          "Iteracoes": 1209
         },
         {
          "Custo": 4.559325652203186,
          "Iteracoes": 1210
         },
         {
          "Custo": 4.559254160706816,
          "Iteracoes": 1211
         },
         {
          "Custo": 4.559182912250067,
          "Iteracoes": 1212
         },
         {
          "Custo": 4.559111905980885,
          "Iteracoes": 1213
         },
         {
          "Custo": 4.559041141050244,
          "Iteracoes": 1214
         },
         {
          "Custo": 4.558970616612145,
          "Iteracoes": 1215
         },
         {
          "Custo": 4.5589003318236045,
          "Iteracoes": 1216
         },
         {
          "Custo": 4.558830285844644,
          "Iteracoes": 1217
         },
         {
          "Custo": 4.558760477838286,
          "Iteracoes": 1218
         },
         {
          "Custo": 4.558690906970523,
          "Iteracoes": 1219
         },
         {
          "Custo": 4.558621572410322,
          "Iteracoes": 1220
         },
         {
          "Custo": 4.558552473329626,
          "Iteracoes": 1221
         },
         {
          "Custo": 4.558483608903313,
          "Iteracoes": 1222
         },
         {
          "Custo": 4.558414978309209,
          "Iteracoes": 1223
         },
         {
          "Custo": 4.558346580728061,
          "Iteracoes": 1224
         },
         {
          "Custo": 4.558278415343555,
          "Iteracoes": 1225
         },
         {
          "Custo": 4.558210481342264,
          "Iteracoes": 1226
         },
         {
          "Custo": 4.558142777913672,
          "Iteracoes": 1227
         },
         {
          "Custo": 4.558075304250149,
          "Iteracoes": 1228
         },
         {
          "Custo": 4.558008059546928,
          "Iteracoes": 1229
         },
         {
          "Custo": 4.55794104300214,
          "Iteracoes": 1230
         },
         {
          "Custo": 4.557874253816751,
          "Iteracoes": 1231
         },
         {
          "Custo": 4.557807691194562,
          "Iteracoes": 1232
         },
         {
          "Custo": 4.557741354342246,
          "Iteracoes": 1233
         },
         {
          "Custo": 4.557675242469261,
          "Iteracoes": 1234
         },
         {
          "Custo": 4.55760935478792,
          "Iteracoes": 1235
         },
         {
          "Custo": 4.557543690513324,
          "Iteracoes": 1236
         },
         {
          "Custo": 4.557478248863358,
          "Iteracoes": 1237
         },
         {
          "Custo": 4.5574130290587025,
          "Iteracoes": 1238
         },
         {
          "Custo": 4.5573480303228395,
          "Iteracoes": 1239
         },
         {
          "Custo": 4.557283251881963,
          "Iteracoes": 1240
         },
         {
          "Custo": 4.5572186929650735,
          "Iteracoes": 1241
         },
         {
          "Custo": 4.55715435280389,
          "Iteracoes": 1242
         },
         {
          "Custo": 4.557090230632862,
          "Iteracoes": 1243
         },
         {
          "Custo": 4.557026325689204,
          "Iteracoes": 1244
         },
         {
          "Custo": 4.556962637212798,
          "Iteracoes": 1245
         },
         {
          "Custo": 4.556899164446263,
          "Iteracoes": 1246
         },
         {
          "Custo": 4.556835906634909,
          "Iteracoes": 1247
         },
         {
          "Custo": 4.556772863026727,
          "Iteracoes": 1248
         },
         {
          "Custo": 4.556710032872391,
          "Iteracoes": 1249
         },
         {
          "Custo": 4.556647415425246,
          "Iteracoes": 1250
         },
         {
          "Custo": 4.556585009941289,
          "Iteracoes": 1251
         },
         {
          "Custo": 4.556522815679164,
          "Iteracoes": 1252
         },
         {
          "Custo": 4.556460831900166,
          "Iteracoes": 1253
         },
         {
          "Custo": 4.556399057868203,
          "Iteracoes": 1254
         },
         {
          "Custo": 4.556337492849816,
          "Iteracoes": 1255
         },
         {
          "Custo": 4.55627613611416,
          "Iteracoes": 1256
         },
         {
          "Custo": 4.556214986932974,
          "Iteracoes": 1257
         },
         {
          "Custo": 4.556154044580607,
          "Iteracoes": 1258
         },
         {
          "Custo": 4.556093308333991,
          "Iteracoes": 1259
         },
         {
          "Custo": 4.556032777472614,
          "Iteracoes": 1260
         },
         {
          "Custo": 4.555972451278538,
          "Iteracoes": 1261
         },
         {
          "Custo": 4.555912329036392,
          "Iteracoes": 1262
         },
         {
          "Custo": 4.555852410033331,
          "Iteracoes": 1263
         },
         {
          "Custo": 4.555792693559065,
          "Iteracoes": 1264
         },
         {
          "Custo": 4.555733178905813,
          "Iteracoes": 1265
         },
         {
          "Custo": 4.555673865368329,
          "Iteracoes": 1266
         },
         {
          "Custo": 4.555614752243876,
          "Iteracoes": 1267
         },
         {
          "Custo": 4.555555838832196,
          "Iteracoes": 1268
         },
         {
          "Custo": 4.555497124435552,
          "Iteracoes": 1269
         },
         {
          "Custo": 4.555438608358671,
          "Iteracoes": 1270
         },
         {
          "Custo": 4.55538028990876,
          "Iteracoes": 1271
         },
         {
          "Custo": 4.555322168395484,
          "Iteracoes": 1272
         },
         {
          "Custo": 4.555264243130987,
          "Iteracoes": 1273
         },
         {
          "Custo": 4.555206513429825,
          "Iteracoes": 1274
         },
         {
          "Custo": 4.555148978609016,
          "Iteracoes": 1275
         },
         {
          "Custo": 4.555091637988006,
          "Iteracoes": 1276
         },
         {
          "Custo": 4.555034490888652,
          "Iteracoes": 1277
         },
         {
          "Custo": 4.554977536635232,
          "Iteracoes": 1278
         },
         {
          "Custo": 4.554920774554428,
          "Iteracoes": 1279
         },
         {
          "Custo": 4.554864203975307,
          "Iteracoes": 1280
         },
         {
          "Custo": 4.5548078242293375,
          "Iteracoes": 1281
         },
         {
          "Custo": 4.554751634650351,
          "Iteracoes": 1282
         },
         {
          "Custo": 4.554695634574549,
          "Iteracoes": 1283
         },
         {
          "Custo": 4.5546398233405085,
          "Iteracoes": 1284
         },
         {
          "Custo": 4.554584200289149,
          "Iteracoes": 1285
         },
         {
          "Custo": 4.554528764763728,
          "Iteracoes": 1286
         },
         {
          "Custo": 4.554473516109847,
          "Iteracoes": 1287
         },
         {
          "Custo": 4.554418453675436,
          "Iteracoes": 1288
         },
         {
          "Custo": 4.554363576810734,
          "Iteracoes": 1289
         },
         {
          "Custo": 4.5543088848682975,
          "Iteracoes": 1290
         },
         {
          "Custo": 4.554254377202988,
          "Iteracoes": 1291
         },
         {
          "Custo": 4.554200053171945,
          "Iteracoes": 1292
         },
         {
          "Custo": 4.554145912134611,
          "Iteracoes": 1293
         },
         {
          "Custo": 4.554091953452703,
          "Iteracoes": 1294
         },
         {
          "Custo": 4.5540381764902,
          "Iteracoes": 1295
         },
         {
          "Custo": 4.553984580613343,
          "Iteracoes": 1296
         },
         {
          "Custo": 4.553931165190631,
          "Iteracoes": 1297
         },
         {
          "Custo": 4.553877929592801,
          "Iteracoes": 1298
         },
         {
          "Custo": 4.553824873192835,
          "Iteracoes": 1299
         },
         {
          "Custo": 4.553771995365938,
          "Iteracoes": 1300
         },
         {
          "Custo": 4.553719295489539,
          "Iteracoes": 1301
         },
         {
          "Custo": 4.553666772943273,
          "Iteracoes": 1302
         },
         {
          "Custo": 4.553614427108987,
          "Iteracoes": 1303
         },
         {
          "Custo": 4.553562257370725,
          "Iteracoes": 1304
         },
         {
          "Custo": 4.553510263114709,
          "Iteracoes": 1305
         },
         {
          "Custo": 4.553458443729361,
          "Iteracoes": 1306
         },
         {
          "Custo": 4.553406798605256,
          "Iteracoes": 1307
         },
         {
          "Custo": 4.553355327135143,
          "Iteracoes": 1308
         },
         {
          "Custo": 4.553304028713939,
          "Iteracoes": 1309
         },
         {
          "Custo": 4.553252902738694,
          "Iteracoes": 1310
         },
         {
          "Custo": 4.553201948608609,
          "Iteracoes": 1311
         },
         {
          "Custo": 4.553151165725021,
          "Iteracoes": 1312
         },
         {
          "Custo": 4.553100553491386,
          "Iteracoes": 1313
         },
         {
          "Custo": 4.553050111313295,
          "Iteracoes": 1314
         },
         {
          "Custo": 4.55299983859843,
          "Iteracoes": 1315
         },
         {
          "Custo": 4.55294973475659,
          "Iteracoes": 1316
         },
         {
          "Custo": 4.552899799199664,
          "Iteracoes": 1317
         },
         {
          "Custo": 4.5528500313416345,
          "Iteracoes": 1318
         },
         {
          "Custo": 4.552800430598573,
          "Iteracoes": 1319
         },
         {
          "Custo": 4.552750996388605,
          "Iteracoes": 1320
         },
         {
          "Custo": 4.552701728131941,
          "Iteracoes": 1321
         },
         {
          "Custo": 4.552652625250843,
          "Iteracoes": 1322
         },
         {
          "Custo": 4.55260368716962,
          "Iteracoes": 1323
         },
         {
          "Custo": 4.552554913314635,
          "Iteracoes": 1324
         },
         {
          "Custo": 4.552506303114289,
          "Iteracoes": 1325
         },
         {
          "Custo": 4.552457855998997,
          "Iteracoes": 1326
         },
         {
          "Custo": 4.552409571401217,
          "Iteracoes": 1327
         },
         {
          "Custo": 4.5523614487554,
          "Iteracoes": 1328
         },
         {
          "Custo": 4.552313487498033,
          "Iteracoes": 1329
         },
         {
          "Custo": 4.5522656870675675,
          "Iteracoes": 1330
         },
         {
          "Custo": 4.552218046904486,
          "Iteracoes": 1331
         },
         {
          "Custo": 4.552170566451241,
          "Iteracoes": 1332
         },
         {
          "Custo": 4.552123245152253,
          "Iteracoes": 1333
         },
         {
          "Custo": 4.552076082453932,
          "Iteracoes": 1334
         },
         {
          "Custo": 4.552029077804647,
          "Iteracoes": 1335
         },
         {
          "Custo": 4.551982230654717,
          "Iteracoes": 1336
         },
         {
          "Custo": 4.551935540456435,
          "Iteracoes": 1337
         },
         {
          "Custo": 4.551889006664009,
          "Iteracoes": 1338
         },
         {
          "Custo": 4.5518426287335965,
          "Iteracoes": 1339
         },
         {
          "Custo": 4.551796406123301,
          "Iteracoes": 1340
         },
         {
          "Custo": 4.551750338293121,
          "Iteracoes": 1341
         },
         {
          "Custo": 4.551704424704993,
          "Iteracoes": 1342
         },
         {
          "Custo": 4.551658664822745,
          "Iteracoes": 1343
         },
         {
          "Custo": 4.551613058112129,
          "Iteracoes": 1344
         },
         {
          "Custo": 4.551567604040774,
          "Iteracoes": 1345
         },
         {
          "Custo": 4.551522302078215,
          "Iteracoes": 1346
         },
         {
          "Custo": 4.5514771516958445,
          "Iteracoes": 1347
         },
         {
          "Custo": 4.551432152366958,
          "Iteracoes": 1348
         },
         {
          "Custo": 4.551387303566701,
          "Iteracoes": 1349
         },
         {
          "Custo": 4.551342604772085,
          "Iteracoes": 1350
         },
         {
          "Custo": 4.551298055461986,
          "Iteracoes": 1351
         },
         {
          "Custo": 4.551253655117113,
          "Iteracoes": 1352
         },
         {
          "Custo": 4.5512094032200325,
          "Iteracoes": 1353
         },
         {
          "Custo": 4.551165299255131,
          "Iteracoes": 1354
         },
         {
          "Custo": 4.551121342708648,
          "Iteracoes": 1355
         },
         {
          "Custo": 4.551077533068613,
          "Iteracoes": 1356
         },
         {
          "Custo": 4.551033869824894,
          "Iteracoes": 1357
         },
         {
          "Custo": 4.550990352469171,
          "Iteracoes": 1358
         },
         {
          "Custo": 4.550946980494899,
          "Iteracoes": 1359
         },
         {
          "Custo": 4.550903753397364,
          "Iteracoes": 1360
         },
         {
          "Custo": 4.550860670673619,
          "Iteracoes": 1361
         },
         {
          "Custo": 4.550817731822508,
          "Iteracoes": 1362
         },
         {
          "Custo": 4.550774936344658,
          "Iteracoes": 1363
         },
         {
          "Custo": 4.5507322837424535,
          "Iteracoes": 1364
         },
         {
          "Custo": 4.550689773520051,
          "Iteracoes": 1365
         },
         {
          "Custo": 4.550647405183358,
          "Iteracoes": 1366
         },
         {
          "Custo": 4.550605178240047,
          "Iteracoes": 1367
         },
         {
          "Custo": 4.550563092199529,
          "Iteracoes": 1368
         },
         {
          "Custo": 4.550521146572954,
          "Iteracoes": 1369
         },
         {
          "Custo": 4.550479340873195,
          "Iteracoes": 1370
         },
         {
          "Custo": 4.550437674614873,
          "Iteracoes": 1371
         },
         {
          "Custo": 4.550396147314316,
          "Iteracoes": 1372
         },
         {
          "Custo": 4.550354758489555,
          "Iteracoes": 1373
         },
         {
          "Custo": 4.550313507660364,
          "Iteracoes": 1374
         },
         {
          "Custo": 4.55027239434818,
          "Iteracoes": 1375
         },
         {
          "Custo": 4.550231418076161,
          "Iteracoes": 1376
         },
         {
          "Custo": 4.550190578369142,
          "Iteracoes": 1377
         },
         {
          "Custo": 4.550149874753651,
          "Iteracoes": 1378
         },
         {
          "Custo": 4.550109306757886,
          "Iteracoes": 1379
         },
         {
          "Custo": 4.550068873911724,
          "Iteracoes": 1380
         },
         {
          "Custo": 4.550028575746704,
          "Iteracoes": 1381
         },
         {
          "Custo": 4.549988411796028,
          "Iteracoes": 1382
         },
         {
          "Custo": 4.54994838159454,
          "Iteracoes": 1383
         },
         {
          "Custo": 4.549908484678751,
          "Iteracoes": 1384
         },
         {
          "Custo": 4.5498687205868,
          "Iteracoes": 1385
         },
         {
          "Custo": 4.549829088858465,
          "Iteracoes": 1386
         },
         {
          "Custo": 4.549789589035159,
          "Iteracoes": 1387
         },
         {
          "Custo": 4.54975022065991,
          "Iteracoes": 1388
         },
         {
          "Custo": 4.549710983277373,
          "Iteracoes": 1389
         },
         {
          "Custo": 4.549671876433814,
          "Iteracoes": 1390
         },
         {
          "Custo": 4.549632899677102,
          "Iteracoes": 1391
         },
         {
          "Custo": 4.549594052556718,
          "Iteracoes": 1392
         },
         {
          "Custo": 4.549555334623725,
          "Iteracoes": 1393
         },
         {
          "Custo": 4.549516745430784,
          "Iteracoes": 1394
         },
         {
          "Custo": 4.549478284532136,
          "Iteracoes": 1395
         },
         {
          "Custo": 4.549439951483608,
          "Iteracoes": 1396
         },
         {
          "Custo": 4.549401745842588,
          "Iteracoes": 1397
         },
         {
          "Custo": 4.54936366716804,
          "Iteracoes": 1398
         },
         {
          "Custo": 4.549325715020488,
          "Iteracoes": 1399
         },
         {
          "Custo": 4.549287888962006,
          "Iteracoes": 1400
         },
         {
          "Custo": 4.549250188556239,
          "Iteracoes": 1401
         },
         {
          "Custo": 4.549212613368336,
          "Iteracoes": 1402
         },
         {
          "Custo": 4.549175162965028,
          "Iteracoes": 1403
         },
         {
          "Custo": 4.549137836914557,
          "Iteracoes": 1404
         },
         {
          "Custo": 4.549100634786707,
          "Iteracoes": 1405
         },
         {
          "Custo": 4.549063556152759,
          "Iteracoes": 1406
         },
         {
          "Custo": 4.549026600585539,
          "Iteracoes": 1407
         },
         {
          "Custo": 4.548989767659374,
          "Iteracoes": 1408
         },
         {
          "Custo": 4.5489530569501015,
          "Iteracoes": 1409
         },
         {
          "Custo": 4.548916468035049,
          "Iteracoes": 1410
         },
         {
          "Custo": 4.548880000493054,
          "Iteracoes": 1411
         },
         {
          "Custo": 4.548843653904433,
          "Iteracoes": 1412
         },
         {
          "Custo": 4.548807427850995,
          "Iteracoes": 1413
         },
         {
          "Custo": 4.54877132191602,
          "Iteracoes": 1414
         },
         {
          "Custo": 4.548735335684271,
          "Iteracoes": 1415
         },
         {
          "Custo": 4.548699468741985,
          "Iteracoes": 1416
         },
         {
          "Custo": 4.548663720676846,
          "Iteracoes": 1417
         },
         {
          "Custo": 4.548628091078007,
          "Iteracoes": 1418
         },
         {
          "Custo": 4.548592579536084,
          "Iteracoes": 1419
         },
         {
          "Custo": 4.548557185643115,
          "Iteracoes": 1420
         },
         {
          "Custo": 4.548521908992606,
          "Iteracoes": 1421
         },
         {
          "Custo": 4.548486749179485,
          "Iteracoes": 1422
         },
         {
          "Custo": 4.548451705800124,
          "Iteracoes": 1423
         },
         {
          "Custo": 4.548416778452318,
          "Iteracoes": 1424
         },
         {
          "Custo": 4.548381966735278,
          "Iteracoes": 1425
         },
         {
          "Custo": 4.548347270249645,
          "Iteracoes": 1426
         },
         {
          "Custo": 4.548312688597461,
          "Iteracoes": 1427
         },
         {
          "Custo": 4.548278221382182,
          "Iteracoes": 1428
         },
         {
          "Custo": 4.548243868208659,
          "Iteracoes": 1429
         },
         {
          "Custo": 4.54820962868315,
          "Iteracoes": 1430
         },
         {
          "Custo": 4.5481755024133,
          "Iteracoes": 1431
         },
         {
          "Custo": 4.548141489008139,
          "Iteracoes": 1432
         },
         {
          "Custo": 4.548107588078087,
          "Iteracoes": 1433
         },
         {
          "Custo": 4.548073799234923,
          "Iteracoes": 1434
         },
         {
          "Custo": 4.548040122091833,
          "Iteracoes": 1435
         },
         {
          "Custo": 4.548006556263322,
          "Iteracoes": 1436
         },
         {
          "Custo": 4.547973101365304,
          "Iteracoes": 1437
         },
         {
          "Custo": 4.547939757015031,
          "Iteracoes": 1438
         },
         {
          "Custo": 4.547906522831094,
          "Iteracoes": 1439
         },
         {
          "Custo": 4.547873398433455,
          "Iteracoes": 1440
         },
         {
          "Custo": 4.547840383443404,
          "Iteracoes": 1441
         },
         {
          "Custo": 4.547807477483574,
          "Iteracoes": 1442
         },
         {
          "Custo": 4.547774680177942,
          "Iteracoes": 1443
         },
         {
          "Custo": 4.547741991151799,
          "Iteracoes": 1444
         },
         {
          "Custo": 4.547709410031761,
          "Iteracoes": 1445
         },
         {
          "Custo": 4.547676936445767,
          "Iteracoes": 1446
         },
         {
          "Custo": 4.547644570023073,
          "Iteracoes": 1447
         },
         {
          "Custo": 4.547612310394246,
          "Iteracoes": 1448
         },
         {
          "Custo": 4.547580157191153,
          "Iteracoes": 1449
         },
         {
          "Custo": 4.54754811004696,
          "Iteracoes": 1450
         },
         {
          "Custo": 4.547516168596137,
          "Iteracoes": 1451
         },
         {
          "Custo": 4.547484332474435,
          "Iteracoes": 1452
         },
         {
          "Custo": 4.547452601318901,
          "Iteracoes": 1453
         },
         {
          "Custo": 4.547420974767861,
          "Iteracoes": 1454
         },
         {
          "Custo": 4.547389452460907,
          "Iteracoes": 1455
         },
         {
          "Custo": 4.547358034038922,
          "Iteracoes": 1456
         },
         {
          "Custo": 4.547326719144052,
          "Iteracoes": 1457
         },
         {
          "Custo": 4.5472955074196975,
          "Iteracoes": 1458
         },
         {
          "Custo": 4.547264398510519,
          "Iteracoes": 1459
         },
         {
          "Custo": 4.547233392062448,
          "Iteracoes": 1460
         },
         {
          "Custo": 4.547202487722655,
          "Iteracoes": 1461
         },
         {
          "Custo": 4.547171685139551,
          "Iteracoes": 1462
         },
         {
          "Custo": 4.54714098396279,
          "Iteracoes": 1463
         },
         {
          "Custo": 4.5471103838432745,
          "Iteracoes": 1464
         },
         {
          "Custo": 4.547079884433125,
          "Iteracoes": 1465
         },
         {
          "Custo": 4.547049485385708,
          "Iteracoes": 1466
         },
         {
          "Custo": 4.547019186355586,
          "Iteracoes": 1467
         },
         {
          "Custo": 4.546988986998561,
          "Iteracoes": 1468
         },
         {
          "Custo": 4.546958886971647,
          "Iteracoes": 1469
         },
         {
          "Custo": 4.5469288859330765,
          "Iteracoes": 1470
         },
         {
          "Custo": 4.54689898354227,
          "Iteracoes": 1471
         },
         {
          "Custo": 4.5468691794598515,
          "Iteracoes": 1472
         },
         {
          "Custo": 4.546839473347655,
          "Iteracoes": 1473
         },
         {
          "Custo": 4.5468098648687105,
          "Iteracoes": 1474
         },
         {
          "Custo": 4.546780353687219,
          "Iteracoes": 1475
         },
         {
          "Custo": 4.546750939468579,
          "Iteracoes": 1476
         },
         {
          "Custo": 4.546721621879364,
          "Iteracoes": 1477
         },
         {
          "Custo": 4.5466924005873315,
          "Iteracoes": 1478
         },
         {
          "Custo": 4.5466632752614045,
          "Iteracoes": 1479
         },
         {
          "Custo": 4.546634245571663,
          "Iteracoes": 1480
         },
         {
          "Custo": 4.546605311189379,
          "Iteracoes": 1481
         },
         {
          "Custo": 4.546576471786961,
          "Iteracoes": 1482
         },
         {
          "Custo": 4.54654772703798,
          "Iteracoes": 1483
         },
         {
          "Custo": 4.546519076617157,
          "Iteracoes": 1484
         },
         {
          "Custo": 4.546490520200366,
          "Iteracoes": 1485
         },
         {
          "Custo": 4.546462057464615,
          "Iteracoes": 1486
         },
         {
          "Custo": 4.546433688088059,
          "Iteracoes": 1487
         },
         {
          "Custo": 4.546405411749979,
          "Iteracoes": 1488
         },
         {
          "Custo": 4.546377228130792,
          "Iteracoes": 1489
         },
         {
          "Custo": 4.5463491369120534,
          "Iteracoes": 1490
         },
         {
          "Custo": 4.546321137776409,
          "Iteracoes": 1491
         },
         {
          "Custo": 4.546293230407667,
          "Iteracoes": 1492
         },
         {
          "Custo": 4.546265414490708,
          "Iteracoes": 1493
         },
         {
          "Custo": 4.546237689711556,
          "Iteracoes": 1494
         },
         {
          "Custo": 4.546210055757319,
          "Iteracoes": 1495
         },
         {
          "Custo": 4.546182512316228,
          "Iteracoes": 1496
         },
         {
          "Custo": 4.546155059077594,
          "Iteracoes": 1497
         },
         {
          "Custo": 4.546127695731834,
          "Iteracoes": 1498
         },
         {
          "Custo": 4.546100421970452,
          "Iteracoes": 1499
         },
         {
          "Custo": 4.546073237486046,
          "Iteracoes": 1500
         }
        ]
       },
       "encoding": {
        "x": {
         "axis": {
          "title": "Iterações"
         },
         "field": "Iteracoes",
         "type": "quantitative"
        },
        "y": {
         "axis": {
          "title": "Custo"
         },
         "field": "Custo",
         "type": "quantitative"
        }
       },
       "mark": {
        "color": "red",
        "type": "line"
       }
      },
      "image/png": "[encoded data removed]",
      "text/plain": [
       "<VegaLite 2 object>\n",
       "\n",
       "If you see this message, it means the renderer has not been properly enabled\n",
       "for the frontend that you are using. For more information, see\n",
       "https://altair-viz.github.io/user_guide/troubleshooting.html\n"
      ]
     },
     "execution_count": 39,
     "metadata": {},
     "output_type": "execute_result"
    }
   ],
   "source": [
    "custo_plot"
   ]
  },
  {
   "cell_type": "code",
   "execution_count": null,
   "metadata": {},
   "outputs": [],
   "source": []
  }
 ],
 "metadata": {
  "kernelspec": {
   "display_name": "Python 3",
   "language": "python",
   "name": "python3"
  },
  "language_info": {
   "codemirror_mode": {
    "name": "ipython",
    "version": 3
   },
   "file_extension": ".py",
   "mimetype": "text/x-python",
   "name": "python",
   "nbconvert_exporter": "python",
   "pygments_lexer": "ipython3",
   "version": "3.7.0"
  }
 },
 "nbformat": 4,
 "nbformat_minor": 2
}
