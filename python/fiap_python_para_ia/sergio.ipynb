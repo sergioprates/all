{
 "cells": [
  {
   "cell_type": "markdown",
   "metadata": {},
   "source": [
    "# Desafio 1"
   ]
  },
  {
   "cell_type": "markdown",
   "metadata": {},
   "source": [
    "nome  = 'josé da silva martins'\n",
    "nome.title()"
   ]
  },
  {
   "cell_type": "markdown",
   "metadata": {},
   "source": [
    "# Desafio 2"
   ]
  },
  {
   "cell_type": "code",
   "execution_count": 8,
   "metadata": {},
   "outputs": [
    {
     "name": "stdout",
     "output_type": "stream",
     "text": [
      "True\n",
      "False\n"
     ]
    }
   ],
   "source": [
    "def isImpar(numero): return numero % 2 != 0 \n",
    "\n",
    "print(isImpar(3))\n",
    "print(isImpar(4))"
   ]
  },
  {
   "cell_type": "markdown",
   "metadata": {},
   "source": [
    "# Desafio 3"
   ]
  },
  {
   "cell_type": "code",
   "execution_count": 5,
   "metadata": {},
   "outputs": [],
   "source": [
    "l = [1.2232, 2.322, 43.23131, 6.34324, 78.3243]"
   ]
  },
  {
   "cell_type": "code",
   "execution_count": 6,
   "metadata": {},
   "outputs": [
    {
     "name": "stdout",
     "output_type": "stream",
     "text": [
      "1.22\n",
      "2.32\n",
      "43.23\n",
      "6.34\n",
      "78.32\n"
     ]
    }
   ],
   "source": [
    "for numero in l:\n",
    "    print(round(numero, 2))"
   ]
  },
  {
   "cell_type": "markdown",
   "metadata": {},
   "source": [
    "# Desafio 4"
   ]
  },
  {
   "cell_type": "code",
   "execution_count": 22,
   "metadata": {},
   "outputs": [
    {
     "data": {
      "text/plain": [
       "{'quantidadePalavras': 103, 'quantidadeNumeros': 2, 'quantidadeFrases': 3}"
      ]
     },
     "execution_count": 22,
     "metadata": {},
     "output_type": "execute_result"
    }
   ],
   "source": [
    "def retornaEmFormaDeDicionario():  \n",
    "    texto = 'Brasil, oficialmente República Federativa do Brasil é o maior país da América do Sul e da região da América Latina, sendo o \\\n",
    "    quinto maior do mundo em área territorial (equivalente a 47 porcento do território sul-americano) e sexto em população (com \\\n",
    "    mais de 200 milhões de habitantes). É o único país na América onde se fala majoritariamente a língua portuguesa e o maior país \\\n",
    "    lusófono do planeta, além de ser uma das nações mais multiculturais e etnicamente diversas, em decorrência da forte imigração \\\n",
    "    oriunda de variados locais do mundo.'\n",
    "\n",
    "    frases = texto.split('.')\n",
    "    palavras = texto.split(' ')\n",
    "\n",
    "    quantidadeNumeros = 0\n",
    "    quantidadePalavras = 0\n",
    "\n",
    "    for palavra in palavras:\n",
    "        if(palavra.isdigit()):\n",
    "            quantidadeNumeros += 1\n",
    "        else:\n",
    "            quantidadePalavras += 1\n",
    "\n",
    "    return {'quantidadePalavras':quantidadePalavras,'quantidadeNumeros':quantidadeNumeros,'quantidadeFrases':len(frases)}\n",
    "\n",
    "retornaEmFormaDeDicionario()"
   ]
  },
  {
   "cell_type": "markdown",
   "metadata": {},
   "source": [
    "# Desafio 5"
   ]
  },
  {
   "cell_type": "code",
   "execution_count": 13,
   "metadata": {},
   "outputs": [],
   "source": [
    "def fatorial(num):\n",
    "    calculo = num;\n",
    "    while(num - 1 != 0):\n",
    "        if (num <= 1):\n",
    "            break\n",
    "        else:\n",
    "            calculo = (calculo * (num - 1))\n",
    "            num -= 1\n",
    "    return calculo\n",
    "\n",
    "fatorial(5)"
   ]
  },
  {
   "cell_type": "markdown",
   "metadata": {},
   "source": [
    "# Desafio 6"
   ]
  },
  {
   "cell_type": "code",
   "execution_count": 15,
   "metadata": {},
   "outputs": [
    {
     "data": {
      "text/plain": [
       "122.0"
      ]
     },
     "execution_count": 15,
     "metadata": {},
     "output_type": "execute_result"
    }
   ],
   "source": [
    "def fahrenheitToCelsius(celsius):\n",
    "    return 9.0/5.0 * celsius + 32\n",
    "\n",
    "fahrenheitToCelsius(50)"
   ]
  },
  {
   "cell_type": "code",
   "execution_count": 16,
   "metadata": {},
   "outputs": [
    {
     "data": {
      "text/plain": [
       "10.0"
      ]
     },
     "execution_count": 16,
     "metadata": {},
     "output_type": "execute_result"
    }
   ],
   "source": [
    "def celsiusToFahrenheit(fahrenheit):\n",
    "    return (fahrenheit - 32) * 5.0/9.0\n",
    "\n",
    "celsiusToFahrenheit(50)"
   ]
  },
  {
   "cell_type": "code",
   "execution_count": null,
   "metadata": {},
   "outputs": [],
   "source": []
  }
 ],
 "metadata": {
  "kernelspec": {
   "display_name": "Python 3",
   "language": "python",
   "name": "python3"
  },
  "language_info": {
   "codemirror_mode": {
    "name": "ipython",
    "version": 3
   },
   "file_extension": ".py",
   "mimetype": "text/x-python",
   "name": "python",
   "nbconvert_exporter": "python",
   "pygments_lexer": "ipython3",
   "version": "3.7.0"
  }
 },
 "nbformat": 4,
 "nbformat_minor": 2
}
